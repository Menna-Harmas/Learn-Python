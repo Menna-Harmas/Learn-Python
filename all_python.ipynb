{
 "cells": [
  {
   "cell_type": "markdown",
   "metadata": {},
   "source": [
    "# <span style=\"color:skyblue\"> [1]  type() </span>"
   ]
  },
  {
   "cell_type": "markdown",
   "metadata": {},
   "source": [
    "- <span style=\"color:salmon\"> All Data in Python is Object </span>"
   ]
  },
  {
   "cell_type": "code",
   "execution_count": 5,
   "metadata": {},
   "outputs": [
    {
     "name": "stdout",
     "output_type": "stream",
     "text": [
      "<class 'int'>\n",
      "<class 'int'>\n",
      "<class 'int'>\n",
      "<class 'float'>\n",
      "<class 'float'>\n",
      "<class 'float'>\n",
      "<class 'str'>\n",
      "<class 'list'>\n",
      "<class 'tuple'>\n",
      "<class 'dict'>\n",
      "<class 'bool'>\n"
     ]
    }
   ],
   "source": [
    "print(type(10))  # int => Integer\n",
    "print(type(100))  # int => Integer\n",
    "print(type(-50))  # int => Integer\n",
    "\n",
    "print(type(100.9))  # float => Floating Point Number\n",
    "print(type(1.950950))  # float => Floating Point Number\n",
    "print(type(-100.9595))  # float => Floating Point Number\n",
    "\n",
    "print(type(\"Hello Python\"))  # str => String\n",
    "\n",
    "print(type([1, 2, 3, 4, 5]))  # list => List\n",
    "\n",
    "print(type((1, 2, 3, 4, 5)))  # tuple => Tuple\n",
    "\n",
    "print(type({\"One\": 1, \"Two\": 2, \"Three\": 3}))  # dict => Dictionary\n",
    "\n",
    "print(type(2 == 2))  # bool => Boolean"
   ]
  },
  {
   "cell_type": "markdown",
   "metadata": {},
   "source": [
    "# <span style=\"color:skyblue\">[2]  Variables  </span>"
   ]
  },
  {
   "cell_type": "markdown",
   "metadata": {},
   "source": [
    "- <span style=\"color:salmon\"> Syntax => [Variable Name] [Assignment Operator] [Value] </span>"
   ]
  },
  {
   "cell_type": "markdown",
   "metadata": {},
   "source": [
    "- <span style=\"color:salmon\"> Name Convention and Rules </span>\n",
    "\n",
    "- Can Start With (a-z A-Z) Or Underscore\n",
    "\n",
    "- You Cannot With Num Or Special Characters\n",
    "\n",
    "- Can Include (0-9) Or Underscore\n",
    "\n",
    "- Cannot Include Special Characters\n",
    "\n",
    "- Name is Not Like name [ Case Sensitive ]\n",
    " "
   ]
  },
  {
   "cell_type": "code",
   "execution_count": 7,
   "metadata": {},
   "outputs": [
    {
     "name": "stdout",
     "output_type": "stream",
     "text": [
      "menna harmas\n",
      "menna harmas\n",
      "menna harmas\n"
     ]
    }
   ],
   "source": [
    "name = \"menna harmas\"  # Single Word => Normal\n",
    "myName = \"menna harmas\"  # Two Words => camelCase\n",
    "my_name = \"menna harmas\"  # Two Words => snake_case\n",
    "\n",
    "print(name)\n",
    "print(myName)\n",
    "print(my_name)"
   ]
  },
  {
   "cell_type": "markdown",
   "metadata": {},
   "source": [
    " - <span style=\"color:salmon\"> Source Code : </span> Original Code You Write it in Computer\n",
    "\n",
    "  - <span style=\"color:salmon\"> Translation : </span> Converting Source Code Into Machine Language\n",
    "\n",
    "  - <span style=\"color:salmon\"> Compilation : </span> Translate Code Before Run Time\n",
    "\n",
    "  - <span style=\"color:salmon\"> Run-Time : </span> Period App Take To Executing Commands\n",
    "\n",
    "  - <span style=\"color:salmon\"> Interpreted : </span> Code Translated On The Fly During Execution"
   ]
  },
  {
   "cell_type": "markdown",
   "metadata": {},
   "source": [
    "- <span style=\"color:salmon\"> Reserved Words </span>"
   ]
  },
  {
   "cell_type": "code",
   "execution_count": 9,
   "metadata": {},
   "outputs": [
    {
     "name": "stdout",
     "output_type": "stream",
     "text": [
      "\n",
      "Here is a list of the Python keywords.  Enter any keyword to get more help.\n",
      "\n",
      "False               class               from                or\n",
      "None                continue            global              pass\n",
      "True                def                 if                  raise\n",
      "and                 del                 import              return\n",
      "as                  elif                in                  try\n",
      "assert              else                is                  while\n",
      "async               except              lambda              with\n",
      "await               finally             nonlocal            yield\n",
      "break               for                 not                 \n",
      "\n"
     ]
    }
   ],
   "source": [
    "help(\"keywords\")"
   ]
  },
  {
   "cell_type": "code",
   "execution_count": 10,
   "metadata": {},
   "outputs": [
    {
     "name": "stdout",
     "output_type": "stream",
     "text": [
      "1\n",
      "2\n",
      "3\n"
     ]
    }
   ],
   "source": [
    "\n",
    "a, b, c = 1, 2, 3\n",
    "\n",
    "print(a)\n",
    "print(b)\n",
    "print(c)"
   ]
  },
  {
   "cell_type": "markdown",
   "metadata": {},
   "source": [
    "# <span style=\"color:skyblue\">[3]  Escape Sequences Characters  </span>"
   ]
  },
  {
   "cell_type": "markdown",
   "metadata": {},
   "source": [
    "- <span style=\"color:salmon\"> \\b </span>\\b => Back Space\n",
    "\n",
    "- <span style=\"color:salmon\"> \\n </span> new line => Escape New Line + \\\n",
    "\n",
    "- <span style=\"color:salmon\"> \\\\ </span>  => Escape Back Slash\n",
    "\n",
    "- <span style=\"color:salmon\"> \\' </span>  => Escape Single Quotes\n",
    "\n",
    "- <span style=\"color:salmon\"> \\\" </span>  => Escape Double Quotes\n",
    "\n",
    "- <span style=\"color:salmon\"> \\n </span>  => Line Feed\n",
    "\n",
    "- <span style=\"color:salmon\"> \\r </span>  => Carriage Return\n",
    "\n",
    "- <span style=\"color:salmon\"> \\t </span>  => Horizontal Tab\n",
    "\n",
    "- <span style=\"color:salmon\"> \\xhh </span>  => Character Hex Value"
   ]
  },
  {
   "cell_type": "code",
   "execution_count": 12,
   "metadata": {},
   "outputs": [
    {
     "name": "stdout",
     "output_type": "stream",
     "text": [
      "HellWorld\n",
      "\n",
      "\n",
      "Hello I Love Python\n",
      "\n",
      "\n",
      "I Love Back Slash \\\n",
      "\n",
      "\n",
      "I Love Single Quote 'Test' \n",
      "\n",
      "\n",
      "I Love Double Quotes \"Test\" \n",
      "\n",
      "\n",
      "Hello World\n",
      "Second Line\n",
      "\n",
      "\n",
      "Abcde6\n",
      "\n",
      "\n",
      "Hello\tPython\n",
      "\n",
      "\n",
      "Os\n"
     ]
    }
   ],
   "source": [
    "# Back Space\n",
    "\n",
    "print(\"Hello\\bWorld\")  # Will Remove o\n",
    "print(\"\\n\")\n",
    "\n",
    "# Escape New Line + Back Slash\n",
    "\n",
    "print(\"Hello \\\n",
    "I Love \\\n",
    "Python\")\n",
    "print(\"\\n\")\n",
    "\n",
    "# Escape Back Slash\n",
    "\n",
    "print(\"I Love Back Slash \\\\\")\n",
    "print(\"\\n\")\n",
    "\n",
    "# Escape Single Quote\n",
    "\n",
    "print('I Love Single Quote \\'Test\\' ')\n",
    "print(\"\\n\")\n",
    "\n",
    "# Escape Double Quotes\n",
    "\n",
    "print(\"I Love Double Quotes \\\"Test\\\" \")\n",
    "print(\"\\n\")\n",
    "\n",
    "# Line Feed\n",
    "\n",
    "print(\"Hello World\\nSecond Line\")\n",
    "print(\"\\n\")\n",
    "\n",
    "# Carriage Return\n",
    "\n",
    "print(\"123456\\rAbcde\")\n",
    "print(\"\\n\")\n",
    "\n",
    "# Horizontal Tab\n",
    "\n",
    "print(\"Hello\\tPython\")\n",
    "print(\"\\n\")\n",
    "\n",
    "# Character Hex Value\n",
    "\n",
    "print(\"\\x4F\\x73\")"
   ]
  },
  {
   "cell_type": "markdown",
   "metadata": {},
   "source": [
    "# <span style=\"color:skyblue\">[4]  Concatenation  </span>"
   ]
  },
  {
   "cell_type": "code",
   "execution_count": 14,
   "metadata": {},
   "outputs": [
    {
     "name": "stdout",
     "output_type": "stream",
     "text": [
      "I Love Python\n",
      "I Love Python\n",
      "First Second Third\n",
      "A B C\n"
     ]
    }
   ],
   "source": [
    "msg = \"I Love\"\n",
    "lang = \"Python\"\n",
    "print(msg + \" \" + lang)\n",
    "\n",
    "full = msg + \" \" + lang\n",
    "print(full)\n",
    "\n",
    "a = \"First \\\n",
    "Second \\\n",
    "Third\"\n",
    "\n",
    "b = \"A \\\n",
    "B \\\n",
    "C\"\n",
    "\n",
    "print(a + \"\\n\" + b)\n",
    "\n",
    "# print(\"Hello \" + 1)  # Error"
   ]
  },
  {
   "cell_type": "markdown",
   "metadata": {},
   "source": [
    "# <span style=\"color:skyblue\">[5]  Strings </span>"
   ]
  },
  {
   "cell_type": "code",
   "execution_count": 15,
   "metadata": {},
   "outputs": [
    {
     "name": "stdout",
     "output_type": "stream",
     "text": [
      "This is Single Quote\n",
      "This is Double Quotes\n",
      "This is Single Quote \"Test\"\n",
      "This is Double Quotes 'Test'\n",
      "First\n",
      "Second 'Test' \"Test\"\n",
      "Third\n",
      "First\n",
      "Second \"Test\" \\\\ 'Test'\n",
      "Third\n"
     ]
    }
   ],
   "source": [
    "myStringOne = 'This is Single Quote'\n",
    "myStringTwo = \"This is Double Quotes\"\n",
    "\n",
    "print(myStringOne)\n",
    "print(myStringTwo)\n",
    "\n",
    "myStringThree = 'This is Single Quote \"Test\"'\n",
    "myStringFour = \"This is Double Quotes 'Test'\"\n",
    "\n",
    "print(myStringThree)\n",
    "print(myStringFour)\n",
    "\n",
    "myStringFive = '''First\n",
    "Second 'Test' \"Test\"\n",
    "Third'''\n",
    "\n",
    "myStringSix = \"\"\"First\n",
    "Second \"Test\" \\\\\\ 'Test'\n",
    "Third\"\"\"\n",
    "\n",
    "print(myStringFive)\n",
    "print(myStringSix)"
   ]
  },
  {
   "cell_type": "markdown",
   "metadata": {},
   "source": [
    "# <span style=\"color:skyblue\">[6]  Strings Indexing & Slicing </span>"
   ]
  },
  {
   "cell_type": "markdown",
   "metadata": {},
   "source": [
    "- [1] All Data in Python is Object\n",
    "\n",
    "- [2] Object Contain Elements\n",
    "\n",
    "- [3] Every Element Has Its Own Index\n",
    "\n",
    "- [4] Python Use Zero Based Indexing ( Index Start From Zero )\n",
    "\n",
    "- [5] Use Square Brackets To Access Element\n",
    "\n",
    "- [6] Enable Accessing Parts Of Strings, Tuples or Lists"
   ]
  },
  {
   "cell_type": "markdown",
   "metadata": {},
   "source": [
    "- <span style=\"color:salmon\"> Indexing ( Access Single Item ) </span>"
   ]
  },
  {
   "cell_type": "code",
   "execution_count": 17,
   "metadata": {},
   "outputs": [
    {
     "name": "stdout",
     "output_type": "stream",
     "text": [
      "I\n",
      "t\n",
      "n\n",
      "P\n"
     ]
    }
   ],
   "source": [
    "myString = \"I Love Python\"\n",
    "\n",
    "print(myString[0])  # Index 0 => I\n",
    "print(myString[9])  # Index 9 => t\n",
    "\n",
    "print(myString[-1])  # Index -1 => First Character From End\n",
    "print(myString[-6])  # Index -6 => 6th Character From End"
   ]
  },
  {
   "cell_type": "markdown",
   "metadata": {},
   "source": [
    "- <span style=\"color:salmon\"> Slicing ( Access Multiple Sequence Items ) </span>"
   ]
  },
  {
   "cell_type": "markdown",
   "metadata": {},
   "source": [
    "- [Start:End] End Not Included\n",
    "- [Start:End:Steps]"
   ]
  },
  {
   "cell_type": "code",
   "execution_count": 18,
   "metadata": {},
   "outputs": [
    {
     "name": "stdout",
     "output_type": "stream",
     "text": [
      "yth\n",
      "ov\n",
      "I Love Pyt\n",
      "e Python\n",
      "I Love Python\n",
      "I Love Python\n",
      "I Love Python\n",
      "ILv yhn\n",
      "Io tn\n"
     ]
    }
   ],
   "source": [
    "# myString = \"I Love Python\"\n",
    "\n",
    "print(myString[8:11])  # yth\n",
    "print(myString[3:5])  # ov\n",
    "\n",
    "print(myString[:10])  # If Start Is Not Here Will Start From 0 (I Love Pyt)\n",
    "print(myString[5:])  # If End Is Not Here Will Go To The End (e Python)\n",
    "print(myString[:])  # Full Data\n",
    "\n",
    "print(myString[0::1])  # Full Data\n",
    "print(myString[::1])  # Full Data\n",
    "\n",
    "print(myString[::2])\n",
    "print(myString[::3])"
   ]
  },
  {
   "cell_type": "markdown",
   "metadata": {},
   "source": [
    "# <span style=\"color:skyblue\">[7] Strings Methods </span>"
   ]
  },
  {
   "cell_type": "markdown",
   "metadata": {},
   "source": [
    "- <span style=\"color:salmon\"> strip() rstrip() lstrip() </span>"
   ]
  },
  {
   "cell_type": "code",
   "execution_count": 19,
   "metadata": {},
   "outputs": [
    {
     "name": "stdout",
     "output_type": "stream",
     "text": [
      "I Love Python\n",
      "    I Love Python\n",
      "I Love Python    \n",
      "I Love Python\n",
      "#####I Love Python\n",
      "I Love Python####\n",
      "I Love Python\n",
      "@#@#@#I Love Python\n",
      "I Love Python@#@#@#\n"
     ]
    }
   ],
   "source": [
    "a = \"    I Love Python    \"\n",
    "print(a.strip())\n",
    "print(a.rstrip())\n",
    "print(a.lstrip())\n",
    "\n",
    "a = \"#####I Love Python####\"\n",
    "print(a.strip(\"#\"))\n",
    "print(a.rstrip(\"#\"))\n",
    "print(a.lstrip(\"#\"))\n",
    "\n",
    "a = \"@#@#@#I Love Python@#@#@#\"\n",
    "print(a.strip(\"@#\"))\n",
    "print(a.rstrip(\"@#\"))\n",
    "print(a.lstrip(\"@#\"))"
   ]
  },
  {
   "cell_type": "markdown",
   "metadata": {},
   "source": [
    "- <span style=\"color:salmon\"> title() </span>"
   ]
  },
  {
   "cell_type": "code",
   "execution_count": 20,
   "metadata": {},
   "outputs": [
    {
     "name": "stdout",
     "output_type": "stream",
     "text": [
      "I Love 2D Graphics And 3G Technology And Python\n"
     ]
    }
   ],
   "source": [
    "b = \"I Love 2d Graphics and 3g Technology and python\"\n",
    "print(b.title())"
   ]
  },
  {
   "cell_type": "markdown",
   "metadata": {},
   "source": [
    "- <span style=\"color:salmon\"> capitalize() </span>"
   ]
  },
  {
   "cell_type": "code",
   "execution_count": 21,
   "metadata": {},
   "outputs": [
    {
     "name": "stdout",
     "output_type": "stream",
     "text": [
      "I love 2d graphics and 3g technology and python\n"
     ]
    }
   ],
   "source": [
    "b = \"I Love 2d Graphics and 3g Technology and python\"\n",
    "print(b.capitalize())"
   ]
  },
  {
   "cell_type": "markdown",
   "metadata": {},
   "source": [
    "- <span style=\"color:salmon\"> zfill() </span>"
   ]
  },
  {
   "cell_type": "code",
   "execution_count": 22,
   "metadata": {},
   "outputs": [
    {
     "name": "stdout",
     "output_type": "stream",
     "text": [
      "1\n",
      "11\n",
      "111\n",
      "1111\n",
      "0001\n",
      "0011\n",
      "0111\n",
      "1111\n"
     ]
    }
   ],
   "source": [
    "c, d, e, f = \"1\", \"11\", \"111\", \"1111\"\n",
    "\n",
    "print(c)\n",
    "print(d)\n",
    "print(e)\n",
    "print(f)\n",
    "\n",
    "print(c.zfill(4))\n",
    "print(d.zfill(4))\n",
    "print(e.zfill(4))\n",
    "print(f.zfill(4))"
   ]
  },
  {
   "cell_type": "markdown",
   "metadata": {},
   "source": [
    "- <span style=\"color:salmon\"> upper() </span>"
   ]
  },
  {
   "cell_type": "code",
   "execution_count": 23,
   "metadata": {},
   "outputs": [
    {
     "name": "stdout",
     "output_type": "stream",
     "text": [
      "OSAMA\n"
     ]
    }
   ],
   "source": [
    "g = \"osama\"\n",
    "\n",
    "print(g.upper())"
   ]
  },
  {
   "cell_type": "markdown",
   "metadata": {},
   "source": [
    "- <span style=\"color:salmon\"> lower() </span>"
   ]
  },
  {
   "cell_type": "code",
   "execution_count": 24,
   "metadata": {},
   "outputs": [
    {
     "name": "stdout",
     "output_type": "stream",
     "text": [
      "osama\n"
     ]
    }
   ],
   "source": [
    "h = \"OSama\"\n",
    "\n",
    "print(h.lower())"
   ]
  },
  {
   "cell_type": "markdown",
   "metadata": {},
   "source": [
    "- <span style=\"color:salmon\"> split() rsplit() </span>"
   ]
  },
  {
   "cell_type": "code",
   "execution_count": 25,
   "metadata": {},
   "outputs": [
    {
     "name": "stdout",
     "output_type": "stream",
     "text": [
      "['I', 'Love', 'Python', 'and', 'PHP', 'and', 'MySQL']\n",
      "['I', 'Love', 'Python', 'and', 'PHP', 'and', 'MySQL']\n",
      "['I', 'Love', 'Python', 'and-PHP-and-MySQL']\n",
      "['I-Love-Python-and', 'PHP', 'and', 'MySQL']\n"
     ]
    }
   ],
   "source": [
    "a = \"I Love Python and PHP and MySQL\"\n",
    "print(a.split())\n",
    "\n",
    "b = \"I-Love-Python-and-PHP-and-MySQL\"\n",
    "print(b.split(\"-\"))\n",
    "\n",
    "c = \"I-Love-Python-and-PHP-and-MySQL\"\n",
    "print(c.split(\"-\", 3))\n",
    "\n",
    "d = \"I-Love-Python-and-PHP-and-MySQL\"\n",
    "print(d.rsplit(\"-\", 3))"
   ]
  },
  {
   "cell_type": "markdown",
   "metadata": {},
   "source": [
    "- <span style=\"color:salmon\"> center() </span>"
   ]
  },
  {
   "cell_type": "code",
   "execution_count": 26,
   "metadata": {},
   "outputs": [
    {
     "name": "stdout",
     "output_type": "stream",
     "text": [
      "  Osama  \n",
      "##Osama##\n",
      "@@@@@Osama@@@@@\n"
     ]
    }
   ],
   "source": [
    "e = \"Osama\"\n",
    "print(e.center(9))  # Spaces\n",
    "print(e.center(9, \"#\"))  # Hashes\n",
    "print(e.center(15, \"@\"))  # @"
   ]
  },
  {
   "cell_type": "markdown",
   "metadata": {},
   "source": [
    "- <span style=\"color:salmon\">count() </span>"
   ]
  },
  {
   "cell_type": "code",
   "execution_count": 27,
   "metadata": {},
   "outputs": [
    {
     "name": "stdout",
     "output_type": "stream",
     "text": [
      "2\n",
      "1\n"
     ]
    }
   ],
   "source": [
    "f = \"I Love Python and PHP Because PHP is Easy\"\n",
    "print(f.count(\"PHP\"))  # 2 PHP Words\n",
    "print(f.count(\"PHP\", 0, 25))  # Only One PHP Word"
   ]
  },
  {
   "cell_type": "markdown",
   "metadata": {},
   "source": [
    "- <span style=\"color:salmon\"> swapcase() </span>"
   ]
  },
  {
   "cell_type": "code",
   "execution_count": 28,
   "metadata": {},
   "outputs": [
    {
     "name": "stdout",
     "output_type": "stream",
     "text": [
      "i lOVE pYTHON\n",
      "I Love Python\n"
     ]
    }
   ],
   "source": [
    "g = \"I Love Python\"\n",
    "h = \"i lOVE pYTHON\"\n",
    "\n",
    "print(g.swapcase())\n",
    "print(h.swapcase())"
   ]
  },
  {
   "cell_type": "markdown",
   "metadata": {},
   "source": [
    "- <span style=\"color:salmon\"> startswith()  endswith() </span>"
   ]
  },
  {
   "cell_type": "code",
   "execution_count": 29,
   "metadata": {},
   "outputs": [
    {
     "name": "stdout",
     "output_type": "stream",
     "text": [
      "True\n",
      "False\n",
      "True\n",
      "True\n",
      "False\n",
      "True\n"
     ]
    }
   ],
   "source": [
    "i = \"I Love Python\"\n",
    "print(i.startswith(\"I\"))\n",
    "print(i.startswith(\"S\"))\n",
    "print(i.startswith(\"P\", 7, 12))\n",
    "\n",
    "\n",
    "j = \"I Love Python\"\n",
    "print(j.endswith(\"n\"))\n",
    "print(j.endswith(\"S\"))\n",
    "print(j.endswith(\"e\", 2, 6))"
   ]
  },
  {
   "cell_type": "markdown",
   "metadata": {},
   "source": [
    "- <span style=\"color:salmon\"> index(SubString, Start, End) </span>"
   ]
  },
  {
   "cell_type": "code",
   "execution_count": 31,
   "metadata": {},
   "outputs": [
    {
     "name": "stdout",
     "output_type": "stream",
     "text": [
      "7\n",
      "7\n"
     ]
    }
   ],
   "source": [
    "a = \"I Love Python\"\n",
    "\n",
    "print(a.index(\"P\")) # Index Number 7\n",
    "\n",
    "print(a.index(\"P\", 0, 10)) # Index Number 7\n",
    "\n",
    "# print(a.index(\"P\", 0, 5)) # Through Error"
   ]
  },
  {
   "cell_type": "markdown",
   "metadata": {},
   "source": [
    "- <span style=\"color:salmon\"> find(SubString, Start, End) </span>"
   ]
  },
  {
   "cell_type": "code",
   "execution_count": 32,
   "metadata": {},
   "outputs": [
    {
     "name": "stdout",
     "output_type": "stream",
     "text": [
      "7\n",
      "7\n",
      "-1\n"
     ]
    }
   ],
   "source": [
    "b = \"I Love Python\"\n",
    "print(b.find(\"P\"))  # Index Number 7\n",
    "print(b.find(\"P\", 0, 10))  # Index Number 7\n",
    "print(b.find(\"P\", 0, 5))  # -1"
   ]
  },
  {
   "cell_type": "markdown",
   "metadata": {},
   "source": [
    "- <span style=\"color:salmon\"> rjust(Width, Fill Char) ljust(Width, Fill Char) </span>"
   ]
  },
  {
   "cell_type": "code",
   "execution_count": 33,
   "metadata": {},
   "outputs": [
    {
     "name": "stdout",
     "output_type": "stream",
     "text": [
      "     Osama\n",
      "#####Osama\n",
      "Osama     \n",
      "Osama#####\n"
     ]
    }
   ],
   "source": [
    "c = \"Osama\"\n",
    "print(c.rjust(10))\n",
    "print(c.rjust(10, \"#\"))\n",
    "\n",
    "d = \"Osama\"\n",
    "print(d.ljust(10))\n",
    "print(d.ljust(10, \"#\"))"
   ]
  },
  {
   "cell_type": "markdown",
   "metadata": {},
   "source": [
    "- <span style=\"color:salmon\"> splitlines() </span>"
   ]
  },
  {
   "cell_type": "code",
   "execution_count": 34,
   "metadata": {},
   "outputs": [
    {
     "name": "stdout",
     "output_type": "stream",
     "text": [
      "['First Line', 'Second Line', 'Third Line']\n",
      "['First Line', 'Second Line', 'Third Line']\n"
     ]
    }
   ],
   "source": [
    "e = \"\"\"First Line\n",
    "Second Line\n",
    "Third Line\"\"\"\n",
    "\n",
    "print(e.splitlines())\n",
    "\n",
    "f = \"First Line\\nSecond Line\\nThird Line\"\n",
    "\n",
    "print(f.splitlines())"
   ]
  },
  {
   "cell_type": "markdown",
   "metadata": {},
   "source": [
    "- <span style=\"color:salmon\"> expandtabs() </span>"
   ]
  },
  {
   "cell_type": "code",
   "execution_count": 36,
   "metadata": {},
   "outputs": [
    {
     "name": "stdout",
     "output_type": "stream",
     "text": [
      "Hello World I Love  Python\n",
      "True\n",
      "False\n",
      "\n",
      "\n",
      "True\n",
      "False\n",
      "\n",
      "\n",
      "True\n",
      "False\n",
      "\n",
      "\n",
      "True\n",
      "True\n",
      "False\n",
      "\n",
      "\n",
      "True\n",
      "False\n",
      "\n",
      "\n",
      "True\n",
      "True\n"
     ]
    }
   ],
   "source": [
    "g = \"Hello\\tWorld\\tI\\tLove\\tPython\"\n",
    "print(g.expandtabs(2))\n",
    "\n",
    "one = \"I Love Python And 3G\"\n",
    "two = \"I Love Python And 3g\"\n",
    "print(one.istitle())\n",
    "print(two.istitle())\n",
    "print(\"\\n\")\n",
    "\n",
    "three = \" \"\n",
    "four = \"\"\n",
    "print(three.isspace())\n",
    "print(four.isspace())\n",
    "print(\"\\n\")\n",
    "\n",
    "five = 'i love python'\n",
    "six = 'I Love Python'\n",
    "print(five.islower())\n",
    "print(six.islower())\n",
    "print(\"\\n\")\n",
    "\n",
    "seven = \"osama_elzero\"\n",
    "eight = \"OsamaElzero100\"\n",
    "nine = \"Osama--Elzero100\"\n",
    "\n",
    "print(seven.isidentifier())\n",
    "print(eight.isidentifier())\n",
    "print(nine.isidentifier())\n",
    "print(\"\\n\")\n",
    "\n",
    "x = \"AaaaaBbbbbb\"\n",
    "y = \"AaaaaBbbbbb111\"\n",
    "print(x.isalpha())\n",
    "print(y.isalpha())\n",
    "print(\"\\n\")\n",
    "\n",
    "u = \"AaaaaBbbbbb\"\n",
    "z = \"AaaaaBbbbbb111\"\n",
    "print(u.isalnum())\n",
    "print(z.isalnum())"
   ]
  },
  {
   "cell_type": "markdown",
   "metadata": {},
   "source": [
    "- <span style=\"color:salmon\"> replace(Old Value, New Value, Count) </span>"
   ]
  },
  {
   "cell_type": "code",
   "execution_count": 37,
   "metadata": {},
   "outputs": [
    {
     "name": "stdout",
     "output_type": "stream",
     "text": [
      "Hello 1 Two Three 1 1\n",
      "Hello 1 Two Three One One\n",
      "Hello 1 Two Three 1 One\n"
     ]
    }
   ],
   "source": [
    "a = \"Hello One Two Three One One\"\n",
    "print(a.replace(\"One\", \"1\"))\n",
    "print(a.replace(\"One\", \"1\", 1))\n",
    "print(a.replace(\"One\", \"1\", 2))"
   ]
  },
  {
   "cell_type": "markdown",
   "metadata": {},
   "source": [
    "- <span style=\"color:salmon\"> join(Iterable) </span>"
   ]
  },
  {
   "cell_type": "code",
   "execution_count": 40,
   "metadata": {},
   "outputs": [
    {
     "name": "stdout",
     "output_type": "stream",
     "text": [
      "Menna-Harmas-Mostafa\n",
      "Menna Harmas Mostafa\n",
      "Menna, Harmas, Mostafa\n",
      "<class 'str'>\n"
     ]
    }
   ],
   "source": [
    "myList = [\"Menna\", \"Harmas\", \"Mostafa\"]\n",
    "print(\"-\".join(myList))\n",
    "print(\" \".join(myList))\n",
    "print(\", \".join(myList))\n",
    "print(type(\", \".join(myList)))"
   ]
  },
  {
   "cell_type": "markdown",
   "metadata": {},
   "source": [
    "# <span style=\"color:skyblue\">[8] Strings Formatting </span>"
   ]
  },
  {
   "cell_type": "markdown",
   "metadata": {},
   "source": [
    "- %s => String\n",
    "\n",
    "- %d => Number\n",
    "\n",
    "- %f => Float"
   ]
  },
  {
   "cell_type": "code",
   "execution_count": 42,
   "metadata": {},
   "outputs": [
    {
     "name": "stdout",
     "output_type": "stream",
     "text": [
      "My Name is: Menna\n",
      "My Name is: Menna\n",
      "My Name is: Menna\n",
      "My Name is: Menna and My Age is: 36\n",
      "My Name is: Menna and My Age is: 36 and My Rank is: 10.000000\n"
     ]
    }
   ],
   "source": [
    "name = \"Menna\"\n",
    "age = 36\n",
    "rank = 10\n",
    "\n",
    "print(\"My Name is: \" + name)\n",
    "\n",
    "# print(\"My Name is: \" + name + \" and My Age is: \" + age) # Type Error\n",
    "\n",
    "print(\"My Name is: %s\" % \"Menna\")\n",
    "print(\"My Name is: %s\" % name)\n",
    "print(\"My Name is: %s and My Age is: %d\" % (name, age))\n",
    "print(\"My Name is: %s and My Age is: %d and My Rank is: %f\" % (name, age, rank))"
   ]
  },
  {
   "cell_type": "markdown",
   "metadata": {},
   "source": [
    "- <span style=\"color:salmon\"> Control Floating Point Number </span>"
   ]
  },
  {
   "cell_type": "code",
   "execution_count": 43,
   "metadata": {},
   "outputs": [
    {
     "name": "stdout",
     "output_type": "stream",
     "text": [
      "My Number is: 10\n",
      "My Number is: 10.000000\n",
      "My Number is: 10.00\n"
     ]
    }
   ],
   "source": [
    "myNumber = 10\n",
    "print(\"My Number is: %d\" % myNumber)\n",
    "print(\"My Number is: %f\" % myNumber)\n",
    "print(\"My Number is: %.2f\" % myNumber)"
   ]
  },
  {
   "cell_type": "markdown",
   "metadata": {},
   "source": [
    "- <span style=\"color:salmon\"> Truncate String </span>"
   ]
  },
  {
   "cell_type": "code",
   "execution_count": 44,
   "metadata": {},
   "outputs": [
    {
     "name": "stdout",
     "output_type": "stream",
     "text": [
      "Message is Hello Peoples of Elzero Web School I Love You All\n",
      "Message is Hello\n"
     ]
    }
   ],
   "source": [
    "myLongString = \"Hello Peoples of Elzero Web School I Love You All\"\n",
    "print(\"Message is %s\" % myLongString)\n",
    "print(\"Message is %.5s\" % myLongString)"
   ]
  },
  {
   "cell_type": "markdown",
   "metadata": {},
   "source": [
    "- <span style=\"color:salmon\"> Strings Formatting New Ways </span>"
   ]
  },
  {
   "cell_type": "code",
   "execution_count": 48,
   "metadata": {},
   "outputs": [
    {
     "name": "stdout",
     "output_type": "stream",
     "text": [
      "My Name is: Menna\n",
      "My Name is: Menna\n",
      "My Name is: Menna\n",
      "My Name is: Menna My Age: 36\n",
      "My Name is: Menna Age: 36 & Rank is: 10.000000\n",
      "\n",
      "\n",
      "My Name is Menna Iam Python Developer With 10 Years Exp\n",
      "My Number is: 10\n",
      "My Number is: 10.000000\n",
      "My Number is: 10.00\n",
      "\n",
      "\n",
      "Message is Hello Peoples of Elzero Web School I Love You All\n",
      "Message is Hello\n",
      "Message is Hello Peoples\n",
      "\n",
      "\n",
      "My Money in Bank Is: 500162350198\n",
      "My Money in Bank Is: 500_162_350_198\n",
      "My Money in Bank Is: 500,162,350,198\n",
      "\n",
      "\n",
      "Hello One Two Three\n",
      "Hello Two Three One\n",
      "Hello Three One Two\n",
      "\n",
      "\n",
      "Hello 10 20 30\n",
      "Hello 20 30 10\n",
      "Hello 30.000000 10.000000 20.000000\n",
      "Hello 30.00 10.0000 20.00000\n",
      "\n",
      "\n",
      "My Name is : {myName} and My Age is : {myAge}\n",
      "My Name is : Menna and My Age is : 36\n"
     ]
    }
   ],
   "source": [
    "name = \"Menna\"\n",
    "age = 36\n",
    "rank = 10\n",
    "\n",
    "print(\"My Name is: \" + name)\n",
    "\n",
    "# print(\"My Name is: \" + name + \" and My Age is: \" + age) # Type Error\n",
    "\n",
    "print(\"My Name is: {}\".format(\"Menna\"))\n",
    "print(\"My Name is: {}\".format(name))\n",
    "print(\"My Name is: {} My Age: {}\".format(name, age))\n",
    "print(\"My Name is: {:s} Age: {:d} & Rank is: {:f}\".format(name, age, rank))\n",
    "print(\"\\n\")\n",
    "\n",
    "# {:s} => String\n",
    "\n",
    "# {:d} => Number\n",
    "\n",
    "# {:f} => Float\n",
    "\n",
    "n = \"Menna\"\n",
    "l = \"Python\"\n",
    "y = 10\n",
    "\n",
    "print(\"My Name is {} Iam {} Developer With {:d} Years Exp\".format(n, l, y))\n",
    "\n",
    "# Control Floating Point Number\n",
    "\n",
    "myNumber = 10\n",
    "print(\"My Number is: {:d}\".format(myNumber))\n",
    "print(\"My Number is: {:f}\".format(myNumber))\n",
    "print(\"My Number is: {:.2f}\".format(myNumber))\n",
    "print(\"\\n\")\n",
    "\n",
    "# Truncate String\n",
    "\n",
    "myLongString = \"Hello Peoples of Elzero Web School I Love You All\"\n",
    "print(\"Message is {}\".format(myLongString))\n",
    "print(\"Message is {:.5s}\".format(myLongString))\n",
    "print(\"Message is {:.13s}\".format(myLongString))\n",
    "print(\"\\n\")\n",
    "\n",
    "# Format Money\n",
    "\n",
    "myMoney = 500162350198\n",
    "\n",
    "print(\"My Money in Bank Is: {:d}\".format(myMoney))\n",
    "print(\"My Money in Bank Is: {:_d}\".format(myMoney))\n",
    "print(\"My Money in Bank Is: {:,d}\".format(myMoney))\n",
    "print(\"\\n\")\n",
    "\n",
    "# ReArrange Items\n",
    "\n",
    "a, b, c = \"One\", \"Two\", \"Three\"\n",
    "print(\"Hello {} {} {}\".format(a, b, c))  # Hello One Two Three\n",
    "print(\"Hello {1} {2} {0}\".format(a, b, c))  # Hello Two Three One\n",
    "print(\"Hello {2} {0} {1}\".format(a, b, c))  # Hello Three One Two\n",
    "print(\"\\n\")\n",
    "\n",
    "x, y, z = 10, 20, 30\n",
    "print(\"Hello {} {} {}\".format(x, y, z))\n",
    "print(\"Hello {1:d} {2:d} {0:d}\".format(x, y, z))\n",
    "print(\"Hello {2:f} {0:f} {1:f}\".format(x, y, z))\n",
    "print(\"Hello {2:.2f} {0:.4f} {1:.5f}\".format(x, y, z))\n",
    "print(\"\\n\")\n",
    "\n",
    "# Format in Version 3.6+\n",
    "\n",
    "myName = \"Menna\"\n",
    "myAge = 36\n",
    "\n",
    "print(\"My Name is : {myName} and My Age is : {myAge}\")\n",
    "print(f\"My Name is : {myName} and My Age is : {myAge}\")"
   ]
  },
  {
   "cell_type": "markdown",
   "metadata": {},
   "source": [
    "# <span style=\"color:skyblue\">[9] Numbers </span>"
   ]
  },
  {
   "cell_type": "markdown",
   "metadata": {},
   "source": [
    "<span style=\"color:salmon\"> \n",
    "\n",
    "- [1] You Can Convert From Int To Float or Complex\n",
    "\n",
    "- [2] You Can Convert From Float To Int or Complex\n",
    "\n",
    "- [3] You Cannot Convert Complex To Any Type </span>"
   ]
  },
  {
   "cell_type": "code",
   "execution_count": 50,
   "metadata": {},
   "outputs": [
    {
     "name": "stdout",
     "output_type": "stream",
     "text": [
      "<class 'int'>\n",
      "<class 'int'>\n",
      "<class 'int'>\n",
      "<class 'int'>\n",
      "<class 'int'>\n",
      "<class 'float'>\n",
      "<class 'float'>\n",
      "<class 'float'>\n",
      "<class 'float'>\n",
      "<class 'float'>\n",
      "<class 'complex'>\n",
      "Real Part Is: 5.0\n",
      "Imaginary Part Is: 6.0\n",
      "\n",
      "\n",
      "100\n",
      "100.0\n",
      "(100+0j)\n",
      "10.5\n",
      "10\n",
      "(10.5+0j)\n",
      "(10+9j)\n"
     ]
    }
   ],
   "source": [
    "# Integer\n",
    "\n",
    "print(type(1))\n",
    "print(type(100))\n",
    "print(type(10))\n",
    "print(type(-10))\n",
    "print(type(-110))\n",
    "\n",
    "# Float\n",
    "\n",
    "print(type(1.500))\n",
    "print(type(100.99))\n",
    "print(type(-10.99))\n",
    "print(type(0.99))\n",
    "print(type(-0.99))\n",
    "\n",
    "# Complex\n",
    "\n",
    "myComplexNumber = 5+6j\n",
    "\n",
    "print(type(myComplexNumber))\n",
    "\n",
    "print(\"Real Part Is: {}\".format(myComplexNumber.real))\n",
    "print(\"Imaginary Part Is: {}\".format(myComplexNumber.imag))\n",
    "\n",
    "print(\"\\n\")\n",
    "\n",
    "print(100)\n",
    "print(float(100))\n",
    "print(complex(100))\n",
    "\n",
    "print(10.50)\n",
    "print(int(10.50))\n",
    "print(complex(10.50))\n",
    "\n",
    "print(10+9j)\n",
    "# print(int(10+9j)) # Error"
   ]
  },
  {
   "cell_type": "markdown",
   "metadata": {},
   "source": [
    " # <span style=\"color:skyblue\">[10] Arithmetic Operators </span>"
   ]
  },
  {
   "cell_type": "markdown",
   "metadata": {},
   "source": [
    " <span style=\"color:salmon\"> \n",
    "\n",
    "- [+] Addition\n",
    "\n",
    "- [-] Subtraction\n",
    "\n",
    "- [*] Multiplication\n",
    "\n",
    "- [/] Division\n",
    "\n",
    "- [%] Modulus\n",
    "\n",
    "- [**] Exponent\n",
    "\n",
    "- [//] Floor Division\n",
    " </span>"
   ]
  },
  {
   "cell_type": "code",
   "execution_count": 51,
   "metadata": {},
   "outputs": [
    {
     "name": "stdout",
     "output_type": "stream",
     "text": [
      "40\n",
      "10\n",
      "3.66\n",
      "2.4\n",
      "\n",
      "\n",
      "30\n",
      "-50\n",
      "-10\n",
      "2.22\n",
      "\n",
      "\n",
      "30\n",
      "1005\n",
      "1500\n",
      "\n",
      "\n",
      "5.0\n",
      "5\n",
      "\n",
      "\n",
      "0\n",
      "1\n",
      "0\n",
      "2\n",
      "\n",
      "\n",
      "32\n",
      "32\n",
      "625\n",
      "625\n",
      "\n",
      "\n",
      "5\n",
      "5\n",
      "6\n",
      "7\n",
      "7\n"
     ]
    }
   ],
   "source": [
    "# Addition\n",
    "\n",
    "print(10 + 30)  # 40\n",
    "print(-10 + 20)  # 10\n",
    "print(1 + 2.66)  # 3.66\n",
    "print(1.2 + 1.2)  # 2.4\n",
    "print(\"\\n\")\n",
    "\n",
    "# Subtraction\n",
    "\n",
    "print(60 - 30)  # 30\n",
    "print(-30 - 20)  # -50\n",
    "print(-30 - -20)  # -10\n",
    "print(5.66 - 3.44)  # 2.22\n",
    "print(\"\\n\")\n",
    "\n",
    "# Multiplication\n",
    "\n",
    "print(10 * 3)  # 30\n",
    "print(5 + 10 * 100)  # 1005\n",
    "print((5 + 10) * 100)  # 1500\n",
    "print(\"\\n\")\n",
    "\n",
    "# Division\n",
    "\n",
    "print(100 / 20)  # 5.0\n",
    "print(int(100 / 20))  # 5\n",
    "print(\"\\n\")\n",
    "\n",
    "# Modulus\n",
    "\n",
    "print(8 % 2)  # 0\n",
    "print(9 % 2)  # 1\n",
    "print(20 % 5)  # 0\n",
    "print(22 % 5)  # 2\n",
    "print(\"\\n\")\n",
    "\n",
    "# Exponent\n",
    "\n",
    "print(2 ** 5)  # 32\n",
    "print(2 * 2 * 2 * 2 * 2)  # 32\n",
    "print(5 ** 4)  # 625\n",
    "print(5 * 5 * 5 * 5)  # 625\n",
    "print(\"\\n\")\n",
    "\n",
    "# Floor Division\n",
    "\n",
    "print(100 // 20)  # 5\n",
    "print(119 // 20)  # 5\n",
    "print(120 // 20)  # 6\n",
    "print(140 // 20)  # 7\n",
    "print(142 // 20)  # 7"
   ]
  },
  {
   "cell_type": "markdown",
   "metadata": {},
   "source": [
    " # <span style=\"color:skyblue\">[11]  Lists </span>"
   ]
  },
  {
   "cell_type": "markdown",
   "metadata": {},
   "source": [
    " <span style=\"color:salmon\">\n",
    "\n",
    "- [1] List Items Are Enclosed in Square Brackets\n",
    "\n",
    "- [2] List Are Ordered, To Use Index To Access Item\n",
    "\n",
    "- [3] List Are Mutable => Add, Delete, Edit\n",
    "\n",
    "- [4] List Items Is Not Unique\n",
    "\n",
    "- [5] List Can Have Different Data Types\n",
    " </span>"
   ]
  },
  {
   "cell_type": "code",
   "execution_count": 1,
   "metadata": {},
   "outputs": [
    {
     "name": "stdout",
     "output_type": "stream",
     "text": [
      "['One', 'Two', 'One', 1, 100.5, True]\n",
      "Two\n",
      "True\n",
      "1\n",
      "['Two', 'One', 1]\n",
      "['One', 'Two', 'One', 1]\n",
      "['Two', 'One', 1, 100.5, True]\n",
      "['One', 'Two', 'One', 1, 100.5, True]\n",
      "['One', 'One', 100.5]\n",
      "['One', 'Two', 'One', 1, 100.5, True]\n",
      "['A', 1, 100.5, True]\n"
     ]
    }
   ],
   "source": [
    "myAwesomeList = [\"One\", \"Two\", \"One\", 1, 100.5, True]\n",
    "\n",
    "print(myAwesomeList)  # Whole List\n",
    "print(myAwesomeList[1])  # \"Two\"\n",
    "print(myAwesomeList[-1])  # True\n",
    "print(myAwesomeList[-3])  # 1\n",
    "\n",
    "print(myAwesomeList[1:4])  # ['Two', 'One', 1]\n",
    "print(myAwesomeList[:4])  # ['One', 'Two', 'One', 1]\n",
    "print(myAwesomeList[1:])  # ['Two', 'One', 1, 100.5, True]\n",
    "\n",
    "print(myAwesomeList[::1])  # ['One', 'Two', 'One', 1, 100.5, True]\n",
    "print(myAwesomeList[::2])  # ['One', 'One', 100.5]\n",
    "\n",
    "print(myAwesomeList)\n",
    "\n",
    "# myAwesomeList[1] = 2\n",
    "\n",
    "# myAwesomeList[-1] = False\n",
    "\n",
    "myAwesomeList[0:3] = [\"A\"]\n",
    "print(myAwesomeList)"
   ]
  },
  {
   "cell_type": "markdown",
   "metadata": {},
   "source": [
    " # <span style=\"color:skyblue\">[12]  Lists Methods </span>"
   ]
  },
  {
   "cell_type": "markdown",
   "metadata": {},
   "source": [
    "- <span style=\"color:salmon\"> append() </span>"
   ]
  },
  {
   "cell_type": "code",
   "execution_count": 2,
   "metadata": {},
   "outputs": [
    {
     "name": "stdout",
     "output_type": "stream",
     "text": [
      "['Osama', 'Ahmed', 'Sayed', 'Alaa', 100, 150.2, True, ['Haytham', 'Samah', 'Ali']]\n",
      "Sayed\n",
      "True\n",
      "['Haytham', 'Samah', 'Ali']\n",
      "Ali\n"
     ]
    }
   ],
   "source": [
    "myFriends = [\"Osama\", \"Ahmed\", \"Sayed\"]\n",
    "myOldFriends = [\"Haytham\", \"Samah\", \"Ali\"]\n",
    "\n",
    "myFriends.append(\"Alaa\")\n",
    "myFriends.append(100)\n",
    "myFriends.append(150.200)\n",
    "myFriends.append(True)\n",
    "myFriends.append(myOldFriends)\n",
    "\n",
    "print(myFriends)\n",
    "print(myFriends[2])\n",
    "print(myFriends[6])\n",
    "print(myFriends[7])\n",
    "print(myFriends[7][2])"
   ]
  },
  {
   "cell_type": "markdown",
   "metadata": {},
   "source": [
    "- <span style=\"color:salmon\"> extend() </span>"
   ]
  },
  {
   "cell_type": "code",
   "execution_count": 3,
   "metadata": {},
   "outputs": [
    {
     "name": "stdout",
     "output_type": "stream",
     "text": [
      "[1, 2, 3, 4, 'A', 'B', 'C', 'One', 'Two']\n"
     ]
    }
   ],
   "source": [
    "a = [1, 2, 3, 4]\n",
    "b = [\"A\", \"B\", \"C\"]\n",
    "c = [\"One\", \"Two\"]\n",
    "\n",
    "a.extend(b)\n",
    "a.extend(c)\n",
    "\n",
    "print(a)"
   ]
  },
  {
   "cell_type": "markdown",
   "metadata": {},
   "source": [
    "- <span style=\"color:salmon\"> remove() </span>"
   ]
  },
  {
   "cell_type": "code",
   "execution_count": 4,
   "metadata": {},
   "outputs": [
    {
     "name": "stdout",
     "output_type": "stream",
     "text": [
      "[1, 2, 3, 4, 5, True, 'Osama', 'Osama']\n"
     ]
    }
   ],
   "source": [
    "x = [1, 2, 3, 4, 5, \"Osama\", True, \"Osama\", \"Osama\"]\n",
    "x.remove(\"Osama\")\n",
    "print(x)"
   ]
  },
  {
   "cell_type": "markdown",
   "metadata": {},
   "source": [
    "- <span style=\"color:salmon\"> sort() </span>"
   ]
  },
  {
   "cell_type": "code",
   "execution_count": 6,
   "metadata": {},
   "outputs": [
    {
     "name": "stdout",
     "output_type": "stream",
     "text": [
      "[120, 100, 29, 17, 2, 1, -10]\n"
     ]
    }
   ],
   "source": [
    "y = [1, 2, 100, 120, -10, 17, 29]\n",
    "# y = [\"A\", \"Z\", \"C\"]\n",
    "\n",
    "y.sort(reverse=True)\n",
    "print(y)"
   ]
  },
  {
   "cell_type": "markdown",
   "metadata": {},
   "source": [
    "- <span style=\"color:salmon\"> reverse() </span>"
   ]
  },
  {
   "cell_type": "code",
   "execution_count": 7,
   "metadata": {},
   "outputs": [
    {
     "name": "stdout",
     "output_type": "stream",
     "text": [
      "[100, 'Osama', 100, 80, 9, 1, 10]\n"
     ]
    }
   ],
   "source": [
    "z = [10, 1, 9, 80, 100, \"Menna\", 100]\n",
    "z.reverse()\n",
    "print(z)"
   ]
  },
  {
   "cell_type": "markdown",
   "metadata": {},
   "source": [
    "- <span style=\"color:salmon\"> clear() </span>"
   ]
  },
  {
   "cell_type": "code",
   "execution_count": 8,
   "metadata": {},
   "outputs": [
    {
     "name": "stdout",
     "output_type": "stream",
     "text": [
      "[]\n"
     ]
    }
   ],
   "source": [
    "a = [1, 2, 3, 4]\n",
    "a.clear()\n",
    "print(a)"
   ]
  },
  {
   "cell_type": "markdown",
   "metadata": {},
   "source": [
    "- <span style=\"color:salmon\"> copy() </span>"
   ]
  },
  {
   "cell_type": "code",
   "execution_count": 9,
   "metadata": {},
   "outputs": [
    {
     "name": "stdout",
     "output_type": "stream",
     "text": [
      "[1, 2, 3, 4]\n",
      "[1, 2, 3, 4]\n",
      "[1, 2, 3, 4, 5]\n",
      "[1, 2, 3, 4]\n"
     ]
    }
   ],
   "source": [
    "b = [1, 2, 3, 4]\n",
    "c = b.copy()\n",
    "\n",
    "print(b)  # Main List\n",
    "print(c)  # Copied List\n",
    "\n",
    "b.append(5)\n",
    "\n",
    "print(b)  # Main List\n",
    "print(c)  # Copied List"
   ]
  },
  {
   "cell_type": "markdown",
   "metadata": {},
   "source": [
    "- <span style=\"color:salmon\"> count() </span>"
   ]
  },
  {
   "cell_type": "code",
   "execution_count": 10,
   "metadata": {},
   "outputs": [
    {
     "name": "stdout",
     "output_type": "stream",
     "text": [
      "3\n"
     ]
    }
   ],
   "source": [
    "d = [1, 2, 3, 4, 3, 9, 10, 1, 2, 1]\n",
    "print(d.count(1))"
   ]
  },
  {
   "cell_type": "markdown",
   "metadata": {},
   "source": [
    "- <span style=\"color:salmon\"> index() </span>"
   ]
  },
  {
   "cell_type": "code",
   "execution_count": 11,
   "metadata": {},
   "outputs": [
    {
     "name": "stdout",
     "output_type": "stream",
     "text": [
      "3\n"
     ]
    }
   ],
   "source": [
    "e = [\"Osama\", \"Ahmed\", \"Sayed\", \"Ramy\", \"Ahmed\", \"Ramy\"]\n",
    "print(e.index(\"Ramy\"))"
   ]
  },
  {
   "cell_type": "markdown",
   "metadata": {},
   "source": [
    "- <span style=\"color:salmon\"> insert() </span>"
   ]
  },
  {
   "cell_type": "code",
   "execution_count": 12,
   "metadata": {},
   "outputs": [
    {
     "name": "stdout",
     "output_type": "stream",
     "text": [
      "['Test', 1, 2, 3, 4, 5, 'A', 'Test', 'B']\n"
     ]
    }
   ],
   "source": [
    "f = [1, 2, 3, 4, 5, \"A\", \"B\"]\n",
    "f.insert(0, \"Test\")\n",
    "f.insert(-1, \"Test\")\n",
    "\n",
    "print(f)"
   ]
  },
  {
   "cell_type": "markdown",
   "metadata": {},
   "source": [
    "- <span style=\"color:salmon\"> pop() </span>"
   ]
  },
  {
   "cell_type": "code",
   "execution_count": 13,
   "metadata": {},
   "outputs": [
    {
     "name": "stdout",
     "output_type": "stream",
     "text": [
      "5\n"
     ]
    }
   ],
   "source": [
    "g = [1, 2, 3, 4, 5, \"A\", \"B\"]\n",
    "print(g.pop(-3))"
   ]
  },
  {
   "cell_type": "markdown",
   "metadata": {},
   "source": [
    " # <span style=\"color:skyblue\">[13]   Tuple </span>"
   ]
  },
  {
   "cell_type": "markdown",
   "metadata": {},
   "source": [
    " <span style=\"color:salmon\"> \n",
    " \n",
    "- [1] Tuple Items Are Enclosed in Parentheses\n",
    "\n",
    "- [2] You Can Remove The Parentheses If You Want\n",
    "\n",
    "- [3] Tuple Are Ordered, To Use Index To Access Item\n",
    "\n",
    "- [4] Tuple Are Immutable => You Cant Add or Delete\n",
    "\n",
    "- [5] Tuple Items Is Not Unique\n",
    "\n",
    "- [6] Tuple Can Have Different Data Types\n",
    "\n",
    "- [7] Operators Used in Strings and Lists Available In Tuples\n",
    "\n",
    "\n",
    " </span>"
   ]
  },
  {
   "cell_type": "markdown",
   "metadata": {},
   "source": [
    "- <span style=\"color:salmon\"> Tuple Syntax & Type Test </span>"
   ]
  },
  {
   "cell_type": "code",
   "execution_count": 14,
   "metadata": {},
   "outputs": [
    {
     "name": "stdout",
     "output_type": "stream",
     "text": [
      "('Osama', 'Ahmed')\n",
      "('Osama', 'Ahmed')\n",
      "<class 'tuple'>\n",
      "<class 'tuple'>\n"
     ]
    }
   ],
   "source": [
    "myAwesomeTupleOne = (\"Menna\", \"Ahmed\")\n",
    "myAwesomeTupleTwo = \"Menna\", \"Ahmed\"\n",
    "\n",
    "print(myAwesomeTupleOne)\n",
    "print(myAwesomeTupleTwo)\n",
    "\n",
    "print(type(myAwesomeTupleOne))\n",
    "print(type(myAwesomeTupleTwo))"
   ]
  },
  {
   "cell_type": "markdown",
   "metadata": {},
   "source": [
    "- <span style=\"color:salmon\"> Tuple Indexing </span>"
   ]
  },
  {
   "cell_type": "code",
   "execution_count": 15,
   "metadata": {},
   "outputs": [
    {
     "name": "stdout",
     "output_type": "stream",
     "text": [
      "1\n",
      "5\n",
      "3\n"
     ]
    }
   ],
   "source": [
    "myAwesomeTupleThree = (1, 2, 3, 4, 5)\n",
    "print(myAwesomeTupleThree[0])\n",
    "print(myAwesomeTupleThree[-1])\n",
    "print(myAwesomeTupleThree[-3])"
   ]
  },
  {
   "cell_type": "markdown",
   "metadata": {},
   "source": [
    "- <span style=\"color:salmon\"> Tuple Assign Values </span>"
   ]
  },
  {
   "cell_type": "code",
   "execution_count": 20,
   "metadata": {},
   "outputs": [
    {
     "name": "stdout",
     "output_type": "stream",
     "text": [
      "(1, 2, 3, 4, 5)\n"
     ]
    }
   ],
   "source": [
    "myAwesomeTupleFour = (1, 2, 3, 4, 5)\n",
    "\n",
    "# myAwesomeTupleFour[2] = \"Three\"\n",
    "\n",
    "print(myAwesomeTupleFour) # 'tuple' object does not support item assignment"
   ]
  },
  {
   "cell_type": "markdown",
   "metadata": {},
   "source": [
    "- <span style=\"color:salmon\"> Tuple Data </span>"
   ]
  },
  {
   "cell_type": "code",
   "execution_count": 21,
   "metadata": {},
   "outputs": [
    {
     "name": "stdout",
     "output_type": "stream",
     "text": [
      "Osama\n",
      "True\n"
     ]
    }
   ],
   "source": [
    "myAwesomeTupleFive = (\"Osama\", \"Osama\", 1, 2, 3, 100.5, True)\n",
    "print(myAwesomeTupleFive[1])\n",
    "print(myAwesomeTupleFive[-1])"
   ]
  },
  {
   "cell_type": "markdown",
   "metadata": {},
   "source": [
    "- <span style=\"color:salmon\"> Tuple With One Element </span>"
   ]
  },
  {
   "cell_type": "code",
   "execution_count": 22,
   "metadata": {},
   "outputs": [
    {
     "name": "stdout",
     "output_type": "stream",
     "text": [
      "('Osama',)\n",
      "('Osama',)\n",
      "<class 'tuple'>\n",
      "<class 'tuple'>\n",
      "1\n",
      "1\n"
     ]
    }
   ],
   "source": [
    "myTuple1 = (\"Osama\",)\n",
    "myTuple2 = \"Osama\",\n",
    "\n",
    "print(myTuple1)\n",
    "print(myTuple2)\n",
    "\n",
    "print(type(myTuple1))\n",
    "print(type(myTuple2))\n",
    "\n",
    "print(len(myTuple1))\n",
    "print(len(myTuple2))"
   ]
  },
  {
   "cell_type": "markdown",
   "metadata": {},
   "source": [
    "- <span style=\"color:salmon\"> Tuple Concatenation </span>"
   ]
  },
  {
   "cell_type": "code",
   "execution_count": 23,
   "metadata": {},
   "outputs": [
    {
     "name": "stdout",
     "output_type": "stream",
     "text": [
      "(1, 2, 3, 4, 5, 6)\n",
      "(1, 2, 3, 4, 'A', 'B', True, 5, 6)\n"
     ]
    }
   ],
   "source": [
    "a = (1, 2, 3, 4)\n",
    "b = (5, 6)\n",
    "\n",
    "c = a + b\n",
    "d = a + (\"A\", \"B\", True) + b\n",
    "\n",
    "print(c)\n",
    "print(d)"
   ]
  },
  {
   "cell_type": "markdown",
   "metadata": {},
   "source": [
    "- <span style=\"color:salmon\"> Tuple, List, String Repeat (*) </span>"
   ]
  },
  {
   "cell_type": "code",
   "execution_count": 24,
   "metadata": {},
   "outputs": [
    {
     "name": "stdout",
     "output_type": "stream",
     "text": [
      "OsamaOsamaOsamaOsamaOsamaOsama\n",
      "[1, 2, 1, 2, 1, 2, 1, 2, 1, 2, 1, 2]\n",
      "('A', 'B', 'A', 'B', 'A', 'B', 'A', 'B', 'A', 'B', 'A', 'B')\n"
     ]
    }
   ],
   "source": [
    "myString = \"Osama\"\n",
    "myList = [1, 2]\n",
    "myTuple = (\"A\", \"B\")\n",
    "\n",
    "print(myString * 6)\n",
    "print(myList * 6)\n",
    "print(myTuple * 6)"
   ]
  },
  {
   "cell_type": "markdown",
   "metadata": {},
   "source": [
    "- <span style=\"color:salmon\"> Methods => count() </span>"
   ]
  },
  {
   "cell_type": "code",
   "execution_count": 25,
   "metadata": {},
   "outputs": [
    {
     "name": "stdout",
     "output_type": "stream",
     "text": [
      "2\n"
     ]
    }
   ],
   "source": [
    "a = (1, 3, 7, 8, 2, 6, 5, 8)\n",
    "print(a.count(8))"
   ]
  },
  {
   "cell_type": "markdown",
   "metadata": {},
   "source": [
    "- <span style=\"color:salmon\"> Methods => index() </span>"
   ]
  },
  {
   "cell_type": "code",
   "execution_count": 26,
   "metadata": {},
   "outputs": [
    {
     "name": "stdout",
     "output_type": "stream",
     "text": [
      "The Position of Index Is: 2\n",
      "The Position of Index Is: 2\n"
     ]
    }
   ],
   "source": [
    "b = (1, 3, 7, 8, 2, 6, 5)\n",
    "\n",
    "# print(\"The Position of Index Is: \" + b.index(7)) # Error\n",
    "\n",
    "print(\"The Position of Index Is: {:d}\".format(b.index(7)))\n",
    "print(f\"The Position of Index Is: {b.index(7)}\")"
   ]
  },
  {
   "cell_type": "markdown",
   "metadata": {},
   "source": [
    "- <span style=\"color:salmon\"> Tuple Destruct </span>"
   ]
  },
  {
   "cell_type": "code",
   "execution_count": 27,
   "metadata": {},
   "outputs": [
    {
     "name": "stdout",
     "output_type": "stream",
     "text": [
      "A\n",
      "B\n",
      "C\n"
     ]
    }
   ],
   "source": [
    "a = (\"A\", \"B\", 4, \"C\")\n",
    "\n",
    "x, y, _, z = a\n",
    "\n",
    "print(x)\n",
    "print(y)\n",
    "print(z)"
   ]
  },
  {
   "cell_type": "markdown",
   "metadata": {},
   "source": [
    " # <span style=\"color:skyblue\">[14]    Set </span>"
   ]
  },
  {
   "cell_type": "markdown",
   "metadata": {},
   "source": [
    " <span style=\"color:salmon\"> \n",
    "\n",
    " [1] Set Items Are Enclosed in Curly Braces\n",
    "\n",
    " [2] Set Items Are Not Ordered And Not Indexed\n",
    "\n",
    " [3] Set Indexing and Slicing Cant Be Done\n",
    "\n",
    " [4] Set Has Only Immutable Data Types (Numbers, Strings, Tuples) List and Dict Are Not\n",
    "\n",
    " [5] Set Items Is Unique\n",
    " </span>"
   ]
  },
  {
   "cell_type": "code",
   "execution_count": 31,
   "metadata": {},
   "outputs": [
    {
     "name": "stdout",
     "output_type": "stream",
     "text": [
      "{'Osama', 'Ahmed', 100}\n",
      "{'Osama', True, 100.5, 100, (1, 2, 3)}\n",
      "{'Osama', 1, 2, 'One'}\n"
     ]
    }
   ],
   "source": [
    "# Not Ordered And Not Indexed\n",
    "\n",
    "mySetOne = {\"Osama\", \"Ahmed\", 100}\n",
    "print(mySetOne) \n",
    " \n",
    "# print(mySetOne[0])\n",
    "\n",
    "# Slicing Cant Be Done\n",
    "\n",
    "mySetTwo = {1, 2, 3, 4, 5, 6}\n",
    "\n",
    "# print(mySetTwo[0:3])\n",
    "\n",
    "# Has Only Immutable Data Types\n",
    "\n",
    "# mySetThree = {\"Osama\", 100, 100.5, True, [1, 2, 3]} # unhashable type: 'list'\n",
    "\n",
    "mySetThree = {\"Osama\", 100, 100.5, True, (1, 2, 3)}\n",
    "\n",
    "print(mySetThree)\n",
    "\n",
    "# Items Is Unique\n",
    "\n",
    "mySetFour = {1, 2, \"Osama\", \"One\", \"Osama\", 1}\n",
    "print(mySetFour)"
   ]
  },
  {
   "cell_type": "markdown",
   "metadata": {},
   "source": [
    " # <span style=\"color:skyblue\">[15]  Set Methods</span>"
   ]
  },
  {
   "cell_type": "markdown",
   "metadata": {},
   "source": [
    "- <span style=\"color:salmon\"> clear() </span>"
   ]
  },
  {
   "cell_type": "code",
   "execution_count": 32,
   "metadata": {},
   "outputs": [
    {
     "name": "stdout",
     "output_type": "stream",
     "text": [
      "set()\n"
     ]
    }
   ],
   "source": [
    "a = {1, 2, 3}\n",
    "a.clear()\n",
    "print(a)"
   ]
  },
  {
   "cell_type": "markdown",
   "metadata": {},
   "source": [
    "- <span style=\"color:salmon\"> union() </span>"
   ]
  },
  {
   "cell_type": "code",
   "execution_count": 33,
   "metadata": {},
   "outputs": [
    {
     "name": "stdout",
     "output_type": "stream",
     "text": [
      "{'1', '2', 'Three', 'Two', 'One', '3'}\n",
      "{'Zero', '1', '2', 'Three', 'Two', 'One', '3', 'Cool'}\n"
     ]
    }
   ],
   "source": [
    "b = {\"One\", \"Two\", \"Three\"}\n",
    "c = {\"1\", \"2\", \"3\"}\n",
    "x = {\"Zero\", \"Cool\"}\n",
    "\n",
    "print(b | c)\n",
    "print(b.union(c, x))"
   ]
  },
  {
   "cell_type": "markdown",
   "metadata": {},
   "source": [
    "- <span style=\"color:salmon\"> add() </span>"
   ]
  },
  {
   "cell_type": "code",
   "execution_count": 34,
   "metadata": {},
   "outputs": [
    {
     "name": "stdout",
     "output_type": "stream",
     "text": [
      "{1, 2, 3, 4, 5, 6}\n"
     ]
    }
   ],
   "source": [
    "d = {1, 2, 3, 4}\n",
    "d.add(5)\n",
    "d.add(6)\n",
    "print(d)"
   ]
  },
  {
   "cell_type": "markdown",
   "metadata": {},
   "source": [
    "- <span style=\"color:salmon\"> copy() </span>"
   ]
  },
  {
   "cell_type": "code",
   "execution_count": 35,
   "metadata": {},
   "outputs": [
    {
     "name": "stdout",
     "output_type": "stream",
     "text": [
      "{1, 2, 3, 4}\n",
      "{1, 2, 3, 4}\n",
      "{1, 2, 3, 4, 6}\n",
      "{1, 2, 3, 4}\n"
     ]
    }
   ],
   "source": [
    "e = {1, 2, 3, 4}\n",
    "f = e.copy()\n",
    "\n",
    "print(e)\n",
    "print(f)\n",
    "\n",
    "e.add(6)\n",
    "\n",
    "print(e)\n",
    "print(f)"
   ]
  },
  {
   "cell_type": "markdown",
   "metadata": {},
   "source": [
    "- <span style=\"color:salmon\"> remove() </span>"
   ]
  },
  {
   "cell_type": "code",
   "execution_count": 39,
   "metadata": {},
   "outputs": [
    {
     "name": "stdout",
     "output_type": "stream",
     "text": [
      "{2, 3, 4}\n"
     ]
    }
   ],
   "source": [
    "g = {1, 2, 3, 4}\n",
    "g.remove(1)\n",
    "# g.remove(7) # error\n",
    "\n",
    "print(g)"
   ]
  },
  {
   "cell_type": "markdown",
   "metadata": {},
   "source": [
    "- <span style=\"color:salmon\"> discard() </span>"
   ]
  },
  {
   "cell_type": "code",
   "execution_count": 38,
   "metadata": {},
   "outputs": [
    {
     "name": "stdout",
     "output_type": "stream",
     "text": [
      "{2, 3, 4}\n"
     ]
    }
   ],
   "source": [
    "h = {1, 2, 3, 4}\n",
    "h.discard(1)\n",
    "h.discard(7)\n",
    "print(h)"
   ]
  },
  {
   "cell_type": "markdown",
   "metadata": {},
   "source": [
    "- <span style=\"color:salmon\"> pop() </span>"
   ]
  },
  {
   "cell_type": "code",
   "execution_count": 40,
   "metadata": {},
   "outputs": [
    {
     "name": "stdout",
     "output_type": "stream",
     "text": [
      "A\n"
     ]
    }
   ],
   "source": [
    "i = {\"A\", True, 1, 2, 3, 4, 5}\n",
    "print(i.pop())"
   ]
  },
  {
   "cell_type": "markdown",
   "metadata": {},
   "source": [
    "- <span style=\"color:salmon\"> update() </span>"
   ]
  },
  {
   "cell_type": "code",
   "execution_count": 41,
   "metadata": {},
   "outputs": [
    {
     "name": "stdout",
     "output_type": "stream",
     "text": [
      "{1, 2, 3, 'B', 'A', 'Html', 'Css'}\n"
     ]
    }
   ],
   "source": [
    "j = {1, 2, 3}\n",
    "k = {1, \"A\", \"B\", 2}\n",
    "j.update(['Html', \"Css\"])\n",
    "j.update(k)\n",
    "\n",
    "print(j)"
   ]
  },
  {
   "cell_type": "markdown",
   "metadata": {},
   "source": [
    "- <span style=\"color:salmon\"> difference() </span>"
   ]
  },
  {
   "cell_type": "code",
   "execution_count": 45,
   "metadata": {},
   "outputs": [
    {
     "name": "stdout",
     "output_type": "stream",
     "text": [
      "{1, 2, 3, 4}\n",
      "{4}\n",
      "{1, 2, 3, 4}\n",
      "========================================\n",
      "{1, 2, 3, 4}\n",
      "{3, 4}\n",
      "========================================\n",
      "{'Osama', 1, 2, 3, 4, 'X'}\n",
      "{'Osama', 'X', 2}\n",
      "{'Osama', 1, 2, 3, 4, 'X'}\n",
      "========================================\n",
      "{'Osama', 1, 2, 3, 4, 'X'}\n",
      "{'Osama', 'X', 2}\n",
      "========================================\n",
      "{1, 2, 3, 4, 5, 'X'}\n",
      "{'Osama', 'Zero', 3, 5}\n",
      "{1, 2, 3, 4, 5, 'X'}\n",
      "========================================\n",
      "{1, 2, 3, 4, 5, 'X'}\n",
      "{'Osama', 3, 5, 'Zero'}\n"
     ]
    }
   ],
   "source": [
    "a = {1, 2, 3, 4}\n",
    "b = {1, 2, 3, \"Osama\", \"Ahmed\"}\n",
    "print(a)\n",
    "print(a.difference(b))  # a - b\n",
    "print(a)\n",
    "\n",
    "print(\"=\" * 40)  # Separator\n",
    "\n",
    "# difference_update()\n",
    "\n",
    "c = {1, 2, 3, 4}\n",
    "d = {1, 2, \"Osama\", \"Ahmed\"}\n",
    "print(c)\n",
    "c.difference_update(d)  # c - d\n",
    "print(c)\n",
    "\n",
    "print(\"=\" * 40)  # Separator\n",
    "\n",
    "# intersection()\n",
    "\n",
    "e = {1, 2, 3, 4, \"X\", \"Osama\"}\n",
    "f = {\"Osama\", \"X\", 2}\n",
    "print(e)\n",
    "print(e.intersection(f))  # e & f\n",
    "print(e)\n",
    "\n",
    "print(\"=\" * 40)  # Separator\n",
    "\n",
    "# intersection_update()\n",
    "\n",
    "g = {1, 2, 3, 4, \"X\", \"Osama\"}\n",
    "h = {\"Osama\", \"X\", 2}\n",
    "print(g)\n",
    "g.intersection_update(h)  # g & h\n",
    "print(g)\n",
    "\n",
    "print(\"=\" * 40)  # Separator\n",
    "\n",
    "# symmetric_difference()\n",
    "\n",
    "i = {1, 2, 3, 4, 5, \"X\"}\n",
    "j = {\"Osama\", \"Zero\", 1, 2, 4, \"X\"}\n",
    "print(i)\n",
    "print(i.symmetric_difference(j))  # i ^ j\n",
    "print(i)\n",
    "\n",
    "print(\"=\" * 40)  # Separator\n",
    "\n",
    "# symmetric_difference_update()\n",
    "\n",
    "k = {1, 2, 3, 4, 5, \"X\"}\n",
    "l = {\"Osama\", \"Zero\", 1, 2, 4, \"X\"}\n",
    "print(k)\n",
    "k.symmetric_difference_update(l)  # k ^ l\n",
    "print(k)"
   ]
  },
  {
   "cell_type": "code",
   "execution_count": 43,
   "metadata": {},
   "outputs": [
    {
     "name": "stdout",
     "output_type": "stream",
     "text": [
      "True\n",
      "False\n",
      "==================================================\n",
      "False\n",
      "True\n",
      "==================================================\n",
      "False\n",
      "True\n"
     ]
    }
   ],
   "source": [
    "# issuperset()\n",
    "\n",
    "a = {1, 2, 3, 4}\n",
    "b = {1, 2, 3}\n",
    "c = {1, 2, 3, 4, 5}\n",
    "\n",
    "print(a.issuperset(b))  # True\n",
    "print(a.issuperset(c))  # False\n",
    "\n",
    "print(\"=\" * 50)\n",
    "\n",
    "# issubset()\n",
    "\n",
    "d = {1, 2, 3, 4}\n",
    "e = {1, 2, 3}\n",
    "f = {1, 2, 3, 4, 5}\n",
    "\n",
    "print(d.issubset(e))  # False\n",
    "print(d.issubset(f))  # True\n",
    "\n",
    "print(\"=\" * 50)\n",
    "\n",
    "# isdisjoint()\n",
    "\n",
    "g = {1, 2, 3, 4}\n",
    "h = {1, 2, 3}\n",
    "i = {10, 11, 12}\n",
    "\n",
    "print(g.isdisjoint(h))  # False\n",
    "print(g.isdisjoint(i))  # True"
   ]
  },
  {
   "cell_type": "markdown",
   "metadata": {},
   "source": [
    " # <span style=\"color:skyblue\">[16]  Dictionary </span>"
   ]
  },
  {
   "cell_type": "markdown",
   "metadata": {},
   "source": [
    "<span style=\"color:salmon\"> \n",
    "\n",
    "- [1] Dict Items Are Enclosed in Curly Braces\n",
    "\n",
    "- [2] Dict Items Are Contains Key : Value\n",
    "\n",
    "- [3] Dict Key Need To Be Immutable => (Number, String, Tuple) List Not Allowed\n",
    "\n",
    "- [4] Dict Value Can Have Any Data Types\n",
    "\n",
    "- [5] Dict Key Need To Be Unique\n",
    "\n",
    "- [6] Dict Is Not Ordered You Access Its Element With Key\n",
    " </span>"
   ]
  },
  {
   "cell_type": "markdown",
   "metadata": {},
   "source": [
    "- <span style=\"color:salmon\"> Dictionary </span>"
   ]
  },
  {
   "cell_type": "code",
   "execution_count": 46,
   "metadata": {},
   "outputs": [
    {
     "name": "stdout",
     "output_type": "stream",
     "text": [
      "{'name': 'Osama', 'age': 36, 'country': 'Egypt', 'skills': ['Html', 'Css', 'JS'], 'rating': 10.5}\n",
      "Egypt\n",
      "Egypt\n",
      "dict_keys(['name', 'age', 'country', 'skills', 'rating'])\n",
      "dict_values(['Osama', 36, 'Egypt', ['Html', 'Css', 'JS'], 10.5])\n"
     ]
    }
   ],
   "source": [
    "user = {\n",
    "\"name\": \"Osama\",\n",
    "\"age\": 36,\n",
    "\"country\": \"Egypt\",\n",
    "\"skills\": [\"Html\", \"Css\", \"JS\"],\n",
    "\"rating\": 10.5\n",
    "}\n",
    "\n",
    "print(user)\n",
    "print(user['country'])\n",
    "print(user.get(\"country\"))\n",
    "\n",
    "print(user.keys())\n",
    "print(user.values())"
   ]
  },
  {
   "cell_type": "markdown",
   "metadata": {},
   "source": [
    "- <span style=\"color:salmon\"> Two-Dimensional Dictionary </span>"
   ]
  },
  {
   "cell_type": "code",
   "execution_count": 47,
   "metadata": {},
   "outputs": [
    {
     "name": "stdout",
     "output_type": "stream",
     "text": [
      "{'One': {'name': 'Html', 'progress': '80%'}, 'Two': {'name': 'Css', 'progress': '90%'}, 'Three': {'name': 'Js', 'progress': '90%'}}\n",
      "{'name': 'Html', 'progress': '80%'}\n",
      "Js\n"
     ]
    }
   ],
   "source": [
    "languages = {\n",
    "\"One\": {\n",
    "\"name\": \"Html\",\n",
    "\"progress\": \"80%\"\n",
    "},\n",
    "\"Two\": {\n",
    "\"name\": \"Css\",\n",
    "\"progress\": \"90%\"\n",
    "},\n",
    "\"Three\": {\n",
    "\"name\": \"Js\",\n",
    "\"progress\": \"90%\"\n",
    "}\n",
    "}\n",
    "\n",
    "print(languages)\n",
    "print(languages['One'])\n",
    "print(languages['Three']['name'])"
   ]
  },
  {
   "cell_type": "markdown",
   "metadata": {},
   "source": [
    "- <span style=\"color:salmon\"> Dictionary Length </span>"
   ]
  },
  {
   "cell_type": "code",
   "execution_count": 48,
   "metadata": {},
   "outputs": [
    {
     "name": "stdout",
     "output_type": "stream",
     "text": [
      "3\n",
      "2\n"
     ]
    }
   ],
   "source": [
    "print(len(languages))\n",
    "print(len(languages[\"Two\"]))"
   ]
  },
  {
   "cell_type": "markdown",
   "metadata": {},
   "source": [
    "- <span style=\"color:salmon\"> Create Dictionary From Variables </span>"
   ]
  },
  {
   "cell_type": "code",
   "execution_count": 49,
   "metadata": {},
   "outputs": [
    {
     "name": "stdout",
     "output_type": "stream",
     "text": [
      "{'one': {'name': 'Vuejs', 'progress': '80%'}, 'two': {'name': 'ReactJs', 'progress': '80%'}, 'three': {'name': 'Angular', 'progress': '80%'}}\n"
     ]
    }
   ],
   "source": [
    "frameworkOne = {\n",
    "\"name\": \"Vuejs\",\n",
    "\"progress\": \"80%\"\n",
    "}\n",
    "\n",
    "frameworkTwo = {\n",
    "\"name\": \"ReactJs\",\n",
    "\"progress\": \"80%\"\n",
    "}\n",
    "\n",
    "frameworkThree = {\n",
    "\"name\": \"Angular\",\n",
    "\"progress\": \"80%\"\n",
    "}\n",
    "\n",
    "allFramework = {\n",
    "\"one\": frameworkOne,\n",
    "\"two\": frameworkTwo,\n",
    "\"three\": frameworkThree\n",
    "}\n",
    "\n",
    "print(allFramework)"
   ]
  },
  {
   "cell_type": "markdown",
   "metadata": {},
   "source": [
    " # <span style=\"color:skyblue\">[17]   Dictionary Methods </span>"
   ]
  },
  {
   "cell_type": "code",
   "execution_count": 52,
   "metadata": {},
   "outputs": [
    {
     "name": "stdout",
     "output_type": "stream",
     "text": [
      "{'name': 'Osama'}\n",
      "{}\n",
      "==================================================\n",
      "{'name': 'Osama'}\n",
      "{'name': 'Osama', 'age': 36}\n",
      "{'name': 'Osama', 'age': 36, 'country': 'Egypt'}\n",
      "==================================================\n",
      "{'name': 'Osama'}\n",
      "{'name': 'Osama', 'skills': 'Fighting'}\n",
      "{'name': 'Osama'}\n",
      "==================================================\n",
      "dict_keys(['name', 'skills'])\n",
      "dict_values(['Osama', 'Fighting'])\n",
      "==================================================\n",
      "{'name': 'Osama'}\n",
      "36\n",
      "{'name': 'Osama', 'age': 36}\n",
      "========================================\n",
      "{'name': 'Osama', 'skill': 'PS4'}\n",
      "('age', 36)\n",
      "========================================\n",
      "{'name': 'Osama', 'skill': 'XBox'}\n",
      "dict_items([('name', 'Osama'), ('skill', 'XBox'), ('age', 36)])\n",
      "========================================\n",
      "{'MyKeyOne': 'X', 'MyKeyTwo': 'X', 'MyKeyThree': 'X'}\n"
     ]
    }
   ],
   "source": [
    "# clear()\n",
    "\n",
    "user = {\n",
    "\"name\": \"Osama\"\n",
    "}\n",
    "print(user)\n",
    "user.clear()\n",
    "print(user)\n",
    "\n",
    "print(\"=\" * 50)\n",
    "\n",
    "# update()\n",
    "\n",
    "member = {\n",
    "\"name\": \"Osama\"\n",
    "}\n",
    "print(member)\n",
    "member[\"age\"] = 36\n",
    "print(member)\n",
    "member.update({\"country\": \"Egypt\"})\n",
    "print(member)\n",
    "\n",
    "print(\"=\" * 50)\n",
    "\n",
    "# copy()\n",
    "\n",
    "main = {\n",
    "\"name\": \"Osama\"\n",
    "}\n",
    "\n",
    "b = main.copy()\n",
    "print(b)\n",
    "main.update({\"skills\": \"Fighting\"})\n",
    "print(main)\n",
    "print(b)\n",
    "print(\"=\" * 50)\n",
    "\n",
    "# keys() + values()\n",
    "\n",
    "print(main.keys())\n",
    "print(main.values())\n",
    "print(\"=\" * 50)\n",
    "\n",
    "# setdefault()\n",
    "\n",
    "user = {\n",
    "\"name\": \"Osama\"\n",
    "}\n",
    "print(user)\n",
    "print(user.setdefault(\"age\", 36))\n",
    "print(user)\n",
    "\n",
    "print(\"=\" * 40)\n",
    "\n",
    "# popitem()\n",
    "\n",
    "member = {\n",
    "\"name\": \"Osama\",\n",
    "\"skill\": \"PS4\"\n",
    "}\n",
    "print(member)\n",
    "member.update({\"age\": 36})\n",
    "print(member.popitem())\n",
    "\n",
    "print(\"=\" * 40)\n",
    "\n",
    "# items()\n",
    "\n",
    "view = {\n",
    "\"name\": \"Osama\",\n",
    "\"skill\": \"XBox\"\n",
    "}\n",
    "\n",
    "allItems = view.items()\n",
    "print(view)\n",
    "view[\"age\"] = 36\n",
    "\n",
    "print(allItems)\n",
    "\n",
    "print(\"=\" * 40)\n",
    "\n",
    "# fromkeys()\n",
    "\n",
    "a = ('MyKeyOne', 'MyKeyTwo', 'MyKeyThree')\n",
    "b = \"X\"\n",
    "\n",
    "print(dict.fromkeys(a, b))"
   ]
  },
  {
   "cell_type": "markdown",
   "metadata": {},
   "source": [
    " # <span style=\"color:skyblue\">[18]    Boolean </span>"
   ]
  },
  {
   "cell_type": "markdown",
   "metadata": {},
   "source": [
    " <span style=\"color:salmon\"> \n",
    "\n",
    "- [1] In Programming You Need to Known Your If Your Code Output is True Or False\n",
    "\n",
    "- [2] Boolean Values Are The Two Constant Objects False + True. </span>"
   ]
  },
  {
   "cell_type": "code",
   "execution_count": 53,
   "metadata": {},
   "outputs": [
    {
     "name": "stdout",
     "output_type": "stream",
     "text": [
      "True\n",
      "==================================================\n",
      "False\n",
      "False\n",
      "True\n",
      "==================================================\n",
      "True\n",
      "True\n",
      "True\n",
      "True\n",
      "True\n",
      "==================================================\n",
      "False\n",
      "False\n",
      "False\n",
      "False\n",
      "False\n",
      "False\n",
      "False\n",
      "False\n"
     ]
    }
   ],
   "source": [
    "name = \" \"\n",
    "print(name.isspace())\n",
    "\n",
    "print(\"=\" * 50)\n",
    "\n",
    "print(100 > 200)\n",
    "print(100 > 100)\n",
    "print(100 > 90)\n",
    "\n",
    "print(\"=\" * 50)\n",
    "\n",
    "# True Values\n",
    "\n",
    "print(bool(\"Osama\"))\n",
    "print(bool(100))\n",
    "print(bool(100.95))\n",
    "print(bool(True))\n",
    "print(bool([1, 2, 3, 4, 5]))\n",
    "\n",
    "print(\"=\" * 50)\n",
    "\n",
    "# False Values\n",
    "\n",
    "print(bool(0))\n",
    "print(bool(\"\"))\n",
    "print(bool(''))\n",
    "print(bool([]))\n",
    "print(bool(False))\n",
    "print(bool(()))\n",
    "print(bool({}))\n",
    "print(bool(None))"
   ]
  },
  {
   "cell_type": "markdown",
   "metadata": {},
   "source": [
    " # <span style=\"color:skyblue\">[19]    Boolean Operators</span>"
   ]
  },
  {
   "cell_type": "markdown",
   "metadata": {},
   "source": [
    " <span style=\"color:salmon\"> \n",
    " \n",
    "- and\n",
    "\n",
    "- or\n",
    "\n",
    "- not\n",
    "  </span>"
   ]
  },
  {
   "cell_type": "code",
   "execution_count": 54,
   "metadata": {},
   "outputs": [
    {
     "name": "stdout",
     "output_type": "stream",
     "text": [
      "True\n",
      "False\n",
      "False\n",
      "True\n",
      "True\n",
      "False\n"
     ]
    }
   ],
   "source": [
    "age = 36\n",
    "country = \"Egypt\"\n",
    "rank = 10\n",
    "\n",
    "print(age > 16 and country == \"Egypt\" and rank > 0)  # True\n",
    "print(age > 16 and country == \"KSA\" and rank > 0)  # False\n",
    "\n",
    "print(age > 40 or country == \"KSA\" or rank > 20)  # False\n",
    "print(age > 40 or country == \"Egypt\" or rank > 20)  # True\n",
    "\n",
    "print(age > 16)  # True\n",
    "print(not age > 16)  # Not True = False"
   ]
  },
  {
   "cell_type": "markdown",
   "metadata": {},
   "source": [
    " # <span style=\"color:skyblue\">[20]  Assignment Operators </span>"
   ]
  },
  {
   "cell_type": "markdown",
   "metadata": {},
   "source": [
    " <span style=\"color:salmon\"> \n",
    " \n",
    "- =\n",
    "\n",
    "- +=\n",
    "\n",
    "- =\n",
    "\n",
    "- =\n",
    "\n",
    "- /=\n",
    "\n",
    "- *=\n",
    "\n",
    "- %=\n",
    "\n",
    "- //= </span>"
   ]
  },
  {
   "cell_type": "code",
   "execution_count": 55,
   "metadata": {},
   "outputs": [
    {
     "name": "stdout",
     "output_type": "stream",
     "text": [
      "-10\n"
     ]
    }
   ],
   "source": [
    "x = 10  # Var One\n",
    "y = 20  # Var Two\n",
    "\n",
    "# Var One = Self [Operator] Var Two\n",
    "\n",
    "# Var One [Operator]= Var Two\n",
    "\n",
    "# x += y\n",
    "\n",
    "x -= y\n",
    "\n",
    "print(x)"
   ]
  },
  {
   "cell_type": "markdown",
   "metadata": {},
   "source": [
    " # <span style=\"color:skyblue\">[21]    Comparison Operators </span>"
   ]
  },
  {
   "cell_type": "markdown",
   "metadata": {},
   "source": [
    " <span style=\"color:salmon\"> \n",
    "\n",
    "- [ == ] Equal\n",
    "\n",
    "- [ != ] Not Equal\n",
    "\n",
    "- [ > ] Greater Than\n",
    "\n",
    "- [ < ] Less Than\n",
    "\n",
    "- [ >= ] Greater Than Or Equal\n",
    "\n",
    "- [ <= ] Less Than Or Equal\n",
    "  </span>"
   ]
  },
  {
   "cell_type": "code",
   "execution_count": 56,
   "metadata": {},
   "outputs": [
    {
     "name": "stdout",
     "output_type": "stream",
     "text": [
      "True\n",
      "False\n",
      "True\n",
      "##################################################\n",
      "False\n",
      "True\n",
      "False\n",
      "##################################################\n",
      "False\n",
      "False\n",
      "False\n",
      "True\n",
      "##################################################\n",
      "False\n",
      "True\n",
      "False\n",
      "False\n",
      "##################################################\n",
      "True\n",
      "False\n",
      "True\n",
      "True\n",
      "##################################################\n",
      "True\n",
      "True\n",
      "True\n",
      "False\n",
      "##################################################\n"
     ]
    }
   ],
   "source": [
    "# Equal + Not Equal\n",
    "\n",
    "print(100 == 100)\n",
    "print(100 == 200)\n",
    "print(100 == 100.00)\n",
    "\n",
    "print(\"#\" * 50)\n",
    "\n",
    "print(100 != 100)\n",
    "print(100 != 200)\n",
    "print(100 != 100.00)\n",
    "\n",
    "print(\"#\" * 50)\n",
    "\n",
    "# Greater Than + Less Than\n",
    "\n",
    "print(100 > 100)\n",
    "print(100 > 200)\n",
    "print(100 > 100.00)\n",
    "print(100 > 40)\n",
    "\n",
    "print(\"#\" * 50)\n",
    "\n",
    "print(100 < 100)\n",
    "print(100 < 200)\n",
    "print(100 < 100.00)\n",
    "print(100 < 40)\n",
    "\n",
    "print(\"#\" * 50)\n",
    "\n",
    "# Greater Than Or Equal + Less Than Or Equal\n",
    "\n",
    "print(100 >= 100)\n",
    "print(100 >= 200)\n",
    "print(100 >= 100.00)\n",
    "print(100 >= 40)\n",
    "\n",
    "print(\"#\" * 50)\n",
    "\n",
    "print(100 <= 100)\n",
    "print(100 <= 200)\n",
    "print(100 <= 100.00)\n",
    "print(100 <= 40)\n",
    "\n",
    "print(\"#\" * 50)"
   ]
  },
  {
   "cell_type": "markdown",
   "metadata": {},
   "source": [
    " # <span style=\"color:skyblue\">[22]    Type Conversion  </span>"
   ]
  },
  {
   "cell_type": "code",
   "execution_count": 59,
   "metadata": {},
   "outputs": [
    {
     "name": "stdout",
     "output_type": "stream",
     "text": [
      "<class 'int'>\n",
      "<class 'str'>\n",
      "##################################################\n",
      "('O', 's', 'a', 'm', 'a')\n",
      "(1, 2, 3, 4, 5)\n",
      "('A', 'B', 'C')\n",
      "('A', 'B')\n",
      "##################################################\n",
      "['O', 's', 'a', 'm', 'a']\n",
      "[1, 2, 3, 4, 5]\n",
      "['A', 'B', 'C']\n",
      "['A', 'B']\n",
      "##################################################\n",
      "{'s', 'O', 'm', 'a'}\n",
      "{1, 2, 3, 4, 5}\n",
      "{'A', 'B', 'C'}\n",
      "{'A', 'B'}\n",
      "##################################################\n",
      "{'A': 1, 'B': 2, 'C': 3}\n",
      "{'One': 1, 'Two': 2, 'Three': 3}\n"
     ]
    }
   ],
   "source": [
    "# str()\n",
    "\n",
    "a = 10\n",
    "print(type(a))\n",
    "print(type(str(a)))\n",
    "\n",
    "print(\"#\" * 50)\n",
    "\n",
    "# tuple()\n",
    "\n",
    "c = \"Osama\"  # String\n",
    "d = [1, 2, 3, 4, 5]  # List\n",
    "e = {\"A\", \"B\", \"C\"}  # Set\n",
    "f = {\"A\": 1, \"B\": 2}  # Dictionary\n",
    "\n",
    "print(tuple(c))\n",
    "print(tuple(d))\n",
    "print(tuple(e))\n",
    "print(tuple(f))\n",
    "\n",
    "print(\"#\" * 50)\n",
    "\n",
    "# list()\n",
    "\n",
    "c = \"Osama\"  # String\n",
    "d = (1, 2, 3, 4, 5)  # Tuple\n",
    "e = {\"A\", \"B\", \"C\"}  # Set\n",
    "f = {\"A\": 1, \"B\": 2}  # Dictionary\n",
    "\n",
    "print(list(c))\n",
    "print(list(d))\n",
    "print(list(e))\n",
    "print(list(f))\n",
    "\n",
    "print(\"#\" * 50)\n",
    "\n",
    "# set()\n",
    "\n",
    "c = \"Osama\"  # String\n",
    "d = (1, 2, 3, 4, 5)  # Tuple\n",
    "e = [\"A\", \"B\", \"C\"]  # List\n",
    "f = {\"A\": 1, \"B\": 2}  # Dictionary\n",
    "\n",
    "print(set(c))\n",
    "print(set(d))\n",
    "print(set(e))\n",
    "print(set(f))\n",
    "\n",
    "print(\"#\" * 50)\n",
    "\n",
    "# dict()\n",
    "\n",
    "d = ((\"A\", 1), (\"B\", 2), (\"C\", 3))  # Tuple\n",
    "e = [[\"One\", 1], [\"Two\", 2], [\"Three\", 3]]  # List\n",
    "\n",
    "print(dict(d))\n",
    "print(dict(e))"
   ]
  },
  {
   "cell_type": "markdown",
   "metadata": {},
   "source": [
    " # <span style=\"color:skyblue\">[23]   User Input   </span>"
   ]
  },
  {
   "cell_type": "code",
   "execution_count": 58,
   "metadata": {},
   "outputs": [
    {
     "name": "stdout",
     "output_type": "stream",
     "text": [
      "Hello Menna H Mostafa Happy To See You.\n"
     ]
    }
   ],
   "source": [
    "fName = input('What\\'s Is Your First Name?')\n",
    "mName = input('What\\'s Is Your Middle Name?')\n",
    "lName = input('What\\'s Is Your Last Name?')\n",
    "\n",
    "fName = fName.strip().capitalize()\n",
    "mName = mName.strip().capitalize()\n",
    "lName = lName.strip().capitalize()\n",
    "\n",
    "print(f\"Hello {fName} {mName:.1s} {lName} Happy To See You.\")"
   ]
  },
  {
   "cell_type": "markdown",
   "metadata": {},
   "source": [
    " # <span style=\"color:skyblue\">[24]  Practical Slice Email   </span>"
   ]
  },
  {
   "cell_type": "code",
   "execution_count": 60,
   "metadata": {},
   "outputs": [
    {
     "name": "stdout",
     "output_type": "stream",
     "text": [
      "Hello Menna harmas Your Email Is mennaharmas@gmail.com\n",
      "Your Username Is mennaharmas \n",
      "Your Website Is gmail.com\n"
     ]
    }
   ],
   "source": [
    "theName = input('What\\'s Your Name ?').strip().capitalize()\n",
    "theEmail = input('What\\'s Your Email ?').strip()\n",
    "\n",
    "theUsername = theEmail[:theEmail.index(\"@\")]\n",
    "theWebsite = theEmail[theEmail.index(\"@\") + 1:]\n",
    "\n",
    "print(f\"Hello {theName} Your Email Is {theEmail}\")\n",
    "print(f\"Your Username Is {theUsername} \\nYour Website Is {theWebsite}\")\n",
    "\n",
    "# email = \"[Osama@elzero.org](mailto:Osama@elzero.org)\"\n",
    "\n",
    "# print(email[:email.index(\"@\")])"
   ]
  },
  {
   "cell_type": "markdown",
   "metadata": {},
   "source": [
    " # <span style=\"color:skyblue\">[25]  Practical Your Age Full Details   </span>"
   ]
  },
  {
   "cell_type": "code",
   "execution_count": 61,
   "metadata": {},
   "outputs": [
    {
     "name": "stdout",
     "output_type": "stream",
     "text": [
      "You Lived For:\n",
      "228 Months.\n",
      "912 Weeks.\n",
      "6,935 Days.\n",
      "166,440 Hours.\n",
      "9,986,400 Minutes.\n",
      "599,184,000 Seconds.\n"
     ]
    }
   ],
   "source": [
    "# Input Age\n",
    "\n",
    "age = int(input('What\\'s Your Age ? ').strip())\n",
    "\n",
    "# Get Age in All Time Units\n",
    "\n",
    "months = age * 12\n",
    "weeks = months * 4\n",
    "days = age * 365\n",
    "hours = days * 24\n",
    "minutes = hours * 60\n",
    "seconds = minutes * 60\n",
    "\n",
    "print('You Lived For:')\n",
    "print(f\"{months} Months.\")\n",
    "print(f\"{weeks:,} Weeks.\")\n",
    "print(f\"{days:,} Days.\")\n",
    "print(f\"{hours:,} Hours.\")\n",
    "print(f\"{minutes:,} Minutes.\")\n",
    "print(f\"{seconds:,} Seconds.\")"
   ]
  },
  {
   "cell_type": "markdown",
   "metadata": {},
   "source": [
    " # <span style=\"color:skyblue\">[26]  Control Flow   </span>"
   ]
  },
  {
   "cell_type": "markdown",
   "metadata": {},
   "source": [
    " <span style=\"color:salmon\">\n",
    "\n",
    "- If, Elif, Else \n",
    "\n",
    "- Make Decisions </span>"
   ]
  },
  {
   "cell_type": "code",
   "execution_count": 1,
   "metadata": {},
   "outputs": [
    {
     "name": "stdout",
     "output_type": "stream",
     "text": [
      "Hello Menna Because You Are From Kuwait\n",
      "The Course \"Python Course\" Price Is: $50\n"
     ]
    }
   ],
   "source": [
    "uName = \"Menna\"\n",
    "uCountry = \"Kuwait\"\n",
    "cName = \"Python Course\"\n",
    "cPrice = 100\n",
    "\n",
    "if uCountry == \"Egypt\":\n",
    "\n",
    " print(f\"Hello {uName} Because You Are From {uCountry}\")\n",
    " print(f\"The Course \\\"{cName}\\\" Price Is: ${cPrice - 80}\")\n",
    "\n",
    "elif uCountry == \"KSA\":\n",
    "\n",
    " print(f\"Hello {uName} Because You Are From {uCountry}\")\n",
    " print(f\"The Course \\\"{cName}\\\" Price Is: ${cPrice - 60}\")\n",
    "\n",
    "elif uCountry == \"Kuwait\":\n",
    "\n",
    " print(f\"Hello {uName} Because You Are From {uCountry}\")\n",
    " print(f\"The Course \\\"{cName}\\\" Price Is: ${cPrice - 50}\")\n",
    "\n",
    "else:\n",
    "\n",
    " print(f\"Hello {uName} Because You Are From {uCountry}\")\n",
    " print(f\"The Course \\\"{cName}\\\" Price Is: ${cPrice - 30}\")"
   ]
  },
  {
   "cell_type": "markdown",
   "metadata": {},
   "source": [
    "- <span style=\"color:salmon\"> Nested If </span>"
   ]
  },
  {
   "cell_type": "code",
   "execution_count": 4,
   "metadata": {},
   "outputs": [
    {
     "name": "stdout",
     "output_type": "stream",
     "text": [
      "Hi Osama Because U R From Egypt And Student\n",
      "The Course \"Python Course\" Price Is: $10\n"
     ]
    }
   ],
   "source": [
    "uName = \"Osama\"\n",
    "isStudent = \"Yes\"\n",
    "uCountry = \"Egypt\"\n",
    "cName = \"Python Course\"\n",
    "cPrice = 100\n",
    "\n",
    "if uCountry == \"Egypt\" or uCountry == \"KSA\" or uCountry == \"Qatar\":\n",
    "\n",
    "  if isStudent == \"Yes\":\n",
    "\n",
    "    print(f\"Hi {uName} Because U R From {uCountry} And Student\")\n",
    "    print(f\"The Course \\\"{cName}\\\" Price Is: ${cPrice - 90}\")\n",
    "\n",
    "  else:\n",
    "\n",
    "    print(f\"Hi {uName} Because U R From {uCountry}\")\n",
    "    print(f\"The Course \\\"{cName}\\\" Price Is: ${cPrice - 80}\")\n",
    "\n",
    "\n",
    "elif uCountry == \"Kuwait\" or uCountry == \"Bahrain\":\n",
    "\n",
    "  print(f\"Hi {uName} Because U R From {uCountry}\")\n",
    "  print(f\"The Course \\\"{cName}\\\" Price Is: ${cPrice - 50}\")\n",
    "\n",
    "else:\n",
    "\n",
    "  print(f\"Hi {uName} Because U R From {uCountry}\")\n",
    "  print(f\"The Course \\\"{cName}\\\" Price Is: ${cPrice - 30}\")"
   ]
  },
  {
   "cell_type": "markdown",
   "metadata": {},
   "source": [
    "- <span style=\"color:salmon\"> Ternary Conditional Operator </span>"
   ]
  },
  {
   "cell_type": "code",
   "execution_count": 5,
   "metadata": {},
   "outputs": [
    {
     "name": "stdout",
     "output_type": "stream",
     "text": [
      "Country is Not in The List\n",
      "Movie S Good 4U And Happy Watching\n",
      "Movie S Good 4U And Happy Watching\n"
     ]
    }
   ],
   "source": [
    "country = \"A\"\n",
    "\n",
    "if country == \"Egypt\" : print(f\"The Weather in {country} Is 15\")\n",
    "elif country == \"KSA\" : print(f\"The Weather in {country} Is 30\")\n",
    "else : print(\"Country is Not in The List\")\n",
    "\n",
    "# Short If\n",
    "\n",
    "movieRate = 18\n",
    "age = 18\n",
    "\n",
    "if age < movieRate :\n",
    "\n",
    "  print(\"Movie S Not Good 4U\") # Condition If True\n",
    "\n",
    "else :\n",
    "\n",
    "  print(\"Movie S Good 4U And Happy Watching\") # Condition If False\n",
    "\n",
    "print(\"Movie S Not Good 4U\" if age < movieRate else \"Movie S Good 4U And Happy Watching\")\n",
    "\n",
    "# Condition If True | If Condition | Else | Condition If False"
   ]
  },
  {
   "cell_type": "markdown",
   "metadata": {},
   "source": [
    "- <span style=\"color:salmon\"> Calculate Age Advanced Version and Training </span>"
   ]
  },
  {
   "cell_type": "code",
   "execution_count": 7,
   "metadata": {},
   "outputs": [
    {
     "name": "stdout",
     "output_type": "stream",
     "text": [
      "################################################################################\n",
      "######### You Can Write The First Letter Or Full Name of The Time Unit #########\n",
      "################################################################################\n",
      "You Choosed The Unit Months\n",
      "You Lived For 228 Months.\n"
     ]
    }
   ],
   "source": [
    "# Write A Very Beautiful Note\n",
    "print(\"#\" * 80)\n",
    "print(\" You Can Write The First Letter Or Full Name of The Time Unit \".center(80, '#'))\n",
    "print(\"#\" * 80)\n",
    "\n",
    "# Collect Age Data\n",
    "age = input(\"Please Write Your Age\").strip()\n",
    "\n",
    "# Collect Time Unit Data\n",
    "unit = input(\"Please Choose Time Unit: Months, Weeks, Days \").strip().lower()\n",
    "\n",
    "# Get Time Units\n",
    "months = int(age) * 12\n",
    "weeks = months * 4\n",
    "days = int(age) * 365\n",
    "\n",
    "if unit == 'months' or unit == 'm':\n",
    "\n",
    "  print(\"You Choosed The Unit Months\")\n",
    "  print(f\"You Lived For {months:,} Months.\")\n",
    "\n",
    "elif unit == 'weeks' or unit == 'w':\n",
    "\n",
    "  print(\"You Choosed The Unit Weeks\")\n",
    "  print(f\"You Lived For {weeks:,} Weeks.\")\n",
    "\n",
    "elif unit == 'days' or unit == 'd':\n",
    "\n",
    "  print(\"You Choosed The Unit Days\")\n",
    "  print(f\"You Lived For {days:,} Days.\")\n"
   ]
  },
  {
   "cell_type": "markdown",
   "metadata": {},
   "source": [
    " # <span style=\"color:skyblue\">[27] Membership Operators </span>"
   ]
  },
  {
   "cell_type": "markdown",
   "metadata": {},
   "source": [
    " <span style=\"color:salmon\">\n",
    " \n",
    "- in\n",
    "- not in </span>"
   ]
  },
  {
   "cell_type": "code",
   "execution_count": 8,
   "metadata": {},
   "outputs": [
    {
     "name": "stdout",
     "output_type": "stream",
     "text": [
      "False\n",
      "True\n",
      "False\n",
      "##################################################\n",
      "False\n",
      "True\n",
      "False\n",
      "##################################################\n",
      "Hello You Have A Discount Equal To $50\n"
     ]
    }
   ],
   "source": [
    "# String\n",
    "\n",
    "name = \"Menna\"\n",
    "print(\"s\" in name)\n",
    "print(\"a\" in name)\n",
    "print(\"A\" in name)\n",
    "\n",
    "print(\"#\" * 50)\n",
    "\n",
    "# List\n",
    "\n",
    "friends = [\"Ahmed\", \"Sayed\", \"Mahmoud\"]\n",
    "print(\"Osama\" in friends)\n",
    "print(\"Sayed\" in friends)\n",
    "print(\"Mahmoud\" not in friends)\n",
    "\n",
    "print(\"#\" * 50)\n",
    "\n",
    "# Using In and Not In With Condition\n",
    "\n",
    "countriesOne = [\"Egypt\", \"KSA\", \"Kuwait\", \"Bahrain\", \"Syria\"]\n",
    "countriesOneDiscount = 80\n",
    "\n",
    "countriesTwo = [\"Italy\", \"USA\"]\n",
    "countriesTwoDiscount = 50\n",
    "\n",
    "myCountry = \"Italy\"\n",
    "\n",
    "if myCountry in countriesOne:\n",
    "\n",
    "  print(f\"Hello You Have A Discount Equal To ${countriesOneDiscount}\")\n",
    "\n",
    "elif myCountry in countriesTwo:\n",
    "\n",
    "  print(f\"Hello You Have A Discount Equal To ${countriesTwoDiscount}\")\n",
    "\n",
    "else:\n",
    "\n",
    "  print(\"You Have No Discount\")"
   ]
  },
  {
   "cell_type": "markdown",
   "metadata": {},
   "source": [
    "- <span style=\"color:salmon\"> Practical Membership Control </span>"
   ]
  },
  {
   "cell_type": "code",
   "execution_count": 9,
   "metadata": {},
   "outputs": [
    {
     "name": "stdout",
     "output_type": "stream",
     "text": [
      "You Have Been Added\n",
      "['Ahmed', 'Osama', 'Sameh', 'Manal', 'Rahma', 'Mahmoud', 'Enas', 'Menna']\n"
     ]
    }
   ],
   "source": [
    "# List Contains Admins\n",
    "admins = [\"Ahmed\", \"Osama\", \"Sameh\", \"Manal\", \"Rahma\", \"Mahmoud\", \"Enas\"]\n",
    "\n",
    "# Login\n",
    "name = input(\"Please Type Your Name \").strip().capitalize()\n",
    "\n",
    "# If Name is In Admin\n",
    "if name in admins:\n",
    "\n",
    "  print(f\"Hello {name} Welcome Back\")\n",
    "\n",
    "  option = input(\"Delete Or Update Your Name ?\").strip().capitalize()\n",
    "\n",
    "  # Update Option\n",
    "  if option == 'Update' or option == 'U':\n",
    "\n",
    "    theNewName = input(\"Your New Name Please \").strip().capitalize()\n",
    "\n",
    "    admins[admins.index(name)] = theNewName\n",
    "\n",
    "    print(\"Name Updated.\")\n",
    "\n",
    "    print(admins)\n",
    "\n",
    "  # Delete Option\n",
    "  elif option == 'Delete' or option == 'D':\n",
    "\n",
    "    admins.remove(name)\n",
    "\n",
    "    print(\"Name Deleted\")\n",
    "\n",
    "    print(admins)\n",
    "\n",
    "  # Wrong Option\n",
    "  else:\n",
    "\n",
    "    print(\"Wrong Option Choosed\")\n",
    "\n",
    "else:\n",
    "\n",
    "  status = input(\"Not Admin, Add You Y, N ? \").strip().capitalize()\n",
    "\n",
    "  if status == \"Yes\" or status == \"Y\":\n",
    "\n",
    "    print(\"You Have Been Added\")\n",
    "\n",
    "    admins.append(name)\n",
    "\n",
    "    print(admins)\n",
    "\n",
    "  else:\n",
    "\n",
    "    print(\"You Are Not Added.\")"
   ]
  },
  {
   "cell_type": "markdown",
   "metadata": {},
   "source": [
    " # <span style=\"color:skyblue\">[28]  Loop – While and Else </span>"
   ]
  },
  {
   "cell_type": "markdown",
   "metadata": {},
   "source": [
    " <span style=\"color:salmon\"> \n",
    " \n",
    "- while condition_is_true\n",
    "- Code Will Run Until Condition Become False\n",
    "  </span>"
   ]
  },
  {
   "cell_type": "code",
   "execution_count": 10,
   "metadata": {},
   "outputs": [
    {
     "name": "stdout",
     "output_type": "stream",
     "text": [
      "0\n",
      "1\n",
      "2\n",
      "3\n",
      "4\n",
      "5\n",
      "6\n",
      "7\n",
      "8\n",
      "9\n",
      "10\n",
      "11\n",
      "12\n",
      "13\n",
      "14\n",
      "Loop is Done\n"
     ]
    }
   ],
   "source": [
    "a = 0\n",
    "\n",
    "while a < 15:\n",
    "\n",
    "  print(a)\n",
    "\n",
    "  a += 1  # a = a + 1\n",
    "\n",
    "print(\"Loop is Done\")  # True Become False\n",
    "\n",
    "while False:\n",
    "\n",
    "  print(\"Will Not Print\")"
   ]
  },
  {
   "cell_type": "markdown",
   "metadata": {},
   "source": [
    "- <span style=\"color:salmon\"> Loop – While Training’s </span>"
   ]
  },
  {
   "cell_type": "code",
   "execution_count": 11,
   "metadata": {},
   "outputs": [
    {
     "name": "stdout",
     "output_type": "stream",
     "text": [
      "#001 Os\n",
      "#002 Ah\n",
      "#003 Ga\n",
      "#004 Al\n",
      "#005 Ra\n",
      "#006 Sa\n",
      "#007 Ta\n",
      "#008 Ma\n",
      "#009 Mo\n",
      "#010 Wa\n",
      "All Friends Printed To Screen.\n"
     ]
    }
   ],
   "source": [
    "myF = [\"Os\", \"Ah\", \"Ga\", \"Al\", \"Ra\", \"Sa\", \"Ta\", \"Ma\", \"Mo\", \"Wa\"]\n",
    "\n",
    "# print(len(myF))  # List Length [10]\n",
    "\n",
    "a = 0\n",
    "\n",
    "while a < len(myF):  # a < 10\n",
    "\n",
    "  print(f\"#{str(a + 1).zfill(3)} {myF[a]}\")\n",
    "\n",
    "  a += 1  # a = a + 1\n",
    "\n",
    "else:\n",
    "\n",
    "  print(\"All Friends Printed To Screen.\")\n",
    "\n",
    "# print(myF[0])\n",
    "# print(myF[1])\n",
    "# print(myF[2])\n",
    "# print(myF[3])\n",
    "# print(myF[4])\n",
    "# print(myF[5])\n",
    "# print(myF[6])\n",
    "# print(myF[7])\n",
    "# print(myF[8])\n",
    "# print(myF[9])"
   ]
  },
  {
   "cell_type": "markdown",
   "metadata": {},
   "source": [
    "- <span style=\"color:salmon\"> Loop – While Training’s Bookmark Manager </span>"
   ]
  },
  {
   "cell_type": "code",
   "execution_count": 12,
   "metadata": {},
   "outputs": [
    {
     "name": "stdout",
     "output_type": "stream",
     "text": [
      "Website Added, 4 Places Left\n",
      "['https://gmail.com']\n",
      "Website Added, 3 Places Left\n",
      "['https://gmail.com', 'https://org.com']\n",
      "Website Added, 2 Places Left\n",
      "['https://gmail.com', 'https://org.com', 'https://facebook.com']\n",
      "Website Added, 1 Places Left\n",
      "['https://gmail.com', 'https://org.com', 'https://facebook.com', 'https://w.com']\n",
      "Website Added, 0 Places Left\n",
      "['https://gmail.com', 'https://org.com', 'https://facebook.com', 'https://w.com', 'https://mm.com']\n",
      "Bookmark Is Full, You Cant Add More\n",
      "Printing The List Of Websites in Your Bookmark\n",
      "https://facebook.com\n",
      "https://gmail.com\n",
      "https://mm.com\n",
      "https://org.com\n",
      "https://w.com\n"
     ]
    }
   ],
   "source": [
    "# Empty List To Fill Later\n",
    "myFavouriteWebs = []\n",
    "\n",
    "# Maximum Allowed Websites\n",
    "maximumWebs = 5\n",
    "\n",
    "while maximumWebs > 0:\n",
    "\n",
    "  # Input The New Website\n",
    "  web = input(\"Website Name Without https:// \")\n",
    "\n",
    "  # Add The New Website To The List\n",
    "  myFavouriteWebs.append(f\"https://{web.strip().lower()}\")\n",
    "\n",
    "  # Decrease One Number From Allowed Websites\n",
    "  maximumWebs -= 1  # maximumWebs = maximumWebs - 1\n",
    "\n",
    "  # Print The Add Message\n",
    "  print(f\"Website Added, {maximumWebs} Places Left\")\n",
    "\n",
    "  # Print The List\n",
    "  print(myFavouriteWebs)\n",
    "\n",
    "else:\n",
    "\n",
    "  print(\"Bookmark Is Full, You Cant Add More\")\n",
    "\n",
    "# Check If List Is Not Empty\n",
    "if len(myFavouriteWebs) > 0:\n",
    "\n",
    "  # Sort The List\n",
    "  myFavouriteWebs.sort()\n",
    "\n",
    "  index = 0\n",
    "\n",
    "  print(\"Printing The List Of Websites in Your Bookmark\")\n",
    "\n",
    "  while index < len(myFavouriteWebs):\n",
    "\n",
    "    print(myFavouriteWebs[index])\n",
    "\n",
    "    index += 1  # index = index + 1"
   ]
  },
  {
   "cell_type": "markdown",
   "metadata": {},
   "source": [
    "- <span style=\"color:salmon\"> Loop – While Training’s Password Guess </span>"
   ]
  },
  {
   "cell_type": "code",
   "execution_count": 13,
   "metadata": {},
   "outputs": [
    {
     "name": "stdout",
     "output_type": "stream",
     "text": [
      "Wrong Password, 3 Chance Left\n",
      "Wrong Password, 2 Chance Left\n",
      "Wrong Password, 1 Chance Left\n",
      "Wrong Password, Last Chance Left\n",
      "All Tries Is Finished.\n"
     ]
    }
   ],
   "source": [
    "tries = 4\n",
    "\n",
    "mainPassword = \"menna@123\"\n",
    "\n",
    "inputPassword = input(\"Write Your Password: \")\n",
    "\n",
    "while inputPassword != mainPassword:  # True\n",
    "\n",
    "  tries -= 1  # tries = tries - 1\n",
    "\n",
    "  print(f\"Wrong Password, { 'Last' if tries == 0 else tries } Chance Left\")\n",
    "\n",
    "  inputPassword = input(\"Write Your Password: \")\n",
    "\n",
    "  if tries == 0:\n",
    "\n",
    "    print(\"All Tries Is Finished.\")\n",
    "\n",
    "    break\n",
    "\n",
    "    print(\"Will Not Print\")\n",
    "\n",
    "else:\n",
    "\n",
    "  print(\"Correct Password\")"
   ]
  },
  {
   "cell_type": "markdown",
   "metadata": {},
   "source": [
    " # <span style=\"color:skyblue\">[29]  Loop – For and Else </span>"
   ]
  },
  {
   "cell_type": "markdown",
   "metadata": {},
   "source": [
    " <span style=\"color:salmon\"> \n",
    " \n",
    "- for item in iterable_object :\n",
    "-   Do Something With Item\n",
    "\n",
    " -----------------------------\n",
    "- item Is A Vairable You Create and Call Whenever You Want\n",
    "- item refer to the current position and will run and visit all items to the end\n",
    "- iterable_object => Sequence [ list, tuples, set, dict, string of charcaters, etc ... ]\n",
    " ---------------------------------------------------------------\n",
    "  </span>"
   ]
  },
  {
   "cell_type": "code",
   "execution_count": 14,
   "metadata": {},
   "outputs": [
    {
     "name": "stdout",
     "output_type": "stream",
     "text": [
      "The Number 1 Is Odd.\n",
      "The Number 2 Is Even.\n",
      "The Number 3 Is Odd.\n",
      "The Number 4 Is Even.\n",
      "The Number 5 Is Odd.\n",
      "The Number 6 Is Even.\n",
      "The Number 7 Is Odd.\n",
      "The Number 8 Is Even.\n",
      "The Number 9 Is Odd.\n",
      "The Loop Is Finished\n",
      " [ M ] \n",
      " [ E ] \n",
      " [ N ] \n",
      " [ N ] \n",
      " [ A ] \n"
     ]
    }
   ],
   "source": [
    "myNumbers = [1, 2, 3, 4, 5, 6, 7, 8, 9]\n",
    "\n",
    "for number in myNumbers:\n",
    "\n",
    "  # print(number * 17)\n",
    "\n",
    "  if number % 2 == 0:  # Even\n",
    "\n",
    "    print(f\"The Number {number} Is Even.\")\n",
    "\n",
    "  else:\n",
    "\n",
    "    print(f\"The Number {number} Is Odd.\")\n",
    "\n",
    "else:\n",
    "\n",
    "  print(\"The Loop Is Finished\")\n",
    "\n",
    "myName = \"Menna\"\n",
    "\n",
    "for letter in myName:\n",
    "\n",
    "  print(f\" [ {letter.upper()} ] \")"
   ]
  },
  {
   "cell_type": "markdown",
   "metadata": {},
   "source": [
    "- <span style=\"color:salmon\">  Loop – For Training’s </span>"
   ]
  },
  {
   "cell_type": "code",
   "execution_count": 15,
   "metadata": {},
   "outputs": [
    {
     "name": "stdout",
     "output_type": "stream",
     "text": [
      "1\n",
      "2\n",
      "3\n",
      "4\n",
      "5\n",
      "6\n",
      "7\n",
      "8\n",
      "9\n",
      "10\n",
      "11\n",
      "12\n",
      "13\n",
      "14\n",
      "15\n",
      "16\n",
      "17\n",
      "18\n",
      "19\n",
      "20\n",
      "21\n",
      "22\n",
      "23\n",
      "24\n",
      "25\n",
      "26\n",
      "27\n",
      "28\n",
      "29\n",
      "30\n",
      "31\n",
      "32\n",
      "33\n",
      "34\n",
      "35\n",
      "36\n",
      "37\n",
      "38\n",
      "39\n",
      "40\n",
      "41\n",
      "42\n",
      "43\n",
      "44\n",
      "45\n",
      "46\n",
      "47\n",
      "48\n",
      "49\n",
      "50\n",
      "51\n",
      "52\n",
      "53\n",
      "54\n",
      "55\n",
      "56\n",
      "57\n",
      "58\n",
      "59\n",
      "60\n",
      "61\n",
      "62\n",
      "63\n",
      "64\n",
      "65\n",
      "66\n",
      "67\n",
      "68\n",
      "69\n",
      "70\n",
      "71\n",
      "72\n",
      "73\n",
      "74\n",
      "75\n",
      "76\n",
      "77\n",
      "78\n",
      "79\n",
      "80\n",
      "81\n",
      "82\n",
      "83\n",
      "84\n",
      "85\n",
      "86\n",
      "87\n",
      "88\n",
      "89\n",
      "90\n",
      "91\n",
      "92\n",
      "93\n",
      "94\n",
      "95\n",
      "96\n",
      "97\n",
      "98\n",
      "99\n",
      "100\n",
      "80%\n",
      "90%\n",
      "My Progress in Lang Html Is: 90%\n",
      "My Progress in Lang Css Is: 60%\n",
      "My Progress in Lang PHP Is: 70%\n",
      "My Progress in Lang JS Is: 80%\n",
      "My Progress in Lang Python Is: 90%\n",
      "My Progress in Lang MySQL Is: 60%\n"
     ]
    }
   ],
   "source": [
    "# Range\n",
    "\n",
    "myRange = range(1, 101)\n",
    "\n",
    "for number in myRange:\n",
    "\n",
    "  print(number)\n",
    "\n",
    "# Dictionary\n",
    "\n",
    "mySkills = {\n",
    "  \"Html\": \"90%\",\n",
    "  \"Css\": \"60%\",\n",
    "  \"PHP\": \"70%\",\n",
    "  \"JS\": \"80%\",\n",
    "  \"Python\": \"90%\",\n",
    "  \"MySQL\": \"60%\"\n",
    "}\n",
    "\n",
    "print(mySkills['JS'])\n",
    "print(mySkills.get(\"Python\"))\n",
    "\n",
    "for skill in mySkills:\n",
    "\n",
    "  # print(skill)\n",
    "\n",
    "  print(f\"My Progress in Lang {skill} Is: {mySkills.get(skill)}\")"
   ]
  },
  {
   "cell_type": "markdown",
   "metadata": {},
   "source": [
    "- <span style=\"color:salmon\"> Loop – For Nested Loops </span>"
   ]
  },
  {
   "cell_type": "code",
   "execution_count": 16,
   "metadata": {},
   "outputs": [
    {
     "name": "stdout",
     "output_type": "stream",
     "text": [
      "Osama Skills Is: \n",
      "- Html\n",
      "- Css\n",
      "- Js\n",
      "Ahmed Skills Is: \n",
      "- Html\n",
      "- Css\n",
      "- Js\n",
      "Sayed Skills Is: \n",
      "- Html\n",
      "- Css\n",
      "- Js\n",
      "Ali Skills Is: \n",
      "- Html\n",
      "- Css\n",
      "- Js\n",
      "{'Html': '70%', 'Css': '80%', 'Js': '70%'}\n",
      "{'Html': '90%', 'Css': '80%', 'Js': '90%'}\n",
      "{'Html': '70%', 'Css': '60%', 'Js': '90%'}\n",
      "80%\n",
      "80%\n",
      "60%\n",
      "Skills and Progress For Osama Is: \n",
      "HTML => 70%\n",
      "CSS => 80%\n",
      "JS => 70%\n",
      "Skills and Progress For Ahmed Is: \n",
      "HTML => 90%\n",
      "CSS => 80%\n",
      "JS => 90%\n",
      "Skills and Progress For Sayed Is: \n",
      "HTML => 70%\n",
      "CSS => 60%\n",
      "JS => 90%\n"
     ]
    }
   ],
   "source": [
    "peoples = [\"Osama\", \"Ahmed\", \"Sayed\", \"Ali\"]\n",
    "\n",
    "skills = ['Html', 'Css', 'Js']\n",
    "\n",
    "for name in peoples:  # Outer Loop\n",
    "\n",
    "  print(f\"{name} Skills Is: \")\n",
    "\n",
    "  for skill in skills:  # Inner Loop\n",
    "\n",
    "    print(f\"- {skill}\")\n",
    "\n",
    "# Dictionary\n",
    "\n",
    "peoples = {\n",
    "  \"Osama\": {\n",
    "    \"Html\": \"70%\",\n",
    "    \"Css\": \"80%\",\n",
    "    \"Js\": \"70%\"\n",
    "  },\n",
    "  \"Ahmed\": {\n",
    "    \"Html\": \"90%\",\n",
    "    \"Css\": \"80%\",\n",
    "    \"Js\": \"90%\"\n",
    "  },\n",
    "  \"Sayed\": {\n",
    "    \"Html\": \"70%\",\n",
    "    \"Css\": \"60%\",\n",
    "    \"Js\": \"90%\"\n",
    "  }\n",
    "}\n",
    "\n",
    "print(peoples[\"Osama\"])\n",
    "print(peoples[\"Ahmed\"])\n",
    "print(peoples[\"Sayed\"])\n",
    "\n",
    "print(peoples[\"Osama\"]['Css'])\n",
    "print(peoples[\"Ahmed\"]['Css'])\n",
    "print(peoples[\"Sayed\"]['Css'])\n",
    "\n",
    "for name in peoples:\n",
    "\n",
    "  print(f\"Skills and Progress For {name} Is: \")\n",
    "\n",
    "  for skill in peoples[name]:\n",
    "\n",
    "    print(f\"{skill.upper()} => {peoples[name][skill]}\")"
   ]
  },
  {
   "cell_type": "markdown",
   "metadata": {},
   "source": [
    "- <span style=\"color:salmon\"> Break, Continue, Pass </span>"
   ]
  },
  {
   "cell_type": "code",
   "execution_count": 17,
   "metadata": {},
   "outputs": [
    {
     "name": "stdout",
     "output_type": "stream",
     "text": [
      "1\n",
      "2\n",
      "3\n",
      "5\n",
      "7\n",
      "10\n",
      "14\n",
      "15\n",
      "19\n",
      "##################################################\n",
      "1\n",
      "2\n",
      "3\n",
      "5\n",
      "7\n",
      "10\n",
      "##################################################\n",
      "1\n",
      "2\n",
      "3\n",
      "5\n",
      "7\n",
      "10\n",
      "13\n",
      "14\n",
      "15\n",
      "19\n"
     ]
    }
   ],
   "source": [
    "myNumbers = [1, 2, 3, 5, 7, 10, 13, 14, 15, 19]\n",
    "\n",
    "# Continue\n",
    "\n",
    "for number in myNumbers:\n",
    "\n",
    "  if number == 13:\n",
    "\n",
    "    continue\n",
    "\n",
    "  print(number)\n",
    "\n",
    "print(\"#\" * 50)\n",
    "\n",
    "# Break\n",
    "\n",
    "for number in myNumbers:\n",
    "\n",
    "  if number == 13:\n",
    "\n",
    "    break\n",
    "\n",
    "  print(number)\n",
    "\n",
    "print(\"#\" * 50)\n",
    "\n",
    "# Pass\n",
    "\n",
    "for number in myNumbers:\n",
    "\n",
    "  if number == 13:\n",
    "\n",
    "    pass\n",
    "\n",
    "  print(number)"
   ]
  },
  {
   "cell_type": "markdown",
   "metadata": {},
   "source": [
    "- <span style=\"color:salmon\"> Loop Advanced Dictionary </span>"
   ]
  },
  {
   "cell_type": "code",
   "execution_count": 19,
   "metadata": {},
   "outputs": [
    {
     "name": "stdout",
     "output_type": "stream",
     "text": [
      "##################################################\n",
      "dict_items([('HTML', '80%'), ('CSS', '90%'), ('JS', '70%'), ('PHP', '80%')])\n",
      "##################################################\n",
      "HTML => 80%\n",
      "CSS => 90%\n",
      "JS => 70%\n",
      "PHP => 80%\n",
      "##################################################\n",
      "HTML => 80%\n",
      "CSS => 90%\n",
      "JS => 70%\n",
      "PHP => 80%\n",
      "##################################################\n",
      "HTML Progress Is: \n",
      "- Main => 80%\n",
      "- Pugjs => 80%\n",
      "CSS Progress Is: \n",
      "- Main => 90%\n",
      "- Sass => 70%\n"
     ]
    }
   ],
   "source": [
    "mySkills = {\n",
    "  \"HTML\": \"80%\",\n",
    "  \"CSS\": \"90%\",\n",
    "  \"JS\": \"70%\",\n",
    "  \"PHP\": \"80%\"\n",
    "}\n",
    "print(\"#\" * 50)\n",
    "\n",
    "print(mySkills.items())\n",
    "\n",
    "print(\"#\" * 50)\n",
    "\n",
    "for skill in mySkills:\n",
    "\n",
    "  print(f\"{skill} => {mySkills[skill]}\")\n",
    "\n",
    "print(\"#\" * 50)\n",
    "\n",
    "for skill_key, skill_progress in mySkills.items():\n",
    "\n",
    "  print(f\"{skill_key} => {skill_progress}\")\n",
    "\n",
    "print(\"#\" * 50)\n",
    "\n",
    "myUltimateSkills = {\n",
    "  \"HTML\": {\n",
    "    \"Main\": \"80%\",\n",
    "    \"Pugjs\": \"80%\"\n",
    "  },\n",
    "  \"CSS\": {\n",
    "    \"Main\": \"90%\",\n",
    "    \"Sass\": \"70%\"\n",
    "  }\n",
    "}\n",
    "\n",
    "for main_key, main_value in myUltimateSkills.items():\n",
    "\n",
    "  print(f\"{main_key} Progress Is: \")\n",
    "\n",
    "  for child_key, child_value in main_value.items():\n",
    "\n",
    "    print(f\"- {child_key} => {child_value}\")"
   ]
  },
  {
   "cell_type": "markdown",
   "metadata": {},
   "source": [
    " # <span style=\"color:skyblue\">[30]  Function and Return </span>"
   ]
  },
  {
   "cell_type": "markdown",
   "metadata": {},
   "source": [
    " <span style=\"color:salmon\"> \n",
    "\n",
    "- [1] A Function is A Reusable Block Of Code Do A Task\n",
    "- [2] A Function Run When You Call It\n",
    "- [3] A Function Accept Element To Deal With Called [Parameters]\n",
    "- [4] A Function Can Do The Task Without Returning Data\n",
    "- [5] A Function Can Return Data After Job is Finished\n",
    "- [6] A Function Create To Prevent DRY\n",
    "- [7] A Function Accept Elements When You Call It Called [Arguments]\n",
    "- [8] There's A Built-In Functions and User Defined Functions\n",
    "- [9] A Function Is For All Team and All Apps\n",
    "\n",
    " </span>"
   ]
  },
  {
   "cell_type": "code",
   "execution_count": 20,
   "metadata": {},
   "outputs": [
    {
     "name": "stdout",
     "output_type": "stream",
     "text": [
      "Hello Python From Inside Function\n"
     ]
    }
   ],
   "source": [
    "def function_name():\n",
    "\n",
    "  return \"Hello Python From Inside Function\"\n",
    "\n",
    "dataFromFunction = function_name()\n",
    "\n",
    "print(dataFromFunction)"
   ]
  },
  {
   "cell_type": "markdown",
   "metadata": {},
   "source": [
    "- <span style=\"color:salmon\"> Function Parameters and Arguments </span>"
   ]
  },
  {
   "cell_type": "code",
   "execution_count": 22,
   "metadata": {},
   "outputs": [
    {
     "name": "stdout",
     "output_type": "stream",
     "text": [
      "Hello Osama\n",
      "Hello Ahmed\n",
      "Hello Sayed\n",
      "##################################################\n",
      "Hello Osama\n",
      "Hello Ahmed\n",
      "Hello Sayed\n",
      "##################################################\n",
      "400\n",
      "50\n",
      "##################################################\n",
      "600\n",
      "##################################################\n",
      "Hello Menna H Mostafa\n"
     ]
    }
   ],
   "source": [
    "a, b, c = \"Osama\", \"Ahmed\", \"Sayed\"\n",
    "\n",
    "print(f\"Hello {a}\")\n",
    "print(f\"Hello {b}\")\n",
    "print(f\"Hello {c}\")\n",
    "\n",
    "# def                     => Function Keyword [Define]\n",
    "# say_hello()             => Function Name\n",
    "# name                    => Parameter\n",
    "# print(f\"Hello {name}\")  => Task\n",
    "# say_hello(\"Ahmed\")      => Ahmed is The Argument\n",
    "\n",
    "print(\"#\" * 50)\n",
    "\n",
    "def say_hello(n):\n",
    "\n",
    "  print(f\"Hello {n}\")\n",
    "\n",
    "say_hello(a)\n",
    "say_hello(b)\n",
    "say_hello(c)\n",
    "\n",
    "print(\"#\" * 50)\n",
    "\n",
    "def addition(n1, n2):\n",
    "\n",
    "  print(n1 + n2)\n",
    "\n",
    "addition(100, 300)\n",
    "addition(-50, 100)\n",
    "\n",
    "print(\"#\" * 50)\n",
    "\n",
    "def addition(n1, n2):\n",
    "\n",
    "  if type(n1) != int or type(n2) != int:\n",
    "\n",
    "    print(\"Only Integers Allowed\")\n",
    "\n",
    "  else:\n",
    "\n",
    "    print(n1 + n2)\n",
    "\n",
    "addition(100, 500)\n",
    "\n",
    "print(\"#\" * 50)\n",
    "\n",
    "def full_name(first, middle, last):\n",
    "\n",
    "  print(f\"Hello {first.strip().capitalize()} {middle.upper():.1s} {last.capitalize()}\")\n",
    "\n",
    "full_name(\"   menna   \", 'harmas', \"mostafa\")"
   ]
  },
  {
   "cell_type": "markdown",
   "metadata": {},
   "source": [
    "- <span style=\"color:salmon\"> Function Packing, Unpacking Arguments </span>"
   ]
  },
  {
   "cell_type": "code",
   "execution_count": 24,
   "metadata": {},
   "outputs": [
    {
     "name": "stdout",
     "output_type": "stream",
     "text": [
      "1 2 3 4\n",
      "[1, 2, 3, 5]\n",
      "1 2 3 5\n",
      "##################################################\n",
      "Hello Osama\n",
      "Hello Ahmed\n",
      "Hello Sayed\n",
      "Hello Mahmoud\n",
      "##################################################\n",
      "Hello Osama Your Skills Is: \n",
      "Html\n",
      "CSS\n",
      "JS\n",
      "Hello Ahmed Your Skills Is: \n",
      "Html\n",
      "CSS\n",
      "JS\n",
      "Python\n",
      "PHP\n",
      "MySQL\n"
     ]
    }
   ],
   "source": [
    "print(1, 2, 3, 4)\n",
    "\n",
    "myList = [1, 2, 3, 5]\n",
    "\n",
    "\n",
    "print(myList)\n",
    "print(*myList)\n",
    "\n",
    "print(\"#\" * 50)\n",
    "\n",
    "def say_hello(*peoples):  # n1, n2, n3, n4\n",
    "\n",
    "  for name in peoples:\n",
    "\n",
    "    print(f\"Hello {name}\")\n",
    "\n",
    "say_hello(\"Osama\", \"Ahmed\", \"Sayed\", \"Mahmoud\")\n",
    "\n",
    "print(\"#\" * 50)\n",
    "\n",
    "def show_details(name, *skills):\n",
    "\n",
    "  print(f\"Hello {name} Your Skills Is: \")\n",
    "\n",
    "  for skill in skills:\n",
    "\n",
    "    print(skill)\n",
    "\n",
    "show_details(\"Osama\", \"Html\", \"CSS\", \"JS\")\n",
    "show_details(\"Ahmed\", \"Html\", \"CSS\", \"JS\", \"Python\", \"PHP\", \"MySQL\")"
   ]
  },
  {
   "cell_type": "markdown",
   "metadata": {},
   "source": [
    "- <span style=\"color:salmon\"> Function Default Parameters </span>"
   ]
  },
  {
   "cell_type": "code",
   "execution_count": 25,
   "metadata": {},
   "outputs": [
    {
     "name": "stdout",
     "output_type": "stream",
     "text": [
      "Hello Osama Your Age is 36 and Your Country Is Egypt\n",
      "Hello Mahmoud Your Age is 28 and Your Country Is KSA\n",
      "Hello Sameh Your Age is 38 and Your Country Is Unknown\n",
      "Hello Ramy Your Age is Unknown and Your Country Is Unknown\n",
      "Hello Unknown Your Age is Unknown and Your Country Is Unknown\n"
     ]
    }
   ],
   "source": [
    "def say_hello(name=\"Unknown\", age=\"Unknown\", country=\"Unknown\"):\n",
    "\n",
    "  print(f\"Hello {name} Your Age is {age} and Your Country Is {country}\")\n",
    "\n",
    "say_hello(\"Osama\", 36, \"Egypt\")\n",
    "say_hello(\"Mahmoud\", 28, \"KSA\")\n",
    "say_hello(\"Sameh\", 38)\n",
    "say_hello(\"Ramy\")\n",
    "say_hello()"
   ]
  },
  {
   "cell_type": "markdown",
   "metadata": {},
   "source": [
    "- <span style=\"color:salmon\">  Function Packing, Unpacking Keyword Arguments </span>"
   ]
  },
  {
   "cell_type": "code",
   "execution_count": 27,
   "metadata": {},
   "outputs": [
    {
     "name": "stdout",
     "output_type": "stream",
     "text": [
      "<class 'tuple'>\n",
      "Html\n",
      "CSS\n",
      "JS\n",
      "<class 'dict'>\n",
      "Html => 80%\n",
      "Css => 70%\n",
      "Js => 50%\n",
      "Python => 80%\n",
      "Go => 40%\n"
     ]
    }
   ],
   "source": [
    "def show_skills(*skills):\n",
    "\n",
    "  print(type(skills))\n",
    "\n",
    "  for skill in skills:\n",
    "\n",
    "    print(f\"{skill}\")\n",
    "\n",
    "show_skills(\"Html\", \"CSS\", \"JS\")\n",
    "\n",
    "mySkills = {\n",
    "  'Html': \"80%\",\n",
    "  'Css': \"70%\",\n",
    "  'Js': \"50%\",\n",
    "  'Python': \"80%\",\n",
    "  \"Go\": \"40%\"\n",
    "}\n",
    "\n",
    "def show_skills(**skills):\n",
    "\n",
    "  print(type(skills))\n",
    "\n",
    "  for skill, value in skills.items():\n",
    "\n",
    "    print(f\"{skill} => {value}\")\n",
    "\n",
    "show_skills(**mySkills)"
   ]
  },
  {
   "cell_type": "markdown",
   "metadata": {},
   "source": [
    "- <span style=\"color:salmon\"> Function Packing, Unpacking Arguments Training’s </span>"
   ]
  },
  {
   "cell_type": "code",
   "execution_count": 28,
   "metadata": {},
   "outputs": [
    {
     "name": "stdout",
     "output_type": "stream",
     "text": [
      "Hello Osama \n",
      "Skills Without Progress Is: \n",
      "- Html\n",
      "- CSS\n",
      "- JS\n",
      "Skills With Progress Is: \n",
      "- Go => 80%\n",
      "- Python => 50%\n",
      "- MySQL => 80%\n"
     ]
    }
   ],
   "source": [
    "myTuple = (\"Html\", \"CSS\", \"JS\")\n",
    "\n",
    "mySkills = {\n",
    "  'Go': \"80%\",\n",
    "  'Python': \"50%\",\n",
    "  'MySQL': \"80%\"\n",
    "}\n",
    "\n",
    "def show_skills(name, *skills, **skillsWithProgres):\n",
    "\n",
    "  print(f\"Hello {name} \\nSkills Without Progress Is: \")\n",
    "\n",
    "  for skill in skills:\n",
    "\n",
    "    print(f\"- {skill}\")\n",
    "\n",
    "  print(\"Skills With Progress Is: \")\n",
    "\n",
    "  for skill_key, skill_value in skillsWithProgres.items():\n",
    "\n",
    "    print(f\"- {skill_key} => {skill_value}\")\n",
    "\n",
    "show_skills(\"Osama\", *myTuple, **mySkills)"
   ]
  },
  {
   "cell_type": "markdown",
   "metadata": {},
   "source": [
    "- <span style=\"color:salmon\"> Function Scope </span>"
   ]
  },
  {
   "cell_type": "code",
   "execution_count": 1,
   "metadata": {},
   "outputs": [
    {
     "name": "stdout",
     "output_type": "stream",
     "text": [
      "Print Variable From Function Scope 2\n",
      "Print Variable From Global Scope 2\n",
      "Print Variable From Function Scope 10\n",
      "Print Variable From Global Scope After One Function Is Called 2\n"
     ]
    }
   ],
   "source": [
    "x = 1  # Global Scope\n",
    "\n",
    "def one():\n",
    "\n",
    "  global x\n",
    "\n",
    "  x = 2\n",
    "\n",
    "  print(f\"Print Variable From Function Scope {x}\")\n",
    "\n",
    "def two():\n",
    "\n",
    "  x = 10\n",
    "\n",
    "  print(f\"Print Variable From Function Scope {x}\")\n",
    "\n",
    "one()\n",
    "print(f\"Print Variable From Global Scope {x}\")\n",
    "two()\n",
    "print(f\"Print Variable From Global Scope After One Function Is Called {x}\")"
   ]
  },
  {
   "cell_type": "markdown",
   "metadata": {},
   "source": [
    "- <span style=\"color:salmon\"> Function Recursion </span>"
   ]
  },
  {
   "cell_type": "code",
   "execution_count": 2,
   "metadata": {},
   "outputs": [
    {
     "name": "stdout",
     "output_type": "stream",
     "text": [
      "Print Start Function WWWoooorrrldd\n",
      "Print Before Condition WWWoooorrrldd\n",
      "Print Start Function WWoooorrrldd\n",
      "Print Before Condition WWoooorrrldd\n",
      "Print Start Function Woooorrrldd\n",
      "Print Before Return Woooorrrldd\n",
      "Print Start Function oooorrrldd\n",
      "Print Before Condition oooorrrldd\n",
      "Print Start Function ooorrrldd\n",
      "Print Before Condition ooorrrldd\n",
      "Print Start Function oorrrldd\n",
      "Print Before Condition oorrrldd\n",
      "Print Start Function orrrldd\n",
      "Print Before Return orrrldd\n",
      "Print Start Function rrrldd\n",
      "Print Before Condition rrrldd\n",
      "Print Start Function rrldd\n",
      "Print Before Condition rrldd\n",
      "Print Start Function rldd\n",
      "Print Before Return rldd\n",
      "Print Start Function ldd\n",
      "Print Before Return ldd\n",
      "Print Start Function dd\n",
      "Print Before Condition dd\n",
      "World\n"
     ]
    }
   ],
   "source": [
    "# Test Word [ WWWoooorrrldd ] # print(x[1:])\n",
    "\n",
    "def cleanWord(word):\n",
    "\n",
    "  if len(word) == 1:\n",
    "\n",
    "    return word\n",
    "\n",
    "  print(f\"Print Start Function {word}\")\n",
    "\n",
    "  if word[0] == word[1]:\n",
    "\n",
    "    print(f\"Print Before Condition {word}\")\n",
    "\n",
    "    return cleanWord(word[1:])\n",
    "\n",
    "  print(f\"Print Before Return {word}\")\n",
    "\n",
    "  return word[0] + cleanWord(word[1:])\n",
    "\n",
    "  # Stash [ World ]\n",
    "\n",
    "print(cleanWord(\"WWWoooorrrldd\"))"
   ]
  },
  {
   "cell_type": "markdown",
   "metadata": {},
   "source": [
    "- <span style=\"color:salmon\"> Function Lambda </span>"
   ]
  },
  {
   "cell_type": "markdown",
   "metadata": {},
   "source": [
    " <span style=\"color:salmon\"> \n",
    "\n",
    "- Function => lambda --\n",
    "- Anonymous Function --\n",
    " ------------------------\n",
    " [1] It Has No Name\n",
    "\n",
    " [2] You Can Call It Inline Without Defining It\n",
    "\n",
    " [3] You Can Use It In Return Data From Another Function\n",
    "\n",
    " [4] Lambda Used For Simple Functions and Def Handle The Large Tasks\n",
    "\n",
    " [5] Lambda is One Single Expression not Block Of Code\n",
    " \n",
    " [6] Lambda Type is Function\n",
    "\n",
    " </span>"
   ]
  },
  {
   "cell_type": "code",
   "execution_count": 2,
   "metadata": {},
   "outputs": [
    {
     "name": "stdout",
     "output_type": "stream",
     "text": [
      "Hello Menna your Age Is: 36\n",
      "Hello Menna your Age Is: 36\n",
      "say_hello\n",
      "<lambda>\n",
      "<class 'function'>\n"
     ]
    }
   ],
   "source": [
    "def say_hello(name, age) : return f\"Hello {name} your Age Is: {age}\"\n",
    "\n",
    "hello = lambda name, age : f\"Hello {name} your Age Is: {age}\"\n",
    "\n",
    "print(say_hello(\"Menna\", 36))\n",
    "print(hello(\"Menna\", 36))\n",
    "\n",
    "print(say_hello.__name__)\n",
    "print(hello.__name__)\n",
    "\n",
    "print(type(hello))"
   ]
  },
  {
   "cell_type": "markdown",
   "metadata": {},
   "source": [
    " # <span style=\"color:skyblue\">[31] Files Handling   </span>"
   ]
  },
  {
   "cell_type": "markdown",
   "metadata": {},
   "source": [
    " <span style=\"color:salmon\"> \n",
    "\n",
    "- \"a\" Append  Open File For Appending Values, Create File If Not Exists\n",
    "- \"r\" Read    [Default Value] Open File For Read and Give Error If File is Not Exists\n",
    "- \"w\" Write   Open File For Writing, Create File If Not Exists\n",
    "- \"x\" Create  Create File, Give Error If File Exists\n",
    " </span>"
   ]
  },
  {
   "cell_type": "code",
   "execution_count": 18,
   "metadata": {},
   "outputs": [
    {
     "name": "stdout",
     "output_type": "stream",
     "text": [
      "c:\\Dell\\python\n"
     ]
    }
   ],
   "source": [
    "import os\n",
    "file = open(\"menna.txt\")\n",
    "# Main Current Working Directory\n",
    "print(os.getcwd())\n",
    "\n",
    "# Directory For The Opened File\n",
    "#print(os.path.dirname(os.path.abspath(__file__)))\n",
    "\n",
    "# Change Current Working Directory\n",
    "#os.chdir(os.path.dirname(os.path.abspath(__file__)))\n",
    "\n",
    "#print(os.getcwd())\n",
    "\n",
    "#print(os.path.abspath(__file__))\n",
    "\n",
    "#file = open(r\"D:\\Python\\Files\\nfiles\\menna.txt\")\n",
    "\n",
    "#file = open(\"D:\\Python\\Files\\menna.txt\")"
   ]
  },
  {
   "cell_type": "markdown",
   "metadata": {},
   "source": [
    "- <span style=\"color:salmon\"> Read Files </span>"
   ]
  },
  {
   "cell_type": "code",
   "execution_count": 24,
   "metadata": {},
   "outputs": [
    {
     "name": "stdout",
     "output_type": "stream",
     "text": [
      "<_io.TextIOWrapper name='c:\\\\Dell\\\\python\\\\menna.txt' mode='r' encoding='utf-8'>\n",
      "c:\\Dell\\python\\menna.txt\n",
      "r\n",
      "utf-8\n",
      "##################################################\n",
      "hello menna\n",
      "how you doing\n",
      "i am from text\n",
      "01 testing\n",
      "02 testing\n",
      "03 testing\n",
      "04 testing\n",
      "05 testing\n",
      "06 testing\n",
      "07 testing\n",
      "08 testing\n",
      "09 testing\n",
      "10 testing\n",
      "11 testing\n",
      "12 testing\n",
      "\n",
      "##################################################\n",
      "\n",
      "\n",
      "\n",
      "##################################################\n",
      "[]\n",
      "[]\n",
      "<class 'list'>\n",
      "##################################################\n"
     ]
    }
   ],
   "source": [
    "myFile = open(\"c:\\Dell\\python\\menna.txt\", \"r\")\n",
    "\n",
    "print(myFile)  # File Data Object\n",
    "print(myFile.name)\n",
    "print(myFile.mode)\n",
    "print(myFile.encoding)\n",
    "print(\"#\" * 50)\n",
    "\n",
    "print(myFile.read())\n",
    "print(myFile.read(5))\n",
    "print(\"#\" * 50)\n",
    "\n",
    "print(myFile.readline(5))\n",
    "print(myFile.readline())\n",
    "print(myFile.readline())\n",
    "print(\"#\" * 50)\n",
    "\n",
    "print(myFile.readlines())\n",
    "print(myFile.readlines(50))\n",
    "print(type(myFile.readlines()))\n",
    "print(\"#\" * 50)\n",
    "\n",
    "for line in myFile:\n",
    "\n",
    "  print(line)\n",
    "\n",
    "  if line.startswith(\"07\"):\n",
    "\n",
    "    break\n",
    "\n",
    "# Close The File\n",
    "\n",
    "myFile.close()"
   ]
  },
  {
   "cell_type": "markdown",
   "metadata": {},
   "source": [
    "- <span style=\"color:salmon\"> Write and Append in Files </span>"
   ]
  },
  {
   "cell_type": "code",
   "execution_count": 31,
   "metadata": {},
   "outputs": [
    {
     "data": {
      "text/plain": [
       "6"
      ]
     },
     "execution_count": 31,
     "metadata": {},
     "output_type": "execute_result"
    }
   ],
   "source": [
    "myFile = open(\"c:\\Dell\\python\\m.txt\", \"w\")\n",
    "myFile.write(\"Hello\\n\")\n",
    "myFile.write(\"Third Line\")\n",
    "\n",
    "myFile = open(r\"c:\\Dell\\python\\fun.txt\", \"w\")\n",
    "myFile.write(\"Elzero Web School\\n\" * 1000)\n",
    "\n",
    "myList = [\"Oasma\\n\", \"Ahmed\\n\", \"Sayed\\n\"]\n",
    "\n",
    "myFile = open(\"c:\\Dell\\python\\menna.txt\", \"w\")\n",
    "myFile.writelines(myList)\n",
    "\n",
    "myFile = open(\"c:\\Dell\\python\\menna.txt\", \"a\")\n",
    "myFile.write(\"Elzero\")"
   ]
  },
  {
   "cell_type": "markdown",
   "metadata": {},
   "source": [
    "- <span style=\"color:salmon\"> Important Info </span>"
   ]
  },
  {
   "cell_type": "code",
   "execution_count": 37,
   "metadata": {},
   "outputs": [],
   "source": [
    "import os\n",
    "\n",
    "#myFile = open(\"c:\\Dell\\python\\menna.txt\", \"a\")\n",
    "#myFile.truncate(5)\n",
    "\n",
    "#myFile = open(\"c:\\Dell\\python\\menna.txt\", \"a\")\n",
    "#print(myFile.tell())\n",
    "\n",
    "#myFile = open(\"c:\\Dell\\python\\menna.txt\", \"r\")\n",
    "#myFile.seek(11)\n",
    "#print(myFile.read())\n",
    "\n",
    "#os.remove(\"c:\\Dell\\python\\menna.txt\")"
   ]
  },
  {
   "cell_type": "markdown",
   "metadata": {},
   "source": [
    " # <span style=\"color:skyblue\">[32]    Built In Functions  </span>"
   ]
  },
  {
   "cell_type": "markdown",
   "metadata": {},
   "source": [
    " <span style=\"color:salmon\"> \n",
    "\n",
    "- all()\n",
    "- any()\n",
    "- bin()\n",
    "- id()\n",
    " </span>"
   ]
  },
  {
   "cell_type": "code",
   "execution_count": 1,
   "metadata": {},
   "outputs": [
    {
     "name": "stdout",
     "output_type": "stream",
     "text": [
      "Theres At Least One Element Is False\n",
      "Theres No Any True Elements\n",
      "0b1100100\n",
      "140716906746664\n",
      "140716906746696\n"
     ]
    }
   ],
   "source": [
    "x = [1, 2, 3, 4, []]\n",
    "\n",
    "if all(x):\n",
    "\n",
    "  print(\"All Elements Is True\")\n",
    "\n",
    "else:\n",
    "\n",
    "  print(\"Theres At Least One Element Is False\")\n",
    "\n",
    "x = [0, 0, []]\n",
    "\n",
    "if any(x):\n",
    "\n",
    "  print(\"There's At Least One Element is True\")\n",
    "\n",
    "else:\n",
    "\n",
    "  print(\"Theres No Any True Elements\")\n",
    "\n",
    "print(bin(100))\n",
    "\n",
    "a = 1\n",
    "b = 2\n",
    "\n",
    "print(id(a))\n",
    "print(id(b))"
   ]
  },
  {
   "cell_type": "markdown",
   "metadata": {},
   "source": [
    " <span style=\"color:salmon\"> \n",
    "\n",
    "- sum()\n",
    "- round()\n",
    "- range()\n",
    "- print()\n",
    " </span>"
   ]
  },
  {
   "cell_type": "code",
   "execution_count": 2,
   "metadata": {},
   "outputs": [
    {
     "name": "stdout",
     "output_type": "stream",
     "text": [
      "70\n",
      "110\n",
      "151\n",
      "150.55\n",
      "[]\n",
      "[0, 1, 2, 3, 4, 5, 6, 7, 8, 9]\n",
      "[0, 2, 4, 6, 8, 10, 12, 14, 16, 18]\n",
      "Hello @ Osama @ How @ Are @ You\n",
      "Hello | Osama | How | Are | You\n",
      "First Line Second Line\n",
      "Third Line\n"
     ]
    }
   ],
   "source": [
    "# sum(iterable, start)\n",
    "a = [1, 10, 19, 40]\n",
    "print(sum(a))\n",
    "print(sum(a, 40))\n",
    "\n",
    "# round(number, numofdigits)\n",
    "print(round(150.501))\n",
    "print(round(150.554, 2))\n",
    "\n",
    "# range(start, end, step)\n",
    "print(list(range(0)))\n",
    "print(list(range(10)))\n",
    "print(list(range(0, 20, 2)))\n",
    "\n",
    "# print()\n",
    "print(\"Hello @ Osama @ How @ Are @ You\")\n",
    "print(\"Hello\", \"Osama\", \"How\", \"Are\", \"You\", sep=\" | \")\n",
    "\n",
    "print(\"First Line\", end=\" \")\n",
    "print(\"Second Line\")\n",
    "print(\"Third Line\")"
   ]
  },
  {
   "cell_type": "markdown",
   "metadata": {},
   "source": [
    " <span style=\"color:salmon\"> \n",
    "\n",
    "- abs()\n",
    "- pow()\n",
    "- min()\n",
    "- max()\n",
    "- slice()\n",
    " </span>"
   ]
  },
  {
   "cell_type": "code",
   "execution_count": 3,
   "metadata": {},
   "outputs": [
    {
     "name": "stdout",
     "output_type": "stream",
     "text": [
      "100\n",
      "100\n",
      "10.19\n",
      "10.19\n",
      "##################################################\n",
      "32\n",
      "2\n",
      "##################################################\n",
      "-50\n",
      "Osama\n",
      "-100\n",
      "##################################################\n",
      "30\n",
      "Z\n",
      "100\n",
      "##################################################\n",
      "['A', 'B', 'C', 'D', 'E']\n",
      "['A', 'B', 'C', 'D', 'E']\n",
      "['C', 'D', 'E']\n"
     ]
    }
   ],
   "source": [
    "# abs()\n",
    "print(abs(100))\n",
    "print(abs(-100))\n",
    "print(abs(10.19))\n",
    "print(abs(-10.19))\n",
    "\n",
    "print(\"#\" * 50)\n",
    "\n",
    "# pow(base, exp, mod) => Power\n",
    "print(pow(2, 5))  # 2 * 2 * 2 * 2 * 2\n",
    "print(pow(2, 5, 10))  # (2 * 2 * 2 * 2 * 2) % 10\n",
    "\n",
    "print(\"#\" * 50)\n",
    "\n",
    "# min(item, item , item, or iterator)\n",
    "myNumbers = (1, 20, -50, -100, 100)\n",
    "print(min(1, 10, -50, 20, 30))\n",
    "print(min(\"X\", \"Z\", \"Osama\"))\n",
    "print(min(myNumbers))\n",
    "\n",
    "print(\"#\" * 50)\n",
    "\n",
    "# max(item, item , item, or iterator)\n",
    "myNumbers = (1, 20, -50, -100, 100)\n",
    "print(max(1, 10, -50, 20, 30))\n",
    "print(max(\"X\", \"Z\", \"Osama\"))\n",
    "print(max(myNumbers))\n",
    "\n",
    "print(\"#\" * 50)\n",
    "\n",
    "# slice(start, end, step)\n",
    "a = [\"A\", \"B\", \"C\", \"D\", \"E\", \"F\"]\n",
    "print(a[:5])\n",
    "print(a[slice(5)])\n",
    "print(a[slice(2, 5)])"
   ]
  },
  {
   "cell_type": "markdown",
   "metadata": {},
   "source": [
    " <span style=\"color:salmon\"> \n",
    "\n",
    "- Map\n",
    "\n",
    "- [1] Map Take A Function + Iterator\n",
    "- [2] Map Called Map Because It Map The Function On Every Element\n",
    "- [3] The Function Can Be Pre-Defined Function or Lambda Function\n",
    " </span>"
   ]
  },
  {
   "cell_type": "code",
   "execution_count": 10,
   "metadata": {},
   "outputs": [
    {
     "name": "stdout",
     "output_type": "stream",
     "text": [
      "<map object at 0x000001A39DE96BC0>\n",
      "- Osama -\n",
      "- Ahmed -\n",
      "- Sayed -\n",
      "##################################################\n",
      "- Osama -\n",
      "- Ahmed -\n",
      "- Sayed -\n"
     ]
    }
   ],
   "source": [
    "# Use Map With Predefined Function\n",
    "\n",
    "def formatText(text):\n",
    "\n",
    "  return f\"- {text.strip().capitalize()} -\"\n",
    "\n",
    "myTexts = [\" OSama \", \"AHMED\", \"  sAYed  \"]\n",
    "\n",
    "myFormatedData = map(formatText, myTexts)\n",
    "\n",
    "print(myFormatedData)\n",
    "\n",
    "for name in list(map(formatText, myTexts)):\n",
    "\n",
    "  print(name)\n",
    "\n",
    "print(\"#\" * 50)\n",
    "\n",
    "# Use Map With Lambda Function\n",
    "\n",
    "def formatText(text):\n",
    "\n",
    "  return f\"- {text.strip().capitalize()} -\"\n",
    "\n",
    "myTexts = [\" OSama \", \"AHMED\", \"  sAYed  \"]\n",
    "\n",
    "for name in list(map((lambda text: f\"- {text.strip().capitalize()} -\"), myTexts)):\n",
    "\n",
    "  print(name)"
   ]
  },
  {
   "cell_type": "markdown",
   "metadata": {},
   "source": [
    " <span style=\"color:salmon\"> \n",
    "\n",
    "- Filter\n",
    "\n",
    "- [1] Filter Take A Function + Iterator\n",
    "- [2] Filter Run A Function On Every Element\n",
    "- [3] The Function Can Be Pre-Defined Function or Lambda Function\n",
    "- [4] Filter Out All Elements For Which The Function Return True\n",
    "- [5] The Function Need To Return Boolean Value\n",
    " </span>"
   ]
  },
  {
   "cell_type": "code",
   "execution_count": 11,
   "metadata": {},
   "outputs": [
    {
     "name": "stdout",
     "output_type": "stream",
     "text": [
      "19\n",
      "20\n",
      "100\n",
      "##################################################\n",
      "Osama\n",
      "Omer\n",
      "Omar\n",
      "Othman\n",
      "##################################################\n",
      "Ahmed\n",
      "Ameer\n"
     ]
    }
   ],
   "source": [
    "# Example 1\n",
    "\n",
    "def checkNumber(num):\n",
    "\n",
    "  return num > 10\n",
    "\n",
    "myNumbers = [0, 0, 1, 19, 10, 20, 100, 5, 0]\n",
    "\n",
    "myResult = filter(checkNumber, myNumbers)\n",
    "\n",
    "for number in myResult:\n",
    "\n",
    "  print(number)\n",
    "\n",
    "print(\"#\" * 50)\n",
    "\n",
    "# Example 2\n",
    "\n",
    "def checkName(name):\n",
    "\n",
    "  return name.startswith(\"O\")\n",
    "\n",
    "myTexts = [\"Osama\", \"Omer\", \"Omar\", \"Ahmed\", \"Sayed\", \"Othman\"]\n",
    "\n",
    "myReturnedData = filter(checkName, myTexts)\n",
    "\n",
    "for person in myReturnedData:\n",
    "\n",
    "  print(person)\n",
    "\n",
    "print(\"#\" * 50)\n",
    "\n",
    "# Example 3\n",
    "\n",
    "myNames = [\"Osama\", \"Omer\", \"Omar\", \"Ahmed\", \"Sayed\", \"Othman\", \"Ameer\"]\n",
    "\n",
    "for p in filter(lambda name: name.startswith(\"A\"), myNames):\n",
    "\n",
    "  print(p)"
   ]
  },
  {
   "cell_type": "markdown",
   "metadata": {},
   "source": [
    " <span style=\"color:salmon\"> \n",
    "\n",
    "- Reduce\n",
    "\n",
    "- [1] Reduce Take A Function + Iterator\n",
    "- [2] Reduce Run A Function On FIrst and Second Element And Give Result\n",
    "- [3] Then Run Function On Result And Third Element\n",
    "- [4] Then Run Function On Rsult And Fourth Element And So On\n",
    "- [5] Till One ELement is Left And This is The Result of The Reduce\n",
    "- [6] The Function Can Be Pre-Defined Function or Lambda Function\n",
    " </span>"
   ]
  },
  {
   "cell_type": "code",
   "execution_count": 12,
   "metadata": {},
   "outputs": [
    {
     "name": "stdout",
     "output_type": "stream",
     "text": [
      "120\n"
     ]
    }
   ],
   "source": [
    "from functools import reduce\n",
    "\n",
    "def sumAll(num1, num2):\n",
    "\n",
    "  return num1 + num2\n",
    "\n",
    "numbers = [1, 8, 2, 9, 100]\n",
    "\n",
    "result = reduce(sumAll, numbers)\n",
    "\n",
    "result = reduce(lambda num1, num2: num1 + num2, numbers)\n",
    "\n",
    "print(result)\n",
    "\n",
    "# ((((1 + 8) + 2) + 9) + 100)"
   ]
  },
  {
   "cell_type": "markdown",
   "metadata": {},
   "source": [
    " <span style=\"color:salmon\"> \n",
    "\n",
    "- enumerate()\n",
    "- help()\n",
    "- reversed()\n",
    " </span>"
   ]
  },
  {
   "cell_type": "code",
   "execution_count": 13,
   "metadata": {},
   "outputs": [
    {
     "name": "stdout",
     "output_type": "stream",
     "text": [
      "<class 'enumerate'>\n",
      "20 - Html\n",
      "21 - Css\n",
      "22 - Js\n",
      "23 - PHP\n",
      "##################################################\n",
      "Help on built-in function print in module builtins:\n",
      "\n",
      "print(*args, sep=' ', end='\\n', file=None, flush=False)\n",
      "    Prints the values to a stream, or to sys.stdout by default.\n",
      "    \n",
      "    sep\n",
      "      string inserted between values, default a space.\n",
      "    end\n",
      "      string appended after the last value, default a newline.\n",
      "    file\n",
      "      a file-like object (stream); defaults to the current sys.stdout.\n",
      "    flush\n",
      "      whether to forcibly flush the stream.\n",
      "\n",
      "None\n",
      "##################################################\n",
      "<reversed object at 0x000001A39DC55DB0>\n",
      "o\n",
      "r\n",
      "e\n",
      "z\n",
      "l\n",
      "E\n",
      "PHP\n",
      "Js\n",
      "Css\n",
      "Html\n"
     ]
    }
   ],
   "source": [
    "# enumerate(iterable, start=0)\n",
    "\n",
    "mySkills = [\"Html\", \"Css\", \"Js\", \"PHP\"]\n",
    "\n",
    "mySkillsWithCounter = enumerate(mySkills, 20)\n",
    "\n",
    "print(type(mySkillsWithCounter))\n",
    "\n",
    "for counter, skill in mySkillsWithCounter:\n",
    "\n",
    "  print(f\"{counter} - {skill}\")\n",
    "\n",
    "print(\"#\" * 50)\n",
    "\n",
    "# help()\n",
    "\n",
    "print(help(print))\n",
    "\n",
    "print(\"#\" * 50)\n",
    "\n",
    "# reversed(iterable)\n",
    "\n",
    "myString = \"Elzero\"\n",
    "\n",
    "print(reversed(myString))\n",
    "\n",
    "for letter in reversed(myString):\n",
    "\n",
    "  print(letter)\n",
    "\n",
    "for s in reversed(mySkills):\n",
    "\n",
    "  print(s)\n"
   ]
  },
  {
   "cell_type": "markdown",
   "metadata": {},
   "source": [
    " # <span style=\"color:skyblue\">[33]    Modules  </span>"
   ]
  },
  {
   "cell_type": "markdown",
   "metadata": {},
   "source": [
    " <span style=\"color:salmon\"> \n",
    "\n",
    "- [1] Module is A File Contain A Set Of Functions\n",
    "- [2] You Can Import Module in Your App To Help You\n",
    "- [3] You Can Import Multiple Modules\n",
    "- [4] You Can Create Your Own Modules\n",
    "- [5] Modules Saves Your Time\n",
    " </span>"
   ]
  },
  {
   "cell_type": "code",
   "execution_count": 15,
   "metadata": {},
   "outputs": [
    {
     "name": "stdout",
     "output_type": "stream",
     "text": [
      "<module 'random' from 'c:\\\\Users\\\\dell\\\\anaconda3\\\\Lib\\\\random.py'>\n",
      "Print Random Float Number 0.11466151954019765\n",
      "['BPF', 'LOG4', 'NV_MAGICCONST', 'RECIP_BPF', 'Random', 'SG_MAGICCONST', 'SystemRandom', 'TWOPI', '_ONE', '_Sequence', '_Set', '__all__', '__builtins__', '__cached__', '__doc__', '__file__', '__loader__', '__name__', '__package__', '__spec__', '_accumulate', '_acos', '_bisect', '_ceil', '_cos', '_e', '_exp', '_floor', '_index', '_inst', '_isfinite', '_log', '_os', '_pi', '_random', '_repeat', '_sha512', '_sin', '_sqrt', '_test', '_test_generator', '_urandom', '_warn', 'betavariate', 'choice', 'choices', 'expovariate', 'gammavariate', 'gauss', 'getrandbits', 'getstate', 'lognormvariate', 'normalvariate', 'paretovariate', 'randbytes', 'randint', 'random', 'randrange', 'sample', 'seed', 'setstate', 'shuffle', 'triangular', 'uniform', 'vonmisesvariate', 'weibullvariate']\n",
      "Print Random Float 0.40348434053721605\n",
      "Print Random Integer 205\n"
     ]
    }
   ],
   "source": [
    "# Import Main Module\n",
    "import random\n",
    "print(random)\n",
    "print(f\"Print Random Float Number {random.random()}\")\n",
    "\n",
    "# Show All Functions Inside Module\n",
    "print(dir(random))\n",
    "\n",
    "# Import One Or Two Functions From Module\n",
    "from random import randint, random\n",
    "print(f\"Print Random Float {random()}\")\n",
    "print(f\"Print Random Integer {randint(100, 900)}\")"
   ]
  },
  {
   "cell_type": "markdown",
   "metadata": {},
   "source": [
    "- <span style=\"color:salmon\"> Create Your Module </span>"
   ]
  },
  {
   "cell_type": "code",
   "execution_count": 19,
   "metadata": {},
   "outputs": [
    {
     "name": "stdout",
     "output_type": "stream",
     "text": [
      "['c:\\\\Dell\\\\python', 'c:\\\\Users\\\\dell\\\\anaconda3\\\\python311.zip', 'c:\\\\Users\\\\dell\\\\anaconda3\\\\DLLs', 'c:\\\\Users\\\\dell\\\\anaconda3\\\\Lib', 'c:\\\\Users\\\\dell\\\\anaconda3', '', 'c:\\\\Users\\\\dell\\\\anaconda3\\\\Lib\\\\site-packages', 'c:\\\\Users\\\\dell\\\\anaconda3\\\\Lib\\\\site-packages\\\\win32', 'c:\\\\Users\\\\dell\\\\anaconda3\\\\Lib\\\\site-packages\\\\win32\\\\lib', 'c:\\\\Users\\\\dell\\\\anaconda3\\\\Lib\\\\site-packages\\\\Pythonwin', 'D:\\\\Games', 'D:\\\\Games', 'D:\\\\Games']\n",
      "['c:\\\\Dell\\\\python', 'c:\\\\Users\\\\dell\\\\anaconda3\\\\python311.zip', 'c:\\\\Users\\\\dell\\\\anaconda3\\\\DLLs', 'c:\\\\Users\\\\dell\\\\anaconda3\\\\Lib', 'c:\\\\Users\\\\dell\\\\anaconda3', '', 'c:\\\\Users\\\\dell\\\\anaconda3\\\\Lib\\\\site-packages', 'c:\\\\Users\\\\dell\\\\anaconda3\\\\Lib\\\\site-packages\\\\win32', 'c:\\\\Users\\\\dell\\\\anaconda3\\\\Lib\\\\site-packages\\\\win32\\\\lib', 'c:\\\\Users\\\\dell\\\\anaconda3\\\\Lib\\\\site-packages\\\\Pythonwin', 'D:\\\\Games', 'D:\\\\Games', 'D:\\\\Games', 'D:\\\\Games']\n",
      "['SayHello', 'SayHowAreYou', '__builtins__', '__cached__', '__doc__', '__file__', '__loader__', '__name__', '__package__', '__spec__']\n",
      " Hello Ahmed\n",
      " Hello Osama\n",
      " Hello Mohamed\n",
      " How Are You Ahmed ?\n",
      " How Are You Osama ?\n",
      " How Are You Mohamed ?\n",
      " Hello Ahmed\n",
      " Hello Osama\n",
      " Hello Mohamed\n",
      " How Are You Ahmed ?\n",
      " How Are You Osama ?\n",
      " How Are You Mohamed ?\n",
      " Hello Osama\n",
      " Hello Menna\n"
     ]
    }
   ],
   "source": [
    "import sys\n",
    "print(sys.path)\n",
    "sys.path.append(r\"D:\\Games\")\n",
    "print(sys.path)\n",
    "\n",
    "import menna\n",
    "print(dir(menna))\n",
    "\n",
    "menna.SayHello(\"Ahmed\")\n",
    "menna.SayHello(\"Osama\")\n",
    "menna.SayHello(\"Mohamed\")\n",
    "\n",
    "menna.SayHowAreYou(\"Ahmed\")\n",
    "menna.SayHowAreYou(\"Osama\")\n",
    "menna.SayHowAreYou(\"Mohamed\")\n",
    "\n",
    "# Alias\n",
    "\n",
    "import menna as ee\n",
    "\n",
    "ee.SayHello(\"Ahmed\")\n",
    "ee.SayHello(\"Osama\")\n",
    "ee.SayHello(\"Mohamed\")\n",
    "\n",
    "ee.SayHowAreYou(\"Ahmed\")\n",
    "ee.SayHowAreYou(\"Osama\")\n",
    "ee.SayHowAreYou(\"Mohamed\")\n",
    "\n",
    "from menna import SayHello\n",
    "\n",
    "SayHello(\"Osama\")\n",
    "\n",
    "from menna import SayHello as ss\n",
    "\n",
    "ss(\"Menna\")"
   ]
  },
  {
   "cell_type": "markdown",
   "metadata": {},
   "source": [
    " <span style=\"color:salmon\">\n",
    "\n",
    "-External Packages\n",
    "\n",
    "- [1] Module vs Package\n",
    "- [2] External Packages Downloaded From The Internet\n",
    "- [3] You Can Install Packages With Python Package Manager PIP\n",
    "- [4] PIP Install the Package and Its Dependencies\n",
    "- [5] Modules List \"https://docs.python.org/3/py-modindex.html\"\n",
    "- [6] Packages and Modules Directory \"https://pypi.org/\"\n",
    "- [7] PIP Manual \"https://pip.pypa.io/en/stable/reference/pip_install/\"\n",
    " </span>"
   ]
  },
  {
   "cell_type": "code",
   "execution_count": 24,
   "metadata": {},
   "outputs": [
    {
     "name": "stdout",
     "output_type": "stream",
     "text": [
      "['COLOR_CODES', 'CharNotPrinted', 'DEFAULT_FONT', 'Figlet', 'FigletBuilder', 'FigletError', 'FigletFont', 'FigletProduct', 'FigletRenderingEngine', 'FigletString', 'FontError', 'FontNotFound', 'InvalidColor', 'OptionParser', 'RESET_COLORS', 'SHARED_DIRECTORY', '__author__', '__builtins__', '__cached__', '__copyright__', '__doc__', '__file__', '__loader__', '__name__', '__package__', '__path__', '__spec__', '__version__', 'color_to_ansi', 'figlet_format', 'fonts', 'importlib', 'itertools', 'main', 'os', 'parse_color', 'pathlib', 'print_figlet', 'print_function', 're', 'shutil', 'sys', 'unicode_literals', 'unicode_string', 'version', 'zipfile']\n",
      " __  __                        \n",
      "|  \\/  | ___ _ __  _ __   __ _ \n",
      "| |\\/| |/ _ \\ '_ \\| '_ \\ / _` |\n",
      "| |  | |  __/ | | | | | | (_| |\n",
      "|_|  |_|\\___|_| |_|_| |_|\\__,_|\n",
      "                               \n",
      "\n",
      "\u001b[34mMenna\u001b[0m\n",
      "\u001b[34m __  __                        \n",
      "|  \\/  | ___ _ __  _ __   __ _ \n",
      "| |\\/| |/ _ \\ '_ \\| '_ \\ / _` |\n",
      "| |  | |  __/ | | | | | | (_| |\n",
      "|_|  |_|\\___|_| |_|_| |_|\\__,_|\n",
      "                               \n",
      "\u001b[0m\n"
     ]
    }
   ],
   "source": [
    "import termcolor\n",
    "import pyfiglet\n",
    "\n",
    "print(dir(pyfiglet))\n",
    "print(pyfiglet.figlet_format(\"Menna\"))\n",
    "print(termcolor.colored(\"Menna\", color=\"blue\"))\n",
    "\n",
    "print(termcolor.colored(pyfiglet.figlet_format(\"Menna\"), color=\"blue\"))"
   ]
  },
  {
   "cell_type": "markdown",
   "metadata": {},
   "source": [
    " # <span style=\"color:skyblue\">[34]    Date And Time  </span>"
   ]
  },
  {
   "cell_type": "code",
   "execution_count": 25,
   "metadata": {},
   "outputs": [
    {
     "name": "stdout",
     "output_type": "stream",
     "text": [
      "2023-10-04 14:27:05.178223\n",
      "########################################\n",
      "2023\n",
      "10\n",
      "4\n",
      "########################################\n",
      "0001-01-01 00:00:00\n",
      "9999-12-31 23:59:59.999999\n",
      "########################################\n",
      "14:27:05.182911\n",
      "########################################\n",
      "14\n",
      "27\n",
      "5\n",
      "########################################\n",
      "00:00:00\n",
      "23:59:59.999999\n",
      "########################################\n",
      "1982-10-25 00:00:00\n",
      "1982-10-25 10:45:55.150364\n",
      "########################################\n",
      "My Birthday is 1982-10-25 00:00:00 And Date Now Is 2023-10-04 14:27:05.182911\n",
      " I Lived For 14954 days, 14:27:05.182911\n",
      " I Lived For 14954 Days.\n"
     ]
    }
   ],
   "source": [
    "import datetime\n",
    "\n",
    "# print(dir(datetime))\n",
    "# print(dir(datetime.datetime))\n",
    "\n",
    "# Print The Current Date and Time\n",
    "print(datetime.datetime.now())\n",
    "\n",
    "print(\"#\" * 40)\n",
    "\n",
    "# Print The Current Year\n",
    "print(datetime.datetime.now().year)\n",
    "\n",
    "# Print The Current Month\n",
    "print(datetime.datetime.now().month)\n",
    "\n",
    "# Print The Current Day\n",
    "print(datetime.datetime.now().day)\n",
    "\n",
    "print(\"#\" * 40)\n",
    "\n",
    "# Print Start and End Of Date\n",
    "print(datetime.datetime.min)\n",
    "print(datetime.datetime.max)\n",
    "\n",
    "print(\"#\" * 40)\n",
    "\n",
    "# print(dir(datetime.datetime.now()))\n",
    "\n",
    "# Print The Current Time\n",
    "print(datetime.datetime.now().time())\n",
    "\n",
    "print(\"#\" * 40)\n",
    "\n",
    "# Print The Current Time Hour\n",
    "print(datetime.datetime.now().time().hour)\n",
    "\n",
    "# Print The Current Time Minute\n",
    "print(datetime.datetime.now().time().minute)\n",
    "\n",
    "# Print The Current Time Second\n",
    "print(datetime.datetime.now().time().second)\n",
    "\n",
    "print(\"#\" * 40)\n",
    "\n",
    "# Print Start and End Of Time\n",
    "print(datetime.time.min)\n",
    "print(datetime.time.max)\n",
    "\n",
    "print(\"#\" * 40)\n",
    "\n",
    "# Print Specific Date\n",
    "print(datetime.datetime(1982, 10, 25))\n",
    "print(datetime.datetime(1982, 10, 25, 10, 45, 55, 150364))\n",
    "\n",
    "print(\"#\" * 40)\n",
    "\n",
    "myBirthDay = datetime.datetime(1982, 10, 25)\n",
    "dateNow = datetime.datetime.now()\n",
    "\n",
    "print(f\"My Birthday is {myBirthDay} And \", end=\"\")\n",
    "print(f\"Date Now Is {dateNow}\")\n",
    "\n",
    "print(f\" I Lived For {dateNow - myBirthDay}\")\n",
    "print(f\" I Lived For {(dateNow - myBirthDay).days} Days.\")"
   ]
  },
  {
   "cell_type": "markdown",
   "metadata": {},
   "source": [
    " <span style=\"color:salmon\"> \n",
    " \n",
    "- Format Date\n",
    "- https://strftime.org/\n",
    " </span>"
   ]
  },
  {
   "cell_type": "code",
   "execution_count": 27,
   "metadata": {},
   "outputs": [
    {
     "name": "stdout",
     "output_type": "stream",
     "text": [
      "2003-11-18 00:00:00\n",
      "Tue\n",
      "Tuesday\n",
      "Nov\n",
      "November\n",
      "18 November 2003\n",
      "18, November, 2003\n",
      "18/November/2003\n",
      "18 - November - 2003\n",
      "November - 2003\n"
     ]
    }
   ],
   "source": [
    "import datetime\n",
    "\n",
    "myBirthday = datetime.datetime(2003, 11, 18)\n",
    "\n",
    "print(myBirthday)\n",
    "print(myBirthday.strftime(\"%a\"))\n",
    "print(myBirthday.strftime(\"%A\"))\n",
    "print(myBirthday.strftime(\"%b\"))\n",
    "print(myBirthday.strftime(\"%B\"))\n",
    "\n",
    "print(myBirthday.strftime(\"%d %B %Y\"))\n",
    "print(myBirthday.strftime(\"%d, %B, %Y\"))\n",
    "print(myBirthday.strftime(\"%d/%B/%Y\"))\n",
    "print(myBirthday.strftime(\"%d - %B - %Y\"))\n",
    "print(myBirthday.strftime(\"%B - %Y\"))"
   ]
  },
  {
   "cell_type": "markdown",
   "metadata": {},
   "source": [
    "- <span style=\"color:salmon\"> Iterable vs Iterator </span>"
   ]
  },
  {
   "cell_type": "markdown",
   "metadata": {},
   "source": [
    " <span style=\"color:salmon\"> \n",
    "\n",
    "- Iterable\n",
    "\n",
    "- [1] Object Contains Data That Can Be Iterated Upon\n",
    "- [2] Examples (String, List, Set, Tuple, Dictionary)\n",
    " ------------------------------------------\n",
    "- Iterator\n",
    "\n",
    "- [1] Object Used To Iterate Over Iterable Using next() Method Return 1 Element At A Time\n",
    "- [2] You Can Generate Iterator From Iterable When Using iter() Method\n",
    "- [3] For Loop Already Calls iter() Method on The Iterable Behind The Scene\n",
    "- [4] Gives \"StopIteration\" If Theres No Next Element\n",
    " </span>"
   ]
  },
  {
   "cell_type": "code",
   "execution_count": 33,
   "metadata": {},
   "outputs": [
    {
     "name": "stdout",
     "output_type": "stream",
     "text": [
      "M e n n a 1 2 3 4 5 M\n",
      "e\n",
      "n\n",
      "n\n",
      "a\n",
      "M e n n a "
     ]
    }
   ],
   "source": [
    "myString = \"Menna\"\n",
    "\n",
    "myList = [1, 2, 3, 4, 5]\n",
    "\n",
    "for letter in myString:\n",
    "\n",
    "  print(letter, end=\" \")\n",
    "\n",
    "for number in myList:\n",
    "\n",
    "  print(number, end=\" \")\n",
    "\n",
    "myIterator = iter(myString)\n",
    "\n",
    "print(next(myIterator))\n",
    "print(next(myIterator))\n",
    "print(next(myIterator))\n",
    "print(next(myIterator))\n",
    "print(next(myIterator))\n",
    "#print(next(myIterator))  # stop iteration\n",
    "\n",
    "for letter in iter(\"Menna\"):\n",
    "\n",
    "  print(letter, end=\" \")"
   ]
  },
  {
   "cell_type": "markdown",
   "metadata": {},
   "source": [
    " <span style=\"color:salmon\">  \n",
    " \n",
    "- Generators \n",
    "\n",
    "- [1] Generator is a Function With \"yield\" Keyword Instead of \"return\"\n",
    "- [2] It Support Iteration and Return Generator Iterator By Calling \"yield\"\n",
    "- [3] Generator Function Can Have one or More \"yield\"\n",
    "- [4] By Using next() It Resume From Where It Called \"yield\" Not From Begining\n",
    "- [5] When Called, Its Not Start Automatically, Its Only Give You The Control\n",
    " </span>"
   ]
  },
  {
   "cell_type": "code",
   "execution_count": 36,
   "metadata": {},
   "outputs": [
    {
     "name": "stdout",
     "output_type": "stream",
     "text": [
      "1 Hello From Python\n",
      "2 3\n",
      "4\n"
     ]
    }
   ],
   "source": [
    "def myGenerator():\n",
    "  yield 1\n",
    "  yield 2\n",
    "  yield 3\n",
    "  yield 4\n",
    "\n",
    "myGen = myGenerator()\n",
    "\n",
    "print(next(myGen), end=\" \")\n",
    "print(\"Hello From Python\")\n",
    "print(next(myGen), end=\" \")\n",
    "\n",
    "for number in myGen:\n",
    "  print(number)"
   ]
  },
  {
   "cell_type": "markdown",
   "metadata": {},
   "source": [
    " # <span style=\"color:skyblue\">[35]   Decorators  </span>"
   ]
  },
  {
   "cell_type": "markdown",
   "metadata": {},
   "source": [
    " <span style=\"color:salmon\"> \n",
    "\n",
    "- [1] Sometimes Called Meta Programming\n",
    "- [2] Everything in Python is Object Even Functions\n",
    "- [3] Decorator Take A Function and Add Some Functionality and Return It\n",
    "- [4] Decorator Wrap Other Function and Enhance Their Behaviour\n",
    "- [5] Decorator is Higher Order Function (Function Accept Function As Parameter)\n",
    " </span>"
   ]
  },
  {
   "cell_type": "code",
   "execution_count": 40,
   "metadata": {},
   "outputs": [
    {
     "name": "stdout",
     "output_type": "stream",
     "text": [
      "Before\n",
      "Before\n",
      "Hello From Say Hello Function\n",
      "After\n",
      "After\n",
      "##################################################\n",
      "Before\n",
      "Hello From Say Hello Function\n",
      "After\n",
      "##################################################\n",
      "Before\n",
      "Hello From Say How Are You Function\n",
      "After\n"
     ]
    }
   ],
   "source": [
    "def myDecorator(func):  # Decorator\n",
    "\n",
    "  def nestedFunc():  # Any Name Its Just For Decoration\n",
    "\n",
    "    print(\"Before\")  # Message From Decorator\n",
    "\n",
    "    func()  # Execute Function\n",
    "\n",
    "    print(\"After\")  # Message From Decorator\n",
    "\n",
    "  return nestedFunc  # Return All Data\n",
    "\n",
    "@myDecorator\n",
    "\n",
    "def sayHello():\n",
    "\n",
    "  print(\"Hello From Say Hello Function\")\n",
    "\n",
    "@myDecorator\n",
    "\n",
    "def sayHowAreYou():\n",
    "\n",
    "  print(\"Hello From Say How Are You Function\")\n",
    "\n",
    "afterDecoration = myDecorator(sayHello)\n",
    "\n",
    "afterDecoration()\n",
    "\n",
    "print(\"#\" * 50)\n",
    "\n",
    "sayHello()\n",
    "\n",
    "print(\"#\" * 50)\n",
    "\n",
    "sayHowAreYou()"
   ]
  },
  {
   "cell_type": "markdown",
   "metadata": {},
   "source": [
    "- <span style=\"color:salmon\"> Decorators – Function with Parameters </span>"
   ]
  },
  {
   "cell_type": "code",
   "execution_count": 41,
   "metadata": {},
   "outputs": [
    {
     "name": "stdout",
     "output_type": "stream",
     "text": [
      "Beware One Of The Numbers Is Less Than Zero\n",
      "Coming From Decorator Two\n",
      "85\n"
     ]
    }
   ],
   "source": [
    "def myDecorator(func):  # Decorator\n",
    "\n",
    "  def nestedFunc(num1, num2):  # Any Name Its Just For Decoration\n",
    "\n",
    "    if num1 < 0 or num2 < 0:\n",
    "\n",
    "      print(\"Beware One Of The Numbers Is Less Than Zero\")\n",
    "\n",
    "    func(num1, num2)  # Execute Function\n",
    "\n",
    "  return nestedFunc  # Return All Data\n",
    "\n",
    "def myDecoratorTwo(func):  # Decorator\n",
    "\n",
    "  def nestedFunc(num1, num2):  # Any Name Its Just For Decoration\n",
    "\n",
    "    print(\"Coming From Decorator Two\")\n",
    "\n",
    "    func(num1, num2)  # Execute Function\n",
    "\n",
    "  return nestedFunc  # Return All Data\n",
    "\n",
    "@myDecorator\n",
    "@myDecoratorTwo\n",
    "\n",
    "def calculate(n1, n2):\n",
    "\n",
    "  print(n1 + n2)\n",
    "\n",
    "calculate(-5, 90)\n"
   ]
  },
  {
   "cell_type": "markdown",
   "metadata": {},
   "source": [
    "- <span style=\"color:salmon\"> Practical Speed Test </span>"
   ]
  },
  {
   "cell_type": "code",
   "execution_count": 21,
   "metadata": {},
   "outputs": [
    {
     "name": "stdout",
     "output_type": "stream",
     "text": [
      "Beware One Of The Numbers Is Less Than Zero\n",
      "285\n",
      "1\n",
      "2\n",
      "3\n",
      "4\n",
      "5\n",
      "6\n",
      "7\n",
      "8\n",
      "9\n",
      "10\n",
      "11\n",
      "12\n",
      "13\n",
      "14\n",
      "15\n",
      "16\n",
      "17\n",
      "18\n",
      "19\n",
      "20\n",
      "21\n",
      "22\n",
      "23\n",
      "24\n",
      "25\n",
      "26\n",
      "27\n",
      "28\n",
      "29\n",
      "30\n",
      "31\n",
      "32\n",
      "33\n",
      "34\n",
      "35\n",
      "36\n",
      "37\n",
      "38\n",
      "39\n",
      "40\n",
      "41\n",
      "42\n",
      "43\n",
      "44\n",
      "45\n",
      "46\n",
      "47\n",
      "48\n",
      "49\n",
      "50\n",
      "51\n",
      "52\n",
      "53\n",
      "54\n",
      "55\n",
      "56\n",
      "57\n",
      "58\n",
      "59\n",
      "60\n",
      "61\n",
      "62\n",
      "63\n",
      "64\n",
      "65\n",
      "66\n",
      "67\n",
      "68\n",
      "69\n",
      "70\n",
      "71\n",
      "72\n",
      "73\n",
      "74\n",
      "75\n",
      "76\n",
      "77\n",
      "78\n",
      "79\n",
      "80\n",
      "81\n",
      "82\n",
      "83\n",
      "84\n",
      "85\n",
      "86\n",
      "87\n",
      "88\n",
      "89\n",
      "90\n",
      "91\n",
      "92\n",
      "93\n",
      "94\n",
      "95\n",
      "96\n",
      "97\n",
      "98\n",
      "99\n",
      "100\n",
      "101\n",
      "102\n",
      "103\n",
      "104\n",
      "105\n",
      "106\n",
      "107\n",
      "108\n",
      "109\n",
      "110\n",
      "111\n",
      "112\n",
      "113\n",
      "114\n",
      "115\n",
      "116\n",
      "117\n",
      "118\n",
      "119\n",
      "120\n",
      "121\n",
      "122\n",
      "123\n",
      "124\n",
      "125\n",
      "126\n",
      "127\n",
      "128\n",
      "129\n",
      "130\n",
      "131\n",
      "132\n",
      "133\n",
      "134\n",
      "135\n",
      "136\n",
      "137\n",
      "138\n",
      "139\n",
      "140\n",
      "141\n",
      "142\n",
      "143\n",
      "144\n",
      "145\n",
      "146\n",
      "147\n",
      "148\n",
      "149\n",
      "150\n",
      "151\n",
      "152\n",
      "153\n",
      "154\n",
      "155\n",
      "156\n",
      "157\n",
      "158\n",
      "159\n",
      "160\n",
      "161\n",
      "162\n",
      "163\n",
      "164\n",
      "165\n",
      "166\n",
      "167\n",
      "168\n",
      "169\n",
      "170\n",
      "171\n",
      "172\n",
      "173\n",
      "174\n",
      "175\n",
      "176\n",
      "177\n",
      "178\n",
      "179\n",
      "180\n",
      "181\n",
      "182\n",
      "183\n",
      "184\n",
      "185\n",
      "186\n",
      "187\n",
      "188\n",
      "189\n",
      "190\n",
      "191\n",
      "192\n",
      "193\n",
      "194\n",
      "195\n",
      "196\n",
      "197\n",
      "198\n",
      "199\n",
      "200\n",
      "201\n",
      "202\n",
      "203\n",
      "204\n",
      "205\n",
      "206\n",
      "207\n",
      "208\n",
      "209\n",
      "210\n",
      "211\n",
      "212\n",
      "213\n",
      "214\n",
      "215\n",
      "216\n",
      "217\n",
      "218\n",
      "219\n",
      "220\n",
      "221\n",
      "222\n",
      "223\n",
      "224\n",
      "225\n",
      "226\n",
      "227\n",
      "228\n",
      "229\n",
      "230\n",
      "231\n",
      "232\n",
      "233\n",
      "234\n",
      "235\n",
      "236\n",
      "237\n",
      "238\n",
      "239\n",
      "240\n",
      "241\n",
      "242\n",
      "243\n",
      "244\n",
      "245\n",
      "246\n",
      "247\n",
      "248\n",
      "249\n",
      "250\n",
      "251\n",
      "252\n",
      "253\n",
      "254\n",
      "255\n",
      "256\n",
      "257\n",
      "258\n",
      "259\n",
      "260\n",
      "261\n",
      "262\n",
      "263\n",
      "264\n",
      "265\n",
      "266\n",
      "267\n",
      "268\n",
      "269\n",
      "270\n",
      "271\n",
      "272\n",
      "273\n",
      "274\n",
      "275\n",
      "276\n",
      "277\n",
      "278\n",
      "279\n",
      "280\n",
      "281\n",
      "282\n",
      "283\n",
      "284\n",
      "285\n",
      "286\n",
      "287\n",
      "288\n",
      "289\n",
      "290\n",
      "291\n",
      "292\n",
      "293\n",
      "294\n",
      "295\n",
      "296\n",
      "297\n",
      "298\n",
      "299\n",
      "300\n",
      "301\n",
      "302\n",
      "303\n",
      "304\n",
      "305\n",
      "306\n",
      "307\n",
      "308\n",
      "309\n",
      "310\n",
      "311\n",
      "312\n",
      "313\n",
      "314\n",
      "315\n",
      "316\n",
      "317\n",
      "318\n",
      "319\n",
      "320\n",
      "321\n",
      "322\n",
      "323\n",
      "324\n",
      "325\n",
      "326\n",
      "327\n",
      "328\n",
      "329\n",
      "330\n",
      "331\n",
      "332\n",
      "333\n",
      "334\n",
      "335\n",
      "336\n",
      "337\n",
      "338\n",
      "339\n",
      "340\n",
      "341\n",
      "342\n",
      "343\n",
      "344\n",
      "345\n",
      "346\n",
      "347\n",
      "348\n",
      "349\n",
      "350\n",
      "351\n",
      "352\n",
      "353\n",
      "354\n",
      "355\n",
      "356\n",
      "357\n",
      "358\n",
      "359\n",
      "360\n",
      "361\n",
      "362\n",
      "363\n",
      "364\n",
      "365\n",
      "366\n",
      "367\n",
      "368\n",
      "369\n",
      "370\n",
      "371\n",
      "372\n",
      "373\n",
      "374\n",
      "375\n",
      "376\n",
      "377\n",
      "378\n",
      "379\n",
      "380\n",
      "381\n",
      "382\n",
      "383\n",
      "384\n",
      "385\n",
      "386\n",
      "387\n",
      "388\n",
      "389\n",
      "390\n",
      "391\n",
      "392\n",
      "393\n",
      "394\n",
      "395\n",
      "396\n",
      "397\n",
      "398\n",
      "399\n",
      "400\n",
      "401\n",
      "402\n",
      "403\n",
      "404\n",
      "405\n",
      "406\n",
      "407\n",
      "408\n",
      "409\n",
      "410\n",
      "411\n",
      "412\n",
      "413\n",
      "414\n",
      "415\n",
      "416\n",
      "417\n",
      "418\n",
      "419\n",
      "420\n",
      "421\n",
      "422\n",
      "423\n",
      "424\n",
      "425\n",
      "426\n",
      "427\n",
      "428\n",
      "429\n",
      "430\n",
      "431\n",
      "432\n",
      "433\n",
      "434\n",
      "435\n",
      "436\n",
      "437\n",
      "438\n",
      "439\n",
      "440\n",
      "441\n",
      "442\n",
      "443\n",
      "444\n",
      "445\n",
      "446\n",
      "447\n",
      "448\n",
      "449\n",
      "450\n",
      "451\n",
      "452\n",
      "453\n",
      "454\n",
      "455\n",
      "456\n",
      "457\n",
      "458\n",
      "459\n",
      "460\n",
      "461\n",
      "462\n",
      "463\n",
      "464\n",
      "465\n",
      "466\n",
      "467\n",
      "468\n",
      "469\n",
      "470\n",
      "471\n",
      "472\n",
      "473\n",
      "474\n",
      "475\n",
      "476\n",
      "477\n",
      "478\n",
      "479\n",
      "480\n",
      "481\n",
      "482\n",
      "483\n",
      "484\n",
      "485\n",
      "486\n",
      "487\n",
      "488\n",
      "489\n",
      "490\n",
      "491\n",
      "492\n",
      "493\n",
      "494\n",
      "495\n",
      "496\n",
      "497\n",
      "498\n",
      "499\n",
      "500\n",
      "501\n",
      "502\n",
      "503\n",
      "504\n",
      "505\n",
      "506\n",
      "507\n",
      "508\n",
      "509\n",
      "510\n",
      "511\n",
      "512\n",
      "513\n",
      "514\n",
      "515\n",
      "516\n",
      "517\n",
      "518\n",
      "519\n",
      "520\n",
      "521\n",
      "522\n",
      "523\n",
      "524\n",
      "525\n",
      "526\n",
      "527\n",
      "528\n",
      "529\n",
      "530\n",
      "531\n",
      "532\n",
      "533\n",
      "534\n",
      "535\n",
      "536\n",
      "537\n",
      "538\n",
      "539\n",
      "540\n",
      "541\n",
      "542\n",
      "543\n",
      "544\n",
      "545\n",
      "546\n",
      "547\n",
      "548\n",
      "549\n",
      "550\n",
      "551\n",
      "552\n",
      "553\n",
      "554\n",
      "555\n",
      "556\n",
      "557\n",
      "558\n",
      "559\n",
      "560\n",
      "561\n",
      "562\n",
      "563\n",
      "564\n",
      "565\n",
      "566\n",
      "567\n",
      "568\n",
      "569\n",
      "570\n",
      "571\n",
      "572\n",
      "573\n",
      "574\n",
      "575\n",
      "576\n",
      "577\n",
      "578\n",
      "579\n",
      "580\n",
      "581\n",
      "582\n",
      "583\n",
      "584\n",
      "585\n",
      "586\n",
      "587\n",
      "588\n",
      "589\n",
      "590\n",
      "591\n",
      "592\n",
      "593\n",
      "594\n",
      "595\n",
      "596\n",
      "597\n",
      "598\n",
      "599\n",
      "600\n",
      "601\n",
      "602\n",
      "603\n",
      "604\n",
      "605\n",
      "606\n",
      "607\n",
      "608\n",
      "609\n",
      "610\n",
      "611\n",
      "612\n",
      "613\n",
      "614\n",
      "615\n",
      "616\n",
      "617\n",
      "618\n",
      "619\n",
      "620\n",
      "621\n",
      "622\n",
      "623\n",
      "624\n",
      "625\n",
      "626\n",
      "627\n",
      "628\n",
      "629\n",
      "630\n",
      "631\n",
      "632\n",
      "633\n",
      "634\n",
      "635\n",
      "636\n",
      "637\n",
      "638\n",
      "639\n",
      "640\n",
      "641\n",
      "642\n",
      "643\n",
      "644\n",
      "645\n",
      "646\n",
      "647\n",
      "648\n",
      "649\n",
      "650\n",
      "651\n",
      "652\n",
      "653\n",
      "654\n",
      "655\n",
      "656\n",
      "657\n",
      "658\n",
      "659\n",
      "660\n",
      "661\n",
      "662\n",
      "663\n",
      "664\n",
      "665\n",
      "666\n",
      "667\n",
      "668\n",
      "669\n",
      "670\n",
      "671\n",
      "672\n",
      "673\n",
      "674\n",
      "675\n",
      "676\n",
      "677\n",
      "678\n",
      "679\n",
      "680\n",
      "681\n",
      "682\n",
      "683\n",
      "684\n",
      "685\n",
      "686\n",
      "687\n",
      "688\n",
      "689\n",
      "690\n",
      "691\n",
      "692\n",
      "693\n",
      "694\n",
      "695\n",
      "696\n",
      "697\n",
      "698\n",
      "699\n",
      "700\n",
      "701\n",
      "702\n",
      "703\n",
      "704\n",
      "705\n",
      "706\n",
      "707\n",
      "708\n",
      "709\n",
      "710\n",
      "711\n",
      "712\n",
      "713\n",
      "714\n",
      "715\n",
      "716\n",
      "717\n",
      "718\n",
      "719\n",
      "720\n",
      "721\n",
      "722\n",
      "723\n",
      "724\n",
      "725\n",
      "726\n",
      "727\n",
      "728\n",
      "729\n",
      "730\n",
      "731\n",
      "732\n",
      "733\n",
      "734\n",
      "735\n",
      "736\n",
      "737\n",
      "738\n",
      "739\n",
      "740\n",
      "741\n",
      "742\n",
      "743\n",
      "744\n",
      "745\n",
      "746\n",
      "747\n",
      "748\n",
      "749\n",
      "750\n",
      "751\n",
      "752\n",
      "753\n",
      "754\n",
      "755\n",
      "756\n",
      "757\n",
      "758\n",
      "759\n",
      "760\n",
      "761\n",
      "762\n",
      "763\n",
      "764\n",
      "765\n",
      "766\n",
      "767\n",
      "768\n",
      "769\n",
      "770\n",
      "771\n",
      "772\n",
      "773\n",
      "774\n",
      "775\n",
      "776\n",
      "777\n",
      "778\n",
      "779\n",
      "780\n",
      "781\n",
      "782\n",
      "783\n",
      "784\n",
      "785\n",
      "786\n",
      "787\n",
      "788\n",
      "789\n",
      "790\n",
      "791\n",
      "792\n",
      "793\n",
      "794\n",
      "795\n",
      "796\n",
      "797\n",
      "798\n",
      "799\n",
      "800\n",
      "801\n",
      "802\n",
      "803\n",
      "804\n",
      "805\n",
      "806\n",
      "807\n",
      "808\n",
      "809\n",
      "810\n",
      "811\n",
      "812\n",
      "813\n",
      "814\n",
      "815\n",
      "816\n",
      "817\n",
      "818\n",
      "819\n",
      "820\n",
      "821\n",
      "822\n",
      "823\n",
      "824\n",
      "825\n",
      "826\n",
      "827\n",
      "828\n",
      "829\n",
      "830\n",
      "831\n",
      "832\n",
      "833\n",
      "834\n",
      "835\n",
      "836\n",
      "837\n",
      "838\n",
      "839\n",
      "840\n",
      "841\n",
      "842\n",
      "843\n",
      "844\n",
      "845\n",
      "846\n",
      "847\n",
      "848\n",
      "849\n",
      "850\n",
      "851\n",
      "852\n",
      "853\n",
      "854\n",
      "855\n",
      "856\n",
      "857\n",
      "858\n",
      "859\n",
      "860\n",
      "861\n",
      "862\n",
      "863\n",
      "864\n",
      "865\n",
      "866\n",
      "867\n",
      "868\n",
      "869\n",
      "870\n",
      "871\n",
      "872\n",
      "873\n",
      "874\n",
      "875\n",
      "876\n",
      "877\n",
      "878\n",
      "879\n",
      "880\n",
      "881\n",
      "882\n",
      "883\n",
      "884\n",
      "885\n",
      "886\n",
      "887\n",
      "888\n",
      "889\n",
      "890\n",
      "891\n",
      "892\n",
      "893\n",
      "894\n",
      "895\n",
      "896\n",
      "897\n",
      "898\n",
      "899\n",
      "900\n",
      "901\n",
      "902\n",
      "903\n",
      "904\n",
      "905\n",
      "906\n",
      "907\n",
      "908\n",
      "909\n",
      "910\n",
      "911\n",
      "912\n",
      "913\n",
      "914\n",
      "915\n",
      "916\n",
      "917\n",
      "918\n",
      "919\n",
      "920\n",
      "921\n",
      "922\n",
      "923\n",
      "924\n",
      "925\n",
      "926\n",
      "927\n",
      "928\n",
      "929\n",
      "930\n",
      "931\n",
      "932\n",
      "933\n",
      "934\n",
      "935\n",
      "936\n",
      "937\n",
      "938\n",
      "939\n",
      "940\n",
      "941\n",
      "942\n",
      "943\n",
      "944\n",
      "945\n",
      "946\n",
      "947\n",
      "948\n",
      "949\n",
      "950\n",
      "951\n",
      "952\n",
      "953\n",
      "954\n",
      "955\n",
      "956\n",
      "957\n",
      "958\n",
      "959\n",
      "960\n",
      "961\n",
      "962\n",
      "963\n",
      "964\n",
      "965\n",
      "966\n",
      "967\n",
      "968\n",
      "969\n",
      "970\n",
      "971\n",
      "972\n",
      "973\n",
      "974\n",
      "975\n",
      "976\n",
      "977\n",
      "978\n",
      "979\n",
      "980\n",
      "981\n",
      "982\n",
      "983\n",
      "984\n",
      "985\n",
      "986\n",
      "987\n",
      "988\n",
      "989\n",
      "990\n",
      "991\n",
      "992\n",
      "993\n",
      "994\n",
      "995\n",
      "996\n",
      "997\n",
      "998\n",
      "999\n",
      "Function Running Time Is: 0.006979703903198242\n"
     ]
    }
   ],
   "source": [
    "from time import time\n",
    "\n",
    "def myDecorator(func):  # Decorator\n",
    "\n",
    "  def nestedFunc(*numbers):  # Any Name Its Just For Decoration\n",
    "\n",
    "    for number in numbers:\n",
    "\n",
    "      if number < 0:\n",
    "\n",
    "        print(\"Beware One Of The Numbers Is Less Than Zero\")\n",
    "\n",
    "    func(*numbers)  # Execute Function\n",
    "\n",
    "  return nestedFunc  # Return All Data\n",
    "\n",
    "@myDecorator\n",
    "\n",
    "def calculate(n1, n2, n3, n4):\n",
    "\n",
    "  print(n1 + n2 + n3 + n4)\n",
    "\n",
    "calculate(-5, 90, 50, 150)\n",
    "\n",
    "def speedTest(func):\n",
    "\n",
    "  def wrapper():\n",
    "\n",
    "    start = time()\n",
    "\n",
    "    func()\n",
    "\n",
    "    end = time()\n",
    "\n",
    "    print(f\"Function Running Time Is: {end - start}\")\n",
    "\n",
    "  return wrapper\n",
    "\n",
    "@speedTest\n",
    "\n",
    "def bigLoop():\n",
    "\n",
    "  for number in range(1, 1000):\n",
    "\n",
    "    print(number)\n",
    "\n",
    "bigLoop()"
   ]
  },
  {
   "cell_type": "markdown",
   "metadata": {},
   "source": [
    " <span style=\"color:salmon\">\n",
    "  \n",
    "- Practical Loop on Many Iterators With Zip\n",
    " \n",
    "- zip() Return A Zip Object Contains All Objects\n",
    "- zip() Length Is The Length of Lowest Object\n",
    "</span>"
   ]
  },
  {
   "cell_type": "code",
   "execution_count": 55,
   "metadata": {},
   "outputs": [
    {
     "name": "stdout",
     "output_type": "stream",
     "text": [
      "List 1 Item => 1\n",
      "List 2 Item => A\n",
      "Tuple 1 Item => Man\n",
      "Dict 1 Key => Name Value => Menna\n",
      "List 1 Item => 2\n",
      "List 2 Item => B\n",
      "Tuple 1 Item => Woman\n",
      "Dict 1 Key => Age Value => 36\n",
      "List 1 Item => 3\n",
      "List 2 Item => C\n",
      "Tuple 1 Item => Girl\n",
      "Dict 1 Key => Country Value => Egypt\n",
      "List 1 Item => 4\n",
      "List 2 Item => D\n",
      "Tuple 1 Item => Boy\n",
      "Dict 1 Key => Skill Value => Python\n",
      "########################################\n",
      "<zip object at 0x000001A39ECF1800>\n",
      "(1, 'A')\n",
      "(2, 'B')\n",
      "(3, 'C')\n",
      "(4, 'D')\n"
     ]
    }
   ],
   "source": [
    "list1 = [1, 2, 3, 4, 5]\n",
    "list2 = [\"A\", \"B\", \"C\", \"D\"]\n",
    "tuple1 = (\"Man\", \"Woman\", \"Girl\", \"Boy\")\n",
    "dict1 = {\"Name\": \"Menna\", \"Age\": 36, \"Country\": \"Egypt\", \"Skill\": \"Python\"}\n",
    "\n",
    "for item1, item2, item3, item4 in zip(list1, list2, tuple1, dict1):\n",
    "\n",
    "  print(\"List 1 Item =>\", item1)\n",
    "  print(\"List 2 Item =>\", item2)\n",
    "  print(\"Tuple 1 Item =>\", item3)\n",
    "  print(\"Dict 1 Key =>\", item4, \"Value =>\", dict1[item4])\n",
    "\n",
    "print(\"#\" * 40)\n",
    "\n",
    "ultimateList = zip(list1, list2)\n",
    "print(ultimateList)\n",
    "for item in ultimateList:\n",
    "  print(item)"
   ]
  },
  {
   "cell_type": "markdown",
   "metadata": {},
   "source": [
    "- <span style=\"color:salmon\"> Practical Image Manipulation With Pillow </span>"
   ]
  },
  {
   "cell_type": "code",
   "execution_count": 54,
   "metadata": {},
   "outputs": [],
   "source": [
    "from PIL import Image\n",
    "\n",
    "# Open The Image\n",
    "myImage = Image.open(\"C:\\\\Users\\\\dell\\\\Pictures\\\\Saved Pictures\\\\m.jpg\")\n",
    "\n",
    "# Show The Image\n",
    "myImage.show()\n",
    "\n",
    "# My Cropped Image\n",
    "myBox = (0, 0, 800, 800)\n",
    "myNewImage = myImage.crop(myBox)\n",
    "\n",
    "# Show The New Image\n",
    "myNewImage.show()\n",
    "\n",
    "# My Converted Mode Image\n",
    "myConverted = myImage.convert(\"L\")\n",
    "myConverted.show()\n",
    "\n"
   ]
  },
  {
   "cell_type": "markdown",
   "metadata": {},
   "source": [
    " <span style=\"color:salmon\"> \n",
    " \n",
    " - Doc String & Commenting vs Documenting\n",
    " \n",
    "- [1] Documentation String For Class, Module or Function\n",
    "- [2] Can Be Accessed From The Help and Doc Attributes\n",
    "- [3] Made For Understanding The Functionality of The Complex Code\n",
    "- [4] Theres One Line and Multiple Line Doc Strings\n",
    "  </span>"
   ]
  },
  {
   "cell_type": "code",
   "execution_count": 56,
   "metadata": {},
   "outputs": [
    {
     "name": "stdout",
     "output_type": "stream",
     "text": [
      "Hello Ahmed From Elzero\n",
      "['__annotations__', '__builtins__', '__call__', '__class__', '__closure__', '__code__', '__defaults__', '__delattr__', '__dict__', '__dir__', '__doc__', '__eq__', '__format__', '__ge__', '__get__', '__getattribute__', '__getstate__', '__globals__', '__gt__', '__hash__', '__init__', '__init_subclass__', '__kwdefaults__', '__le__', '__lt__', '__module__', '__name__', '__ne__', '__new__', '__qualname__', '__reduce__', '__reduce_ex__', '__repr__', '__setattr__', '__sizeof__', '__str__', '__subclasshook__']\n",
      "\n",
      "  Elzero Function\n",
      "    It Say Hello From Elzero\n",
      "  Parameter:\n",
      "    name => Person Name That Use Function\n",
      "  Return:\n",
      "    Return Hello Message To The Person\n",
      "  \n",
      "Help on function elzero_function in module __main__:\n",
      "\n",
      "elzero_function(name)\n",
      "    Elzero Function\n",
      "      It Say Hello From Elzero\n",
      "    Parameter:\n",
      "      name => Person Name That Use Function\n",
      "    Return:\n",
      "      Return Hello Message To The Person\n",
      "\n"
     ]
    }
   ],
   "source": [
    "def elzero_function(name):\n",
    "  \"\"\"\n",
    "  Elzero Function\n",
    "    It Say Hello From Elzero\n",
    "  Parameter:\n",
    "    name => Person Name That Use Function\n",
    "  Return:\n",
    "    Return Hello Message To The Person\n",
    "  \"\"\"\n",
    "  print(f\"Hello {name} From Elzero\")\n",
    "\n",
    "elzero_function(\"Ahmed\")\n",
    "\n",
    "print(dir(elzero_function))\n",
    "\n",
    "print(elzero_function.__doc__)\n",
    "\n",
    "help(elzero_function)"
   ]
  },
  {
   "cell_type": "markdown",
   "metadata": {},
   "source": [
    "- <span style=\"color:salmon\">  Installing And Use Pylint For Better Code </span>"
   ]
  },
  {
   "cell_type": "code",
   "execution_count": 57,
   "metadata": {},
   "outputs": [
    {
     "data": {
      "text/plain": [
       "'Hello Ahmed'"
      ]
     },
     "execution_count": 57,
     "metadata": {},
     "output_type": "execute_result"
    }
   ],
   "source": [
    "\"\"\"\n",
    "This is My Module\n",
    "To Create Function\n",
    "To Say Hello\n",
    "\"\"\"\n",
    "\n",
    "def say_hello(name):\n",
    "  '''This Function Only Say Hello To Someone'''\n",
    "  msg = \"Hello\"\n",
    "  return f\"{msg} {name}\"\n",
    "\n",
    "say_hello(\"Ahmed\")"
   ]
  },
  {
   "cell_type": "markdown",
   "metadata": {},
   "source": [
    " # <span style=\"color:skyblue\">[36]   Errors And Exceptions Raising  </span>"
   ]
  },
  {
   "cell_type": "markdown",
   "metadata": {},
   "source": [
    " <span style=\"color:salmon\"> \n",
    "\n",
    "- [1] Exceptions Is A Runtime Error Reporting Mechanism\n",
    "\n",
    "- [2] Exception Gives You The Message To Understand The Problem\n",
    "- [3] Traceback Gives You The Line To Look For The Code in This Line\n",
    "- [4] Exceptions Have Types (SyntaxError, IndexError, KeyError, Etc...)\n",
    "- [5] Exceptions List https://docs.python.org/3/library/exceptions.html\n",
    "- [6] raise Keyword Used To Raise Your Own Exceptions\n",
    " </span>"
   ]
  },
  {
   "cell_type": "code",
   "execution_count": 61,
   "metadata": {},
   "outputs": [
    {
     "name": "stdout",
     "output_type": "stream",
     "text": [
      "10 Is Good Number and Ok\n",
      "Print Message After If Condition\n",
      "Print Message After If Condition\n"
     ]
    }
   ],
   "source": [
    "x = 10\n",
    "\n",
    "if x < 0:\n",
    "\n",
    "  raise Exception(f\"The Number {x} Is Less Than Zero\")\n",
    "\n",
    "  print(\"This Will Not Print Because The Error\")\n",
    "\n",
    "else:\n",
    "\n",
    "  print(f\"{x} Is Good Number and Ok\")\n",
    "\n",
    "print('Print Message After If Condition')\n",
    "\n",
    "y = 10\n",
    "\n",
    "if type(y) != int:\n",
    "\n",
    "  raise ValueError(\"Only Numbers Allowed\")\n",
    "\n",
    "print('Print Message After If Condition')"
   ]
  },
  {
   "cell_type": "markdown",
   "metadata": {},
   "source": [
    " <span style=\"color:salmon\"> \n",
    "\n",
    "- Exceptions Handling Try, Except, Else, Finally \n",
    "\n",
    "- --      Exceptions Handling      --\n",
    "- -- Try | Except | Else | Finally --\n",
    " -----------------------------------\n",
    "- Try     => Test The Code For Errors\n",
    "- Except  => Handle The Errors\n",
    " ----------------------------\n",
    "- Else    => If No Errors\n",
    "- Finally => Run The Code\n",
    "</span>"
   ]
  },
  {
   "cell_type": "code",
   "execution_count": 62,
   "metadata": {},
   "outputs": [
    {
     "name": "stdout",
     "output_type": "stream",
     "text": [
      "19\n",
      "<class 'int'>\n",
      "Good, This Is Integer From Try\n",
      "Good, This Is Integer From Else\n",
      "Print From Finally Whatever Happens\n",
      "Value Error Elzero\n"
     ]
    }
   ],
   "source": [
    "number = int(input(\"Write Your Age: \"))\n",
    "\n",
    "print(number)\n",
    "print(type(number))\n",
    "\n",
    "try:  # Try The Code and Test Errors\n",
    "\n",
    "  number = int(input(\"Write Your Age: \"))\n",
    "\n",
    "  print(\"Good, This Is Integer From Try\")\n",
    "\n",
    "except:  # Handle The Errors If Its Found\n",
    "\n",
    "  print(\"Bad, This is Not Integer\")\n",
    "\n",
    "else:  # If Theres No Errors\n",
    "\n",
    "  print(\"Good, This Is Integer From Else\")\n",
    "\n",
    "finally:\n",
    "\n",
    "  print(\"Print From Finally Whatever Happens\")\n",
    "\n",
    "\n",
    "try:\n",
    "\n",
    "  # print(10 / 0)\n",
    "  # print(x)\n",
    "  print(int(\"Hello\"))\n",
    "\n",
    "except ZeroDivisionError:\n",
    "\n",
    "  print(\"Cant Divide\")\n",
    "\n",
    "except NameError:\n",
    "\n",
    "  print(\"Identifier Not Found\")\n",
    "\n",
    "except ValueError:\n",
    "\n",
    "  print(\"Value Error Elzero\")\n",
    "\n",
    "except:\n",
    "\n",
    "  print(\"Error Happens\")"
   ]
  },
  {
   "cell_type": "markdown",
   "metadata": {},
   "source": [
    " <span style=\"color:salmon\">\n",
    "\n",
    "- Exceptions Handling Advanced Example \n",
    "\n",
    "- -- Try | Except | Else | Finally --\n",
    "- --       Advanced Example     \n",
    "</span>"
   ]
  },
  {
   "cell_type": "code",
   "execution_count": 63,
   "metadata": {},
   "outputs": [
    {
     "name": "stdout",
     "output_type": "stream",
     "text": [
      "Enter The File Name With Absolute Path To Open\n",
      "You Have 5 Tries Left\n",
      "Example: D:\\Python\\Files\\yourfile.extension\n",
      "File Not Found Please Be Sure The Name is Valid\n",
      "Enter The File Name With Absolute Path To Open\n",
      "You Have 4 Tries Left\n",
      "Example: D:\\Python\\Files\\yourfile.extension\n",
      "File Not Found Please Be Sure The Name is Valid\n",
      "Enter The File Name With Absolute Path To Open\n",
      "You Have 3 Tries Left\n",
      "Example: D:\\Python\\Files\\yourfile.extension\n",
      "File Not Found Please Be Sure The Name is Valid\n",
      "Enter The File Name With Absolute Path To Open\n",
      "You Have 2 Tries Left\n",
      "Example: D:\\Python\\Files\\yourfile.extension\n",
      "File Not Found Please Be Sure The Name is Valid\n",
      "Enter The File Name With Absolute Path To Open\n",
      "You Have 1 Tries Left\n",
      "Example: D:\\Python\\Files\\yourfile.extension\n",
      "File Not Found Please Be Sure The Name is Valid\n",
      "All Tries Is Done\n"
     ]
    }
   ],
   "source": [
    "the_file = None\n",
    "\n",
    "the_tries = 5\n",
    "\n",
    "while the_tries > 0:\n",
    "\n",
    "  try:  # Try To Open The File\n",
    "\n",
    "    print(\"Enter The File Name With Absolute Path To Open\")\n",
    "\n",
    "    print(f\"You Have {the_tries} Tries Left\")\n",
    "\n",
    "    print(\"Example: D:\\Python\\Files\\yourfile.extension\")\n",
    "\n",
    "    file_name_and_path = input(\"File Name => : \").strip()\n",
    "\n",
    "    the_file = open(file_name_and_path, 'r')\n",
    "\n",
    "    print(the_file.read())\n",
    "\n",
    "    break\n",
    "\n",
    "  except FileNotFoundError:\n",
    "\n",
    "    print(\"File Not Found Please Be Sure The Name is Valid\")\n",
    "\n",
    "    the_tries -= 1\n",
    "\n",
    "  except:\n",
    "\n",
    "    print(\"Error Happen\")\n",
    "\n",
    "  finally:\n",
    "\n",
    "    if the_file is not None:\n",
    "\n",
    "      the_file.close()\n",
    "\n",
    "      print(\"File Closed.\")\n",
    "\n",
    "else:\n",
    "\n",
    "  print(\"All Tries Is Done\")"
   ]
  },
  {
   "cell_type": "markdown",
   "metadata": {},
   "source": [
    "- <span style=\"color:salmon\"> Debugging Code </span>"
   ]
  },
  {
   "cell_type": "code",
   "execution_count": 64,
   "metadata": {},
   "outputs": [
    {
     "name": "stdout",
     "output_type": "stream",
     "text": [
      "1\n",
      "2\n",
      "3\n",
      "Name => Osama\n",
      "Age => 36\n",
      "Country => Egypt\n",
      "Hello From Function One\n"
     ]
    }
   ],
   "source": [
    "my_list = [1, 2, 3]\n",
    "\n",
    "my_dictionary = {\"Name\": \"Osama\", \"Age\": 36, \"Country\": \"Egypt\"}\n",
    "\n",
    "for num in my_list:\n",
    "\n",
    "  print(num)\n",
    "\n",
    "for key, value in my_dictionary.items():\n",
    "\n",
    "  print(f\"{key} => {value}\")\n",
    "\n",
    "def function_one_one():\n",
    "\n",
    "  print(\"Hello From Function One\")\n",
    "\n",
    "function_one_one()"
   ]
  },
  {
   "cell_type": "markdown",
   "metadata": {},
   "source": [
    "- <span style=\"color:salmon\"> Type Hinting\n",
    " </span>"
   ]
  },
  {
   "cell_type": "code",
   "execution_count": 65,
   "metadata": {},
   "outputs": [
    {
     "name": "stdout",
     "output_type": "stream",
     "text": [
      "Hello Ahmed\n",
      "50\n"
     ]
    }
   ],
   "source": [
    "def say_hello(name) -> str:\n",
    "\n",
    "  print(f\"Hello {name}\")\n",
    "\n",
    "say_hello(\"Ahmed\")\n",
    "\n",
    "def calculate(n1, n2) -> str:\n",
    "\n",
    "  print(n1 + n2)\n",
    "\n",
    "calculate(10, 40)"
   ]
  },
  {
   "cell_type": "markdown",
   "metadata": {},
   "source": [
    " # <span style=\"color:skyblue\">[37]   Regular Expressions  </span>"
   ]
  },
  {
   "cell_type": "markdown",
   "metadata": {},
   "source": [
    " <span style=\"color:salmon\"> \n",
    "\n",
    "- [1] Sequence of Characters That Define A Search Pattern\n",
    "\n",
    "- [2] Regular Expression is Not In Python Its General Concept\n",
    "- [3] Used In [Credit Card Validation, IP Address Validation, Email Validation]\n",
    "- [4] Test RegEx \"https://pythex.org/\"\n",
    "- [5] Characters Sheet \"https://www.debuggex.com/cheatsheet/regex/python\"\n",
    " </span>"
   ]
  },
  {
   "cell_type": "markdown",
   "metadata": {},
   "source": [
    " <span style=\"color:salmon\"> \n",
    "\n",
    "- -- Regular Expressions => Quantifiers --\n",
    "\n",
    " ----------------------------------------\n",
    "-   (*) \t0 or more\n",
    "-   (+) \t1 or more\n",
    "- ?\t0 or 1\n",
    "- {2}\tExactly 2\n",
    "- {2, 5}\tBetween 2 and 5\n",
    "- {2,}\t2 or more\n",
    "- (,5}\tUp to 5\n",
    " </span>"
   ]
  },
  {
   "cell_type": "markdown",
   "metadata": {},
   "source": [
    " <span style=\"color:salmon\"> \n",
    "\n",
    "- -- Regular Expressions => Characters Classes Training's --\n",
    "\n",
    " -----------------------------------------------------------------------\n",
    "- [0-9]\n",
    "- [^0-9]\n",
    "- [A-Z]\n",
    "- [^A-Z]\n",
    "- [a-z]\n",
    "- [^a-z]\n",
    " </span>"
   ]
  },
  {
   "cell_type": "markdown",
   "metadata": {},
   "source": [
    " <span style=\"color:salmon\"> \n",
    "\n",
    "- -- Regular Expressions => Assertions --\n",
    "\n",
    " ---------------------------------------\n",
    "-  ^\t  Start of String\n",
    "-  $\t  End of string\n",
    " -------------------------\n",
    "- Match Email\n",
    "\n",
    "-  [A-z0-9\\.]+@[A-z0-9]+\\.[A-z]+\n",
    "-  ^[A-z0-9\\.]+@[A-z0-9]+\\.(com|net|org|info)$\n",
    " </span>"
   ]
  },
  {
   "cell_type": "markdown",
   "metadata": {},
   "source": [
    " <span style=\"color:salmon\"> \n",
    "\n",
    "- -- Regular Expressions => Logical Or And Escaping --\n",
    "\n",
    " ----------------------------------------------------\n",
    "-  |\t  Or\n",
    "-  \\\t  Escape Special Characters\n",
    "-  ()  Separate Groups\n",
    " -----------------------------\n",
    "\n",
    "-  (\\d-|\\d\\)|\\d>) (\\w+)\n",
    "-  (\\d{3}) (\\d{4}) (\\d{3}|\\(\\d{3}\\))\n",
    "-  ^(https?://)(www\\.)?(\\w+)\\.(net|org|com|info|me)$\n",
    "  </span>"
   ]
  },
  {
   "cell_type": "markdown",
   "metadata": {},
   "source": [
    " <span style=\"color:salmon\">\n",
    "\n",
    "- Regular Expressions => Re Module Search And FindAll --\n",
    "\n",
    " ---------------------------------------------------------\n",
    "- search()  => Search A String For A Match And Return A First Match Only\n",
    "- findall() => Returns A List Of All Matches and Empty List if No Match\n",
    " ---------------------------------------------------------------------\n",
    "- Email Pattern => [A-z0-9\\.]+@[A-z0-9]+\\.(com|net|org|info)\n",
    " </span>"
   ]
  },
  {
   "cell_type": "code",
   "execution_count": 66,
   "metadata": {},
   "outputs": [
    {
     "name": "stdout",
     "output_type": "stream",
     "text": [
      "<re.Match object; span=(0, 2), match='OO'>\n",
      "(0, 2)\n",
      "OOsamaEElzero\n",
      "OO\n",
      "This is A Valid Email\n",
      "(0, 12)\n",
      "os@osama.com\n",
      "os@osama.com\n",
      "Email Added\n",
      "['mm@gmail.com']\n"
     ]
    }
   ],
   "source": [
    "import re\n",
    "\n",
    "my_search = re.search(r\"[A-Z]{2}\", \"OOsamaEElzero\")\n",
    "\n",
    "print(my_search)\n",
    "print(my_search.span())\n",
    "print(my_search.string)\n",
    "print(my_search.group())\n",
    "\n",
    "is_email = re.search(r\"[A-z0-9\\.]+@[A-z0-9]+\\.(com|net)\", \"os@osama.com\")\n",
    "\n",
    "if is_email:\n",
    "\n",
    "  print(\"This is A Valid Email\")\n",
    "\n",
    "  print(is_email.span())\n",
    "  print(is_email.string)\n",
    "  print(is_email.group())\n",
    "\n",
    "else:\n",
    "\n",
    "  print(\"This is Not A Valid Email\")\n",
    "\n",
    "email_input = input(\"Please Write Your Email: \")\n",
    "\n",
    "search = re.findall(r\"[A-z0-9\\.]+@[A-z0-9]+\\.com|net\", email_input)\n",
    "\n",
    "empty_list = []\n",
    "\n",
    "if search != []:\n",
    "\n",
    "  empty_list.append(search)\n",
    "\n",
    "  print(\"Email Added\")\n",
    "\n",
    "else:\n",
    "\n",
    "  print(\"Invalid Email\")\n",
    "\n",
    "for email in empty_list:\n",
    "\n",
    "  print(email)"
   ]
  },
  {
   "cell_type": "markdown",
   "metadata": {},
   "source": [
    " <span style=\"color:salmon\"> \n",
    "\n",
    "- -- Regular Expressions => Re Module Split And Sub --\n",
    "\n",
    " ----------------------------------------------------\n",
    "- split(Pattern, String, MaxSplit)  => Return A List Of Elements Splitted On Each Match\n",
    "- sub(Pattern, Replace, String, ReplaceCount) => Replace Matches With What You Want\n",
    " </span>"
   ]
  },
  {
   "cell_type": "code",
   "execution_count": 67,
   "metadata": {},
   "outputs": [
    {
     "name": "stdout",
     "output_type": "stream",
     "text": [
      "['I', 'Love Python Programming Language']\n",
      "##################################################\n",
      "['How', 'To', 'Write', 'A', 'Very', 'Good', 'Article']\n",
      "##################################################\n",
      "Word Number: 1 => how\n",
      "Word Number: 2 => to\n",
      "Word Number: 3 => write\n",
      "Word Number: 5 => very\n",
      "Word Number: 6 => good\n",
      "Word Number: 7 => article\n",
      "##################################################\n",
      "I-Love Python\n"
     ]
    }
   ],
   "source": [
    "import re\n",
    "\n",
    "string_one = \"I Love Python Programming Language\"\n",
    "\n",
    "search_one = re.split(r\"\\s\", string_one, 1)\n",
    "\n",
    "print(search_one)\n",
    "\n",
    "print(\"#\" * 50)\n",
    "\n",
    "string_two = \"How-To_Write_A_Very-Good-Article\"\n",
    "\n",
    "search_two = re.split(r\"-|_\", string_two)\n",
    "\n",
    "print(search_two)\n",
    "\n",
    "print(\"#\" * 50)\n",
    "\n",
    "# Get Words From URL\n",
    "\n",
    "for counter, word in enumerate(search_two, 1):\n",
    "\n",
    "  if len(word) == 1:\n",
    "\n",
    "    continue\n",
    "\n",
    "  print(f\"Word Number: {counter} => {word.lower()}\")\n",
    "\n",
    "print(\"#\" * 50)\n",
    "\n",
    "my_string = \"I Love Python\"\n",
    "\n",
    "print(re.sub(r\"\\s\", \"-\", my_string, 1))"
   ]
  },
  {
   "cell_type": "markdown",
   "metadata": {},
   "source": [
    "- <span style=\"color:salmon\"> Group Trainings And Flags  </span>"
   ]
  },
  {
   "cell_type": "code",
   "execution_count": 68,
   "metadata": {},
   "outputs": [
    {
     "name": "stdout",
     "output_type": "stream",
     "text": [
      "https://www.elzero.org:8080/category.php?article=105?name=how-to-do\n",
      "('https', 'www', 'elzero', 'org', '8080', 'category.php?article=105?name=how-to-do')\n",
      "https\n",
      "www\n",
      "elzero\n",
      "org\n",
      "8080\n",
      "category.php?article=105?name=how-to-do\n",
      "Protocol: https\n",
      "Sub Domain: www\n",
      "Domain Name: elzero\n",
      "Top Level Domain: org\n",
      "Port: 8080\n",
      "Query String: category.php?article=105?name=how-to-do\n"
     ]
    }
   ],
   "source": [
    "import re\n",
    "\n",
    "my_web = \"https://www.elzero.org:8080/category.php?article=105?name=how-to-do\"\n",
    "\n",
    "search = re.search(r\"(https?)://(www)?\\.?(\\w+)\\.(\\w+):?(\\d+)?/?(.+)\", my_web)\n",
    "\n",
    "print(search.group())\n",
    "print(search.groups())\n",
    "\n",
    "for group in search.groups():\n",
    "\n",
    "  print(group)\n",
    "\n",
    "print(f\"Protocol: {search.group(1)}\")\n",
    "print(f\"Sub Domain: {search.group(2)}\")\n",
    "print(f\"Domain Name: {search.group(3)}\")\n",
    "print(f\"Top Level Domain: {search.group(4)}\")\n",
    "print(f\"Port: {search.group(5)}\")\n",
    "print(f\"Query String: {search.group(6)}\")"
   ]
  },
  {
   "cell_type": "markdown",
   "metadata": {},
   "source": [
    " # <span style=\"color:skyblue\">[38]   OOP  </span>"
   ]
  },
  {
   "cell_type": "markdown",
   "metadata": {},
   "source": [
    " <span style=\"color:salmon\"> \n",
    "\n",
    "- [1] Python Support Object Oriented Programming\n",
    "\n",
    "- [2] OOP Is A Paradigm Or Coding Style\n",
    "-     OOP Paradigm =>\n",
    "-       Means Structuring Program So The Methods[Functions] and Attributes[Data]\n",
    "-       Are Bundled Into Objects\n",
    "- [3] Methods => Act As Function That Use The Information Of The Object\n",
    "- [4] Python Is Multi-Paradigm Programming Language [Procedural, OOP, Functional]\n",
    "-     - Procedural => Structure App Like Recipe, Sets Of Steps To Make The Task\n",
    "-     - Functional => Built On the Concept of Mathematical Functions\n",
    "- [5] OOP Allow You To Organize Your Code and Make It Readable and Reusable\n",
    "- [6] Everything in Python is Object\n",
    "- [7] If Man Is Object\n",
    "-     - Attributes => Name, Age, Address, Phone Number, Info [Can Be Differnet]\n",
    "-     - Methods[Behaviors] => Walking, Eating, Singing, Playing\n",
    "- [8] If Car Is Object\n",
    "-     - Attributes => Model, Colour, Price\n",
    "-     - Methods[Behaviors] => Walking, Stopping\n",
    "- [9] Class Is The Template For Creating Objects [Object Constructor | Blueprint]\n",
    "-     - Class Car Can Create Many Cars Object\n",
    " -------------------------------------------------------------------------------------------\n",
    " </span>"
   ]
  },
  {
   "cell_type": "markdown",
   "metadata": {},
   "source": [
    " <span style=\"color:salmon\"> \n",
    "\n",
    "- Class Syntax and Info\n",
    "\n",
    "- [01] Class is The Blueprint Or Construtor Of The Object\n",
    "\n",
    "- [02] Class Instantiate Means Create Instance of A Class\n",
    "- [03] Instance => Object Created From Class And Have Their Methods and Attributes\n",
    "- [04] Class Defined With Keyword class\n",
    "- [05] Class Name Written With PascalCase [UpperCamelCase] Style\n",
    "- [06] Class May Contains Methods and Attributes\n",
    "- [07] When Creating Object Python Look For The Built In __init__ Method\n",
    "- [08] __init__ Method Called Every Time You Create Object From Class\n",
    "- [09] __init__ Method Is Initialize The Data For The Object\n",
    "- [10] Any Method With Two Underscore in The Start and End Called Dunder or Magic Method\n",
    "- [11] self Refer To The Current Instance Created From The Class And Must Be First Param\n",
    "- [12] self Can Be Named Anything\n",
    "- [13] In Python You Dont Need To Call new() Keyword To Create Object\n",
    " -------------------------------------------------------------------\n",
    "\n",
    "- Syntax\n",
    "\n",
    "- class Name:\n",
    "-     Constructor => Do Instantiation [ Create Instance From A Class ]\n",
    "-     Each Instance Is Separate Object\n",
    "-     def __init__(self, other_data)\n",
    "-         Body Of Function\n",
    "\n",
    " </span>"
   ]
  },
  {
   "cell_type": "code",
   "execution_count": 69,
   "metadata": {},
   "outputs": [
    {
     "name": "stdout",
     "output_type": "stream",
     "text": [
      "A New Member Has Been Added\n",
      "A New Member Has Been Added\n",
      "A New Member Has Been Added\n",
      "<class '__main__.Member'>\n"
     ]
    }
   ],
   "source": [
    "class Member:\n",
    "\n",
    "  def __init__(self):\n",
    "\n",
    "    print(\"A New Member Has Been Added\")\n",
    "\n",
    "member_one = Member()\n",
    "member_two = Member()\n",
    "member_three = Member()\n",
    "\n",
    "print(member_one.__class__)\n",
    "\n",
    "my_dictionary = {\n",
    "  'name': \"Osama\",\n",
    "  'age': 36,\n",
    "  'monthly_salary': 5000,\n",
    "  'yearly_salary': ''  # Something\n",
    "}\n"
   ]
  },
  {
   "cell_type": "markdown",
   "metadata": {},
   "source": [
    " <span style=\"color:salmon\"> \n",
    "\n",
    "- Instance Attributes and Methods \n",
    "\n",
    "- Self: Point To Instance Created From Class\n",
    "- Instance Attributes: Instance Attributes Defined Inside The Constructor\n",
    " -----------------------------------------------------------------------\n",
    "- Instance Methods: Take Self Parameter Which Point To Instance Created From Class\n",
    "- Instance Methods Can Have More Than One Parameter Like Any Function\n",
    "- Instance Methods Can Freely Access Attributes And Methods On The Same Object\n",
    "- Instance Methods Can Access The Class Itself</span>"
   ]
  },
  {
   "cell_type": "code",
   "execution_count": 70,
   "metadata": {},
   "outputs": [
    {
     "name": "stdout",
     "output_type": "stream",
     "text": [
      "Osama Mohamed Elsayed\n",
      "Ahmed\n",
      "Mona\n"
     ]
    }
   ],
   "source": [
    "class Member:\n",
    "  def __init__(self, first_name, middle_name, last_name):\n",
    "    self.fname = first_name\n",
    "    self.mname = middle_name\n",
    "    self.lname = last_name\n",
    "\n",
    "member_one = Member(\"Osama\", \"Mohamed\", \"Elsayed\")\n",
    "member_two = Member(\"Ahmed\", \"Ali\", \"Mahmoud\")\n",
    "member_three = Member(\"Mona\", \"Ali\", \"Mahmoud\")\n",
    "\n",
    "# print(dir(member_one))\n",
    "\n",
    "print(member_one.fname, member_one.mname, member_one.lname)\n",
    "print(member_two.fname)\n",
    "print(member_three.fname)"
   ]
  },
  {
   "cell_type": "code",
   "execution_count": 71,
   "metadata": {},
   "outputs": [
    {
     "name": "stdout",
     "output_type": "stream",
     "text": [
      "Hello Mr Osama, Your Full Name Is: Osama Mohamed Elsayed\n"
     ]
    }
   ],
   "source": [
    "class Member:\n",
    "  def __init__(self, first_name, middle_name, last_name, gender):\n",
    "    self.fname = first_name\n",
    "    self.mname = middle_name\n",
    "    self.lname = last_name\n",
    "    self.gender = gender\n",
    "\n",
    "  def full_name(self):\n",
    "    return f\"{self.fname} {self.mname} {self.lname}\"\n",
    "\n",
    "  def name_with_title(self):\n",
    "    if self.gender == \"Male\":\n",
    "      return f\"Hello Mr {self.fname}\"\n",
    "    elif self.gender == \"Female\":\n",
    "      return f\"Hello Miss {self.fname}\"\n",
    "    else:\n",
    "      return f\"Hello {self.fname}\"\n",
    "\n",
    "  def get_all_info(self):\n",
    "    return f\"{self.name_with_title()}, Your Full Name Is: {self.full_name()}\"\n",
    "\n",
    "\n",
    "member_one = Member(\"Osama\", \"Mohamed\", \"Elsayed\", \"Male\")\n",
    "member_two = Member(\"Ahmed\", \"Ali\", \"Mahmoud\", \"Male\")\n",
    "member_three = Member(\"Mona\", \"Ali\", \"Mahmoud\", \"Female\")\n",
    "\n",
    "# print(dir(member_one))\n",
    "\n",
    "# print(member_one.fname, member_one.mname, member_one.lname)\n",
    "# print(member_two.fname)\n",
    "# print(member_three.fname)\n",
    "\n",
    "# print(member_two.full_name())\n",
    "# print(member_two.name_with_title())\n",
    "\n",
    "print(member_one.get_all_info())"
   ]
  },
  {
   "cell_type": "markdown",
   "metadata": {},
   "source": [
    " <span style=\"color:salmon\"> \n",
    " \n",
    "- Class Attributes \n",
    "- Class Attributes: Attributes Defined Outside The Constructor\n",
    "</span>"
   ]
  },
  {
   "cell_type": "code",
   "execution_count": 72,
   "metadata": {},
   "outputs": [
    {
     "name": "stdout",
     "output_type": "stream",
     "text": [
      "0\n",
      "4\n",
      "User Shit Is Deleted.\n",
      "3\n",
      "['__class__', '__delattr__', '__dict__', '__dir__', '__doc__', '__eq__', '__format__', '__ge__', '__getattribute__', '__getstate__', '__gt__', '__hash__', '__init__', '__init_subclass__', '__le__', '__lt__', '__module__', '__ne__', '__new__', '__reduce__', '__reduce_ex__', '__repr__', '__setattr__', '__sizeof__', '__str__', '__subclasshook__', '__weakref__', 'delete_user', 'fname', 'full_name', 'gender', 'get_all_info', 'lname', 'mname', 'name_with_title', 'not_allowed_names', 'users_num']\n",
      "Osama Mohamed Elsayed\n",
      "Ahmed\n",
      "Mona\n",
      "Ahmed Ali Mahmoud\n",
      "Hello Mr Ahmed\n",
      "Hello Miss Mona, Your Full Name Is: Mona Ali Mahmoud\n",
      "['__class__', '__delattr__', '__dict__', '__dir__', '__doc__', '__eq__', '__format__', '__ge__', '__getattribute__', '__getstate__', '__gt__', '__hash__', '__init__', '__init_subclass__', '__le__', '__lt__', '__module__', '__ne__', '__new__', '__reduce__', '__reduce_ex__', '__repr__', '__setattr__', '__sizeof__', '__str__', '__subclasshook__', '__weakref__', 'delete_user', 'full_name', 'get_all_info', 'name_with_title', 'not_allowed_names', 'users_num']\n"
     ]
    }
   ],
   "source": [
    "class Member:\n",
    "\n",
    "  not_allowed_names = [\"Hell\", \"Shit\", \"Baloot\"]\n",
    "\n",
    "  users_num = 0\n",
    "\n",
    "  def __init__(self, first_name, middle_name, last_name, gender):\n",
    "\n",
    "    self.fname = first_name\n",
    "\n",
    "    self.mname = middle_name\n",
    "\n",
    "    self.lname = last_name\n",
    "\n",
    "    self.gender = gender\n",
    "\n",
    "    Member.users_num += 1  # Member.users_num = Member.users_num + 1\n",
    "\n",
    "  def full_name(self):\n",
    "\n",
    "    if self.fname in Member.not_allowed_names:\n",
    "\n",
    "      raise ValueError(\"Name Not Allowed\")\n",
    "\n",
    "    else:\n",
    "\n",
    "      return f\"{self.fname} {self.mname} {self.lname}\"\n",
    "\n",
    "  def name_with_title(self):\n",
    "\n",
    "    if self.gender == \"Male\":\n",
    "\n",
    "      return f\"Hello Mr {self.fname}\"\n",
    "\n",
    "    elif self.gender == \"Female\":\n",
    "\n",
    "      return f\"Hello Miss {self.fname}\"\n",
    "\n",
    "    else:\n",
    "\n",
    "      return f\"Hello {self.fname}\"\n",
    "\n",
    "  def get_all_info(self):\n",
    "\n",
    "    return f\"{self.name_with_title()}, Your Full Name Is: {self.full_name()}\"\n",
    "\n",
    "  def delete_user(self):\n",
    "\n",
    "    Member.users_num -= 1  # Member.users_num = Member.users_num -1\n",
    "\n",
    "    return f\"User {self.fname} Is Deleted.\"\n",
    "\n",
    "\n",
    "print(Member.users_num)\n",
    "\n",
    "member_one = Member(\"Osama\", \"Mohamed\", \"Elsayed\", \"Male\")\n",
    "member_two = Member(\"Ahmed\", \"Ali\", \"Mahmoud\", \"Male\")\n",
    "member_three = Member(\"Mona\", \"Ali\", \"Mahmoud\", \"Female\")\n",
    "member_four = Member(\"Shit\", \"Hell\", \"Metal\", \"DD\")\n",
    "\n",
    "print(Member.users_num)\n",
    "\n",
    "print(member_four.delete_user())\n",
    "\n",
    "print(Member.users_num)\n",
    "\n",
    "print(dir(member_one))\n",
    "\n",
    "print(member_one.fname, member_one.mname, member_one.lname)\n",
    "print(member_two.fname)\n",
    "print(member_three.fname)\n",
    "\n",
    "print(member_two.full_name())\n",
    "print(member_two.name_with_title())\n",
    "\n",
    "print(member_three.get_all_info())\n",
    "\n",
    "print(dir(Member))"
   ]
  },
  {
   "cell_type": "markdown",
   "metadata": {},
   "source": [
    "<span style=\"color:salmon\"> \n",
    "\n",
    "- -- Object Oriented Programming => Class Methods & Static Methods --\n",
    " -------------------------------------------------------------------\n",
    "- Class Methods:\n",
    "\n",
    "- - Marked With @classmethod Decorator To Flag It As Class Method\n",
    "- - It Take Cls Parameter Not Self To Point To The Class not The Instance\n",
    "- - It Doesn't Require Creation of a Class Instance\n",
    "- - Used When You Want To Do Something With The Class Itself\n",
    "\n",
    "- Static Methods:\n",
    "\n",
    "- - It Takes No Parameters\n",
    "- - Its Bound To The Class Not Instance\n",
    "- - Used When Doing Something Doesnt Have Access To Object Or Class But Related To Class\n",
    " -----------------------------------------------------------\n",
    "\n",
    " </span>"
   ]
  },
  {
   "cell_type": "code",
   "execution_count": 73,
   "metadata": {},
   "outputs": [
    {
     "name": "stdout",
     "output_type": "stream",
     "text": [
      "0\n",
      "4\n",
      "User Shit Is Deleted.\n",
      "3\n",
      "##################################################\n",
      "We Have 3 Users In Our System.\n",
      "##################################################\n",
      "Osama Mohamed Elsayed\n",
      "Osama Mohamed Elsayed\n",
      "Hello From Static Method\n"
     ]
    }
   ],
   "source": [
    "class Member:\n",
    "\n",
    "  not_allowed_names = [\"Hell\", \"Shit\", \"Baloot\"]\n",
    "\n",
    "  users_num = 0\n",
    "\n",
    "  @classmethod\n",
    "  def show_users_count(cls):\n",
    "\n",
    "    print(f\"We Have {cls.users_num} Users In Our System.\")\n",
    "\n",
    "  @staticmethod\n",
    "  def say_hello():\n",
    "\n",
    "    print(\"Hello From Static Method\")\n",
    "\n",
    "  def __init__(self, first_name, middle_name, last_name, gender):\n",
    "\n",
    "    self.fname = first_name\n",
    "\n",
    "    self.mname = middle_name\n",
    "\n",
    "    self.lname = last_name\n",
    "\n",
    "    self.gender = gender\n",
    "\n",
    "    Member.users_num += 1  # Member.users_num = Member.users_num + 1\n",
    "\n",
    "  def full_name(self):\n",
    "\n",
    "    if self.fname in Member.not_allowed_names:\n",
    "\n",
    "      raise ValueError(\"Name Not Allowed\")\n",
    "\n",
    "    else:\n",
    "\n",
    "      return f\"{self.fname} {self.mname} {self.lname}\"\n",
    "\n",
    "  def name_with_title(self):\n",
    "\n",
    "    if self.gender == \"Male\":\n",
    "\n",
    "      return f\"Hello Mr {self.fname}\"\n",
    "\n",
    "    elif self.gender == \"Female\":\n",
    "\n",
    "      return f\"Hello Miss {self.fname}\"\n",
    "\n",
    "    else:\n",
    "\n",
    "      return f\"Hello {self.fname}\"\n",
    "\n",
    "  def get_all_info(self):\n",
    "\n",
    "    return f\"{self.name_with_title()}, Your Full Name Is: {self.full_name()}\"\n",
    "\n",
    "  def delete_user(self):\n",
    "\n",
    "    Member.users_num -= 1  # Member.users_num = Member.users_num -1\n",
    "\n",
    "    return f\"User {self.fname} Is Deleted.\"\n",
    "\n",
    "print(Member.users_num)\n",
    "\n",
    "member_one = Member(\"Osama\", \"Mohamed\", \"Elsayed\", \"Male\")\n",
    "member_two = Member(\"Ahmed\", \"Ali\", \"Mahmoud\", \"Male\")\n",
    "member_three = Member(\"Mona\", \"Ali\", \"Mahmoud\", \"Female\")\n",
    "member_four = Member(\"Shit\", \"Hell\", \"Metal\", \"DD\")\n",
    "\n",
    "print(Member.users_num)\n",
    "print(member_four.delete_user())\n",
    "print(Member.users_num)\n",
    "\n",
    "print(\"#\" * 50)\n",
    "\n",
    "Member.show_users_count()\n",
    "\n",
    "print(\"#\" * 50)\n",
    "\n",
    "print(member_one.full_name())\n",
    "print(Member.full_name(member_one))\n",
    "\n",
    "Member.say_hello()"
   ]
  },
  {
   "cell_type": "markdown",
   "metadata": {},
   "source": [
    " <span style=\"color:salmon\">\n",
    "\n",
    "- Magic Methods\n",
    "\n",
    "- Everything in Python is An Object\n",
    "- __init__  Called Automatically When Instantiating Class\n",
    "- self.__class__ The class to which a class instance belongs\n",
    "- __str__   Gives a Human-Readable Output of the Object\n",
    "- __len__   Returns the Length of the Container\n",
    "-           Called When We Use the Built-in len() Function on the Object\n",
    " ------------------------------------------------------\n",
    "  </span>"
   ]
  },
  {
   "cell_type": "code",
   "execution_count": 4,
   "metadata": {},
   "outputs": [
    {
     "name": "stdout",
     "output_type": "stream",
     "text": [
      "This is My Skills => ['Html', 'Css', 'Js']\n",
      "3\n",
      "5\n",
      "<class '__main__.Skill'>\n",
      "<class 'str'>\n",
      "<class 'str'>\n",
      "['__add__', '__class__', '__contains__', '__delattr__', '__dir__', '__doc__', '__eq__', '__format__', '__ge__', '__getattribute__', '__getitem__', '__getnewargs__', '__getstate__', '__gt__', '__hash__', '__init__', '__init_subclass__', '__iter__', '__le__', '__len__', '__lt__', '__mod__', '__mul__', '__ne__', '__new__', '__reduce__', '__reduce_ex__', '__repr__', '__rmod__', '__rmul__', '__setattr__', '__sizeof__', '__str__', '__subclasshook__', 'capitalize', 'casefold', 'center', 'count', 'encode', 'endswith', 'expandtabs', 'find', 'format', 'format_map', 'index', 'isalnum', 'isalpha', 'isascii', 'isdecimal', 'isdigit', 'isidentifier', 'islower', 'isnumeric', 'isprintable', 'isspace', 'istitle', 'isupper', 'join', 'ljust', 'lower', 'lstrip', 'maketrans', 'partition', 'removeprefix', 'removesuffix', 'replace', 'rfind', 'rindex', 'rjust', 'rpartition', 'rsplit', 'rstrip', 'split', 'splitlines', 'startswith', 'strip', 'swapcase', 'title', 'translate', 'upper', 'zfill']\n",
      "MENNA\n"
     ]
    }
   ],
   "source": [
    "class Skill:\n",
    "\n",
    "  def __init__(self):\n",
    "\n",
    "    self.skills = [\"Html\", \"Css\", \"Js\"]\n",
    "\n",
    "  def __str__(self):\n",
    "\n",
    "    return f\"This is My Skills => {self.skills}\"\n",
    "\n",
    "  def __len__(self):\n",
    "\n",
    "    return len(self.skills)\n",
    "\n",
    "profile = Skill()\n",
    "print(profile)\n",
    "print(len(profile))\n",
    "\n",
    "profile.skills.append(\"PHP\")\n",
    "profile.skills.append(\"MySQL\")\n",
    "\n",
    "print(len(profile))\n",
    "\n",
    "print(profile.__class__)\n",
    "my_string = \"Menna\"\n",
    "print(type(my_string))\n",
    "print(my_string.__class__)\n",
    "print(dir(str))\n",
    "print(str.upper(my_string))\n"
   ]
  },
  {
   "cell_type": "markdown",
   "metadata": {},
   "source": [
    "- <span style=\"color:salmon\"> Inheritance </span>"
   ]
  },
  {
   "cell_type": "code",
   "execution_count": 5,
   "metadata": {},
   "outputs": [
    {
     "name": "stdout",
     "output_type": "stream",
     "text": [
      "Pizza Is Created From Base Class\n",
      "Pizza Is Created From Derived Class And Price Is 150 And Amount Is 500\n",
      "Eat Method From Base Class\n",
      "Get From Tree From Derived Class\n"
     ]
    }
   ],
   "source": [
    "class Food:  # Base Class\n",
    "\n",
    "  def __init__(self, name, price):\n",
    "\n",
    "    self.name = name\n",
    "\n",
    "    self.price = price\n",
    "\n",
    "    print(f\"{self.name} Is Created From Base Class\")\n",
    "\n",
    "  def eat(self):\n",
    "\n",
    "    print(\"Eat Method From Base Class\")\n",
    "\n",
    "class Apple(Food):  # Derived Class\n",
    "\n",
    "  def __init__(self, name, price, amount):\n",
    "\n",
    "    # Food.__init__(self, name)  # Create Instance From Base Class\n",
    "\n",
    "    super().__init__(name, price)\n",
    "\n",
    "    self.amount = amount\n",
    "\n",
    "    print(f\"{self.name} Is Created From Derived Class And Price Is {self.price} And Amount Is {self.amount}\")\n",
    "\n",
    "  def get_from_tree(self):\n",
    "\n",
    "      print(\"Get From Tree From Derived Class\")\n",
    "\n",
    "# food_one = Food(\"Pizza\")\n",
    "food_two = Apple(\"Pizza\", 150, 500)\n",
    "food_two.eat()\n",
    "food_two.get_from_tree()"
   ]
  },
  {
   "cell_type": "markdown",
   "metadata": {},
   "source": [
    "- <span style=\"color:salmon\"> Multiple Inheritance </span>"
   ]
  },
  {
   "cell_type": "code",
   "execution_count": 6,
   "metadata": {},
   "outputs": [
    {
     "name": "stdout",
     "output_type": "stream",
     "text": [
      "Base One\n",
      "<bound method BaseOne.func_one of <__main__.Derived object at 0x0000024D5C14FE50>>\n",
      "<bound method BaseTwo.func_two of <__main__.Derived object at 0x0000024D5C14FE50>>\n",
      "One\n",
      "Two\n"
     ]
    }
   ],
   "source": [
    "class BaseOne:\n",
    "\n",
    "  def __init__(self):\n",
    "\n",
    "    print(\"Base One\")\n",
    "\n",
    "  def func_one(self):\n",
    "\n",
    "    print(\"One\")\n",
    "\n",
    "class BaseTwo:\n",
    "\n",
    "  def __init__(self):\n",
    "\n",
    "    print(\"Base Two\")\n",
    "\n",
    "  def func_two(self):\n",
    "\n",
    "    print(\"Two\")\n",
    "\n",
    "class Derived(BaseOne, BaseTwo):\n",
    "\n",
    "  pass\n",
    "\n",
    "my_var = Derived()\n",
    "\n",
    "# print(Derived.mro())\n",
    "\n",
    "print(my_var.func_one)\n",
    "print(my_var.func_two)\n",
    "\n",
    "my_var.func_one()\n",
    "my_var.func_two()\n",
    "\n",
    "class Base:\n",
    "\n",
    "  pass\n",
    "\n",
    "class DerivedOne(Base):\n",
    "\n",
    "  pass\n",
    "\n",
    "class DerivedTwo(DerivedOne):\n",
    "\n",
    "  pass"
   ]
  },
  {
   "cell_type": "markdown",
   "metadata": {},
   "source": [
    " <span style=\"color:salmon\"> \n",
    "\n",
    "- Polymorphism   => نفس ال method في اكتر من مكان بتعمل حاجه مختلفة\n",
    "- يعني المفروض نعمل implementation لل method دي في كل class بطريقة مختلفة\n",
    "\n",
    "</span>"
   ]
  },
  {
   "cell_type": "code",
   "execution_count": 7,
   "metadata": {},
   "outputs": [
    {
     "name": "stdout",
     "output_type": "stream",
     "text": [
      "30\n",
      "Hello Python\n",
      "6\n",
      "12\n",
      "2\n",
      "From Class B\n"
     ]
    }
   ],
   "source": [
    "n1 = 10\n",
    "n2 = 20\n",
    "\n",
    "print(n1 + n2)\n",
    "\n",
    "s1 = \"Hello\"\n",
    "s2 = \"Python\"\n",
    "\n",
    "print(s1 + \" \" + s2)\n",
    "\n",
    "print(len([1, 2, 3, 4, 5, 6]))\n",
    "print(len(\"Osama Elzero\"))\n",
    "print(len({\"Key_One\": 1, \"Key_Two\": 2}))\n",
    "\n",
    "class A:\n",
    "\n",
    "  def do_something(self):\n",
    "\n",
    "    print(\"From Class A\")\n",
    "\n",
    "    raise NotImplementedError(\"Derived Class Must Implement This Method\")\n",
    "\n",
    "class B(A):\n",
    "\n",
    "  def do_something(self):\n",
    "\n",
    "    print(\"From Class B\")\n",
    "\n",
    "class C(A):\n",
    "\n",
    "  def do_something(self):\n",
    "\n",
    "    print(\"From Class C\")\n",
    "\n",
    "my_instance = B()\n",
    "my_instance.do_something()"
   ]
  },
  {
   "cell_type": "markdown",
   "metadata": {},
   "source": [
    " <span style=\"color:salmon\"> \n",
    "\n",
    "- Encapsulation \n",
    "\n",
    "- - Restrict Access To The Data Stored in Attirbutes and Methods\n",
    "- Public\n",
    "\n",
    "- - Every Attribute and Method That We Used So Far Is Public\n",
    "- - Attributes and Methods Can Be Modified and Run From Everywhere\n",
    "- - Inside Our Outside The Class\n",
    "- Protected\n",
    "\n",
    "- - Attributes and Methods Can Be Accessed From Within The Class And Sub Classes\n",
    "- - Attributes and Methods Prefixed With One Underscore _\n",
    "- Private\n",
    "\n",
    "- - Attributes and Methods Can Be Accessed From Within The Class Or Object Only\n",
    "- - Attributes Cannot Be Modified From Outside The Class\n",
    "- - Attributes and Methods Prefixed With Two Underscores __\n",
    " ---------------------------------------------------------\n",
    "- - Attributes = Variables = Properties\n",
    " -------------------------------------\n",
    "</span>"
   ]
  },
  {
   "cell_type": "code",
   "execution_count": 1,
   "metadata": {},
   "outputs": [
    {
     "name": "stdout",
     "output_type": "stream",
     "text": [
      "Ahmed\n",
      "Sayed\n",
      "Ahmed\n",
      "Sayed\n",
      "Hello Ahmed\n",
      "Ahmed\n"
     ]
    }
   ],
   "source": [
    "class Member:\n",
    "\n",
    "  def __init__(self, name):\n",
    "\n",
    "    self.name = name  # Public\n",
    "\n",
    "one = Member(\"Ahmed\")\n",
    "print(one.name)\n",
    "one.name = \"Sayed\"\n",
    "print(one.name)\n",
    "\n",
    "class Member:\n",
    "\n",
    "  def __init__(self, name):\n",
    "\n",
    "    self._name = name  # Protected\n",
    "\n",
    "one = Member(\"Ahmed\")\n",
    "print(one._name)\n",
    "one._name = \"Sayed\"\n",
    "print(one._name)\n",
    "\n",
    "class Member:\n",
    "\n",
    "  def __init__(self, name):\n",
    "\n",
    "    self.__name = name  # Private\n",
    "\n",
    "  def say_hello(self):\n",
    "\n",
    "    return f\"Hello {self.__name}\"\n",
    "\n",
    "one = Member(\"Ahmed\")\n",
    "# print(one.__name)\n",
    "print(one.say_hello())\n",
    "print(one._Member__name)"
   ]
  },
  {
   "cell_type": "markdown",
   "metadata": {},
   "source": [
    "- <span style=\"color:salmon\"> Getters & Setters </span>"
   ]
  },
  {
   "cell_type": "code",
   "execution_count": 3,
   "metadata": {},
   "outputs": [
    {
     "name": "stdout",
     "output_type": "stream",
     "text": [
      "Sayed\n",
      "Sayed\n",
      "Abbas\n"
     ]
    }
   ],
   "source": [
    "class Member:\n",
    "\n",
    "  def __init__(self, name):\n",
    "\n",
    "    self.__name = name  # Private\n",
    "\n",
    "  def say_hello(self):\n",
    "\n",
    "    return f\"Hello {self.__name}\"\n",
    "\n",
    "  def get_name(self):  # Getter\n",
    "\n",
    "    return self.__name\n",
    "\n",
    "  def set_name(self, new_name):\n",
    "\n",
    "    self.__name = new_name\n",
    "\n",
    "one = Member(\"Ahmed\")\n",
    "\n",
    "one._Member__name = \"Sayed\"\n",
    "print(one._Member__name)\n",
    "\n",
    "print(one.get_name())\n",
    "one.set_name('Abbas')\n",
    "print(one.get_name())"
   ]
  },
  {
   "cell_type": "markdown",
   "metadata": {},
   "source": [
    "- <span style=\"color:salmon\"> @Property Decorator </span>"
   ]
  },
  {
   "cell_type": "code",
   "execution_count": 4,
   "metadata": {},
   "outputs": [
    {
     "name": "stdout",
     "output_type": "stream",
     "text": [
      "Ahmed\n",
      "40\n",
      "Hello Ahmed\n",
      "14600\n"
     ]
    }
   ],
   "source": [
    "class Member:\n",
    "\n",
    "  def __init__(self, name, age):\n",
    "\n",
    "    self.name = name\n",
    "\n",
    "    self.age = age\n",
    "\n",
    "  def say_hello(self):\n",
    "\n",
    "    return f\"Hello {self.name}\"\n",
    "\n",
    "  @property\n",
    "  def age_in_days(self):\n",
    "\n",
    "    return self.age * 365\n",
    "\n",
    "one = Member(\"Ahmed\", 40)\n",
    "\n",
    "print(one.name)\n",
    "print(one.age)\n",
    "print(one.say_hello())\n",
    "# print(one.age_in_days())\n",
    "\n",
    "print(one.age_in_days)"
   ]
  },
  {
   "cell_type": "markdown",
   "metadata": {},
   "source": [
    "<span style=\"color:salmon\"> \n",
    "\n",
    "- ABC Abstract Base Class \n",
    "- - Class Called Abstract Class If it Has One or More Abstract Methods\n",
    "- - abc module in Python Provides Infrastructure for Defining Custom Abstract Base Classes.\n",
    "- - By Adding @absttractmethod Decorator on The Methods\n",
    "- - ABCMeta Class Is a Metaclass Used For Defining Abstract Base Class\n",
    "</span>"
   ]
  },
  {
   "cell_type": "code",
   "execution_count": 5,
   "metadata": {},
   "outputs": [
    {
     "name": "stdout",
     "output_type": "stream",
     "text": [
      "No\n",
      "Pascal\n"
     ]
    }
   ],
   "source": [
    "from abc import ABCMeta, abstractmethod\n",
    "\n",
    "class Programming(metaclass=ABCMeta):\n",
    "\n",
    "  @abstractmethod\n",
    "  def has_oop(self):\n",
    "\n",
    "    pass\n",
    "\n",
    "  @abstractmethod\n",
    "  def has_name(self):\n",
    "\n",
    "    pass\n",
    "\n",
    "class Python(Programming):\n",
    "\n",
    "  def has_oop(self):\n",
    "\n",
    "    return \"Yes\"\n",
    "\n",
    "class Pascal(Programming):\n",
    "\n",
    "  def has_oop(self):\n",
    "\n",
    "    return \"No\"\n",
    "\n",
    "  def has_name(self):\n",
    "\n",
    "    return \"Pascal\"\n",
    "\n",
    "one = Pascal()\n",
    "\n",
    "print(one.has_oop())\n",
    "print(one.has_name())"
   ]
  },
  {
   "cell_type": "markdown",
   "metadata": {},
   "source": [
    " # <span style=\"color:skyblue\">[39]  Databases  </span>"
   ]
  },
  {
   "cell_type": "markdown",
   "metadata": {},
   "source": [
    " <span style=\"color:salmon\"> \n",
    "\n",
    "- - Database Is A Place Where We Can Store Data\n",
    "- - Database Organized Into Tables (Users, Categories)\n",
    "- - Tables Has Columns (ID, Username, Password)\n",
    "- - There's Many Types Of Databases (MongoDB, MySQL, SQLite)\n",
    "- - SQL Stand For Structured Query Language\n",
    "- - SQLite => Can Run in Memory or in A Single File\n",
    "- - You Can Browse File With https://sqlitebrowser.org/\n",
    "- - Data Inside Database Has Types (Text, Integer, Date)\n",
    " ------------------------------------------------------\n",
    " </span>"
   ]
  },
  {
   "cell_type": "markdown",
   "metadata": {},
   "source": [
    " <span style=\"color:salmon\"> \n",
    "\n",
    "- Create Database And Connect\n",
    "\n",
    "- Connect\n",
    "- - Execute\n",
    "- - Close\n",
    "  </span>"
   ]
  },
  {
   "cell_type": "code",
   "execution_count": 6,
   "metadata": {},
   "outputs": [],
   "source": [
    "# Import SQLite Module\n",
    "import sqlite3\n",
    "\n",
    "# Create Database And Connect\n",
    "db = sqlite3.connect(\"app.db\")\n",
    "\n",
    "# Create The Tables and Fields\n",
    "db.execute(\n",
    "    \"create table if not exists skills (name text, progress integer, user_id integer)\")\n",
    "\n",
    "# Close Database\n",
    "db.close()"
   ]
  },
  {
   "cell_type": "markdown",
   "metadata": {},
   "source": [
    "<span style=\"color:salmon\"> \n",
    "\n",
    "- --Insert Data Into Database --\n",
    " ------------------------------------------------------\n",
    "- - cursor => All Operation in SQL Done By Cursor Not The Connection Itself\n",
    "- - commit => Save All Changes\n",
    " </span>"
   ]
  },
  {
   "cell_type": "code",
   "execution_count": 19,
   "metadata": {},
   "outputs": [],
   "source": [
    "# Import SQLite Module\n",
    "import sqlite3\n",
    "\n",
    "# Create Database And Connect\n",
    "db = sqlite3.connect(\"app.db\")\n",
    "\n",
    "# Setting Up The Cursor\n",
    "cr = db.cursor()\n",
    "\n",
    "# Create The Tables and Fields\n",
    "cr.execute(\"create table if not exists users (user_id integer, name text)\")\n",
    "cr.execute(\n",
    "    \"create table if not exists skills (name text, progress integer, user_id integer)\")\n",
    "\n",
    "# Inserting Data\n",
    "cr.execute(\"insert into users(user_id, name) values(1, 'Ahmed')\")\n",
    "cr.execute(\"insert into users(user_id, name) values(2, 'Sayed')\")\n",
    "cr.execute(\"insert into users(user_id, name) values(3, 'Osama')\")\n",
    "\n",
    "#my_list = [\"Ahmed\", \"Sayed\", \"Mahmoud\", \"Ali\", \"Kamel\", \"Ibrahim\", \"Enas\"]\n",
    "\n",
    "#for key, user in enumerate(my_list):\n",
    "\n",
    "     #cr.execute(f\"insert into users(user_id, name) values({key + 1}, '{user}')\")\n",
    "\n",
    " #Save (Commit) Changes\n",
    "db.commit()\n",
    "\n",
    "# Close Database\n",
    "db.close()"
   ]
  },
  {
   "cell_type": "markdown",
   "metadata": {},
   "source": [
    " <span style=\"color:salmon\"> \n",
    " \n",
    "- Retrieve Data From Database --\n",
    " --------------------------------------------------------\n",
    "- - fetchone => returns a single record or None if no more rows are available.\n",
    "- - fetchall => fetches all the rows of a query result. It returns all the rows\n",
    "-               as a list of tuples. An empty list is returned if there is no record to fetch.\n",
    "- - fetchmany(size) =>\n",
    " ------------------------------------------------------\n",
    "  </span>"
   ]
  },
  {
   "cell_type": "code",
   "execution_count": 24,
   "metadata": {},
   "outputs": [
    {
     "name": "stdout",
     "output_type": "stream",
     "text": [
      "(1, 'Ahmed')\n",
      "(2, 'Sayed')\n",
      "(3, 'Osama')\n",
      "None\n"
     ]
    }
   ],
   "source": [
    "# Import SQLite Module\n",
    "import sqlite3\n",
    "\n",
    "# Create Database And Connect\n",
    "db = sqlite3.connect(\"app.db\")\n",
    "\n",
    "# Setting Up The Cursor\n",
    "cr = db.cursor()\n",
    "\n",
    "# Create The Tables and Fields\n",
    "#cr.execute(\"create table if not exists users (user_id integer, name text)\")\n",
    "#cr.execute(\n",
    "#     \"create table if not exists skills (name text, progress integer, user_id integer)\")\n",
    "\n",
    "# Inserting Data\n",
    "#cr.execute(\"insert into users(user_id, name) values(1, 'Ahmed')\")\n",
    "#cr.execute(\"insert into users(user_id, name) values(2, 'Sayed')\")\n",
    "#cr.execute(\"insert into users(user_id, name) values(3, 'Osama')\")\n",
    "\n",
    "# Fetch Data\n",
    "cr.execute(\"select * from users\")\n",
    "\n",
    "print(cr.fetchone())\n",
    "print(cr.fetchone())\n",
    "print(cr.fetchone())\n",
    "print(cr.fetchone())\n",
    "\n",
    "# print(cr.fetchall())\n",
    "\n",
    "# print(cr.fetchmany(2))\n",
    "\n",
    "# Save (Commit) Changes\n",
    "db.commit()\n",
    "\n",
    "# Close Database\n",
    "db.close()"
   ]
  },
  {
   "cell_type": "markdown",
   "metadata": {},
   "source": [
    "- <span style=\"color:salmon\"> Training On Everything </span>"
   ]
  },
  {
   "cell_type": "code",
   "execution_count": 22,
   "metadata": {},
   "outputs": [
    {
     "name": "stdout",
     "output_type": "stream",
     "text": [
      "Connected To Database Successfully\n",
      "Database Has 3 Rows.\n",
      "Showing Data:\n",
      "UserID => 1, Username => Ahmed\n",
      "UserID => 2, Username => Sayed\n",
      "UserID => 3, Username => Osama\n",
      "Connection To Database Is Closed\n"
     ]
    }
   ],
   "source": [
    "import sqlite3\n",
    "\n",
    "def get_all_data():\n",
    "\n",
    "  try:\n",
    "\n",
    "    # Connect To Database\n",
    "    db = sqlite3.connect(\"app.db\")\n",
    "\n",
    "    # Print Success Message\n",
    "    print(\"Connected To Database Successfully\")\n",
    "\n",
    "    # Setting Up The Cursor\n",
    "    cr = db.cursor()\n",
    "\n",
    "    # Fetch Data From Database\n",
    "    cr.execute(\"select * from users\")\n",
    "\n",
    "    # Assign Data To Variable\n",
    "    results = cr.fetchall()\n",
    "\n",
    "    # Print Number Of Rows\n",
    "    print(f\"Database Has {len(results)} Rows.\")\n",
    "\n",
    "    # Printing Message\n",
    "    print(\"Showing Data:\")\n",
    "\n",
    "    # Loop On Results\n",
    "    for row in results:\n",
    "\n",
    "      print(f\"UserID => {row[0]},\", end=\" \")\n",
    "\n",
    "      print(f\"Username => {row[1]}\")\n",
    "\n",
    "  except sqlite3.Error as er:\n",
    "\n",
    "    print(f\"Error Reading Data {er}\")\n",
    "\n",
    "  finally:\n",
    "\n",
    "    if (db):\n",
    "\n",
    "      # Close Database Connection\n",
    "      db.close()\n",
    "\n",
    "      print(\"Connection To Database Is Closed\")\n",
    "\n",
    "get_all_data()"
   ]
  },
  {
   "cell_type": "markdown",
   "metadata": {},
   "source": [
    "- <span style=\"color:salmon\">  Update And Delete From Database </span>"
   ]
  },
  {
   "cell_type": "code",
   "execution_count": 25,
   "metadata": {},
   "outputs": [
    {
     "name": "stdout",
     "output_type": "stream",
     "text": [
      "(1, 'Mahmoud')\n",
      "(2, 'Sayed')\n",
      "(3, 'Ameer')\n",
      "None\n"
     ]
    }
   ],
   "source": [
    "# Import SQLite Module\n",
    "import sqlite3\n",
    "\n",
    "# Create Database And Connect\n",
    "db = sqlite3.connect(\"app.db\")\n",
    "\n",
    "# Setting Up The Cursor\n",
    "cr = db.cursor()\n",
    "\n",
    "# Update Data\n",
    "cr.execute(\"update users set name = 'Mahmoud' where user_id = 1\")\n",
    "cr.execute(\"update users set name = 'Sayed' where user_id = 2\")\n",
    "cr.execute(\"update users set name = 'Ameer' where user_id = 3\")\n",
    "cr.execute(\"update users set name = 'Menna' where user_id = 4\")\n",
    "\n",
    "\n",
    "# Delete Data\n",
    "cr.execute(\"delete from users where user_id = 4\")\n",
    "\n",
    "# Fetch Data\n",
    "cr.execute(\"select * from users\")\n",
    "\n",
    "print(cr.fetchone())\n",
    "print(cr.fetchone())\n",
    "print(cr.fetchone())\n",
    "print(cr.fetchone())\n",
    "\n",
    "# Save (Commit) Changes\n",
    "db.commit()\n",
    "\n",
    "# Close Database\n",
    "db.close()"
   ]
  },
  {
   "cell_type": "markdown",
   "metadata": {},
   "source": [
    "- <span style=\"color:salmon\">  Create Skills App Part 1 </span>"
   ]
  },
  {
   "cell_type": "code",
   "execution_count": 26,
   "metadata": {},
   "outputs": [
    {
     "name": "stdout",
     "output_type": "stream",
     "text": [
      "Command Found s\n",
      "Show Skills\n"
     ]
    }
   ],
   "source": [
    "# Input Big Message\n",
    "input_message = \"\"\"\n",
    "What Do You Want To Do ?\n",
    "\"s\" => Show All Skills\n",
    "\"a\" => Add New Skill\n",
    "\"d\" => Delete A Skill\n",
    "\"u\" => Update Skill Progress\n",
    "\"q\" => Quit The App\n",
    "Choose Option:\n",
    "\"\"\"\n",
    "\n",
    "# Input Option Choose\n",
    "user_input = input(input_message).strip().lower()\n",
    "\n",
    "# Command List\n",
    "commands_list = [\"s\", \"a\", \"d\", \"u\", \"q\"]\n",
    "\n",
    "# Define The Methods\n",
    "\n",
    "def show_skills():\n",
    "\n",
    "  print(\"Show Skills\")\n",
    "\n",
    "def add_skill():\n",
    "\n",
    "  print(\"Add Skill\")\n",
    "\n",
    "def delete_skill():\n",
    "\n",
    "  print(\"Delete Skill\")\n",
    "\n",
    "def update_skill():\n",
    "\n",
    "  print(\"Update Skill Progress\")\n",
    "\n",
    "# Check If Command Is Exists\n",
    "if user_input in commands_list:\n",
    "\n",
    "  print(f\"Command Found {user_input}\")\n",
    "\n",
    "  if user_input == \"s\":\n",
    "\n",
    "    show_skills()\n",
    "\n",
    "  elif user_input == \"a\":\n",
    "\n",
    "    add_skill()\n",
    "\n",
    "  elif user_input == \"d\":\n",
    "\n",
    "    delete_skill()\n",
    "\n",
    "  elif user_input == \"u\":\n",
    "\n",
    "    update_skill()\n",
    "\n",
    "  else:\n",
    "\n",
    "    print(\"App Is Closed.\")\n",
    "\n",
    "else:\n",
    "\n",
    "  print(f\"Sorry This Command \\\"{user_input}\\\" Is Not Found\")"
   ]
  },
  {
   "cell_type": "markdown",
   "metadata": {},
   "source": [
    "- <span style=\"color:salmon\"> Create Skills App Part 2 </span>"
   ]
  },
  {
   "cell_type": "code",
   "execution_count": 7,
   "metadata": {},
   "outputs": [
    {
     "name": "stdout",
     "output_type": "stream",
     "text": [
      "Connection To Database Is Closed\n"
     ]
    }
   ],
   "source": [
    "# Import SQLite Module\n",
    "import sqlite3\n",
    "\n",
    "# Create Database And Connect\n",
    "db = sqlite3.connect(\"app.db\")\n",
    "\n",
    "# Setting Up The Cursor\n",
    "cr = db.cursor()\n",
    "\n",
    "# Commit and Close Method\n",
    "def commit_and_close():\n",
    "\n",
    "  # Save (Commit) Changes\n",
    "  db.commit()\n",
    "\n",
    "  # Close Database\n",
    "  db.close()\n",
    "  print(\"Connection To Database Is Closed\")\n",
    "\n",
    "# My User ID\n",
    "uid = 3\n",
    "\n",
    "# Input Big Message\n",
    "input_message = \"\"\"\n",
    "What Do You Want To Do ?\n",
    "\"s\" => Show All Skills\n",
    "\"a\" => Add New Skill\n",
    "\"d\" => Delete A Skill\n",
    "\"u\" => Update Skill Progress\n",
    "\"q\" => Quit The App\n",
    "Choose Option:\n",
    "\"\"\"\n",
    "\n",
    "# Input Option Choose\n",
    "user_input = input(input_message).strip().lower()\n",
    "\n",
    "# Command List\n",
    "commands_list = [\"s\", \"a\", \"d\", \"u\", \"q\"]\n",
    "\n",
    "# Define The Methods\n",
    "def show_skills():\n",
    "\n",
    "  print(\"Show Skills\")\n",
    "\n",
    "  commit_and_close()\n",
    "\n",
    "def add_skill():\n",
    "\n",
    "  sk = input(\"Write Skill Name: \").strip().capitalize()\n",
    "\n",
    "  prog = input(\"Write Skill Progress \").strip()\n",
    "\n",
    "  cr.execute(f\"insert into skills(name, progress, user_id) values('{sk}', '{prog}', '{uid}')\")\n",
    "\n",
    "  commit_and_close()\n",
    "\n",
    "def delete_skill():\n",
    "\n",
    "  sk = input(\"Write Skill Name: \").strip().capitalize()\n",
    "\n",
    "  cr.execute(f\"delete from skills where name = '{sk}' and user_id = '{uid}'\")\n",
    "\n",
    "  commit_and_close()\n",
    "\n",
    "def update_skill():\n",
    "\n",
    "  print(\"Update Skill Progress\")\n",
    "\n",
    "  commit_and_close()\n",
    "\n",
    "# Check If Command Is Exists\n",
    "if user_input in commands_list:\n",
    "\n",
    "  # print(f\"Command Found {user_input}\")\n",
    "\n",
    "  if user_input == \"s\":\n",
    "\n",
    "    show_skills()\n",
    "\n",
    "  elif user_input == \"a\":\n",
    "\n",
    "    add_skill()\n",
    "\n",
    "  elif user_input == \"d\":\n",
    "\n",
    "    delete_skill()\n",
    "\n",
    "  elif user_input == \"u\":\n",
    "\n",
    "    update_skill()\n",
    "\n",
    "  else:\n",
    "\n",
    "    print(\"App Is Closed.\")\n",
    "\n",
    "else:\n",
    "\n",
    "  print(f\"Sorry This Command \\\"{user_input}\\\" Is Not Found\")"
   ]
  },
  {
   "cell_type": "markdown",
   "metadata": {},
   "source": [
    "- <span style=\"color:salmon\">  Create Skills App Part 3 </span>"
   ]
  },
  {
   "cell_type": "code",
   "execution_count": 8,
   "metadata": {},
   "outputs": [
    {
     "name": "stdout",
     "output_type": "stream",
     "text": [
      "You Have 3 Skills.\n",
      "Showing Skills With Progress: \n",
      "Skill => Css, Progress => 70%\n",
      "Skill => Html, Progress => 80%\n",
      "Skill => Js, Progress => 88%\n",
      "Connection To Database Is Closed\n"
     ]
    }
   ],
   "source": [
    "# Import SQLite Module\n",
    "import sqlite3\n",
    "\n",
    "# Create Database And Connect\n",
    "db = sqlite3.connect(\"app.db\")\n",
    "\n",
    "# Setting Up The Cursor\n",
    "cr = db.cursor()\n",
    "\n",
    "def commit_and_close():\n",
    "  \"\"\"Commit Changes and Close Connection To Database\"\"\"\n",
    "  db.commit()  # Save (Commit) Changes\n",
    "  db.close()  # Close Database\n",
    "  print(\"Connection To Database Is Closed\")\n",
    "\n",
    "# My User ID\n",
    "uid = 3\n",
    "\n",
    "# Input Big Message\n",
    "input_message = \"\"\"\n",
    "What Do You Want To Do ?\n",
    "\"s\" => Show All Skills\n",
    "\"a\" => Add New Skill\n",
    "\"d\" => Delete A Skill\n",
    "\"u\" => Update Skill Progress\n",
    "\"q\" => Quit The App\n",
    "Choose Option:\n",
    "\"\"\"\n",
    "\n",
    "# Input Option Choose\n",
    "user_input = input(input_message).strip().lower()\n",
    "\n",
    "# Command List\n",
    "commands_list = [\"s\", \"a\", \"d\", \"u\", \"q\"]\n",
    "\n",
    "# Define The Methods\n",
    "def show_skills():\n",
    "\n",
    "  cr.execute(f\"select * from skills where user_id = '{uid}'\")\n",
    "\n",
    "  results = cr.fetchall()\n",
    "\n",
    "  print(f\"You Have {len(results)} Skills.\")\n",
    "\n",
    "  if len(results) > 0:\n",
    "\n",
    "    print(\"Showing Skills With Progress: \")\n",
    "\n",
    "  for row in results:\n",
    "\n",
    "    print(f\"Skill => {row[0]},\", end=\" \")\n",
    "\n",
    "    print(f\"Progress => {row[1]}%\")\n",
    "\n",
    "  commit_and_close()\n",
    "\n",
    "def add_skill():\n",
    "\n",
    "  sk = input(\"Write Skill Name: \").strip().capitalize()\n",
    "\n",
    "  prog = input(\"Write Skill Progress \").strip()\n",
    "\n",
    "  cr.execute(f\"insert into skills(name, progress, user_id) values('{sk}', '{prog}', '{uid}')\")\n",
    "\n",
    "  commit_and_close()\n",
    "\n",
    "def delete_skill():\n",
    "\n",
    "  sk = input(\"Write Skill Name: \").strip().capitalize()\n",
    "\n",
    "  cr.execute(f\"delete from skills where name = '{sk}' and user_id = '{uid}'\")\n",
    "\n",
    "  commit_and_close()\n",
    "\n",
    "def update_skill():\n",
    "\n",
    "  print(\"Update Skill Progress\")\n",
    "\n",
    "  commit_and_close()\n",
    "\n",
    "# Check If Command Is Exists\n",
    "if user_input in commands_list:\n",
    "\n",
    "  # print(f\"Command Found {user_input}\")\n",
    "\n",
    "  if user_input == \"s\":\n",
    "\n",
    "    show_skills()\n",
    "\n",
    "  elif user_input == \"a\":\n",
    "\n",
    "    add_skill()\n",
    "\n",
    "  elif user_input == \"d\":\n",
    "\n",
    "    delete_skill()\n",
    "\n",
    "  elif user_input == \"u\":\n",
    "\n",
    "    update_skill()\n",
    "\n",
    "  else:\n",
    "\n",
    "    print(\"App Is Closed.\")\n",
    "\n",
    "    commit_and_close()\n",
    "\n",
    "else:\n",
    "\n",
    "  print(f\"Sorry This Command \\\"{user_input}\\\" Is Not Found\")"
   ]
  },
  {
   "cell_type": "markdown",
   "metadata": {},
   "source": [
    "- <span style=\"color:salmon\">  Create Skills App Part 4 </span>"
   ]
  },
  {
   "cell_type": "code",
   "execution_count": 10,
   "metadata": {},
   "outputs": [
    {
     "name": "stdout",
     "output_type": "stream",
     "text": [
      "You Cannot Add It\n",
      "Connection To Database Is Closed\n"
     ]
    }
   ],
   "source": [
    "# Import SQLite Module\n",
    "import sqlite3\n",
    "\n",
    "# Create Database And Connect\n",
    "db = sqlite3.connect(\"app.db\")\n",
    "\n",
    "# Setting Up The Cursor\n",
    "cr = db.cursor()\n",
    "\n",
    "def commit_and_close():\n",
    "  \"\"\"Commit Changes and Close Connection To Database\"\"\"\n",
    "  db.commit()  # Save (Commit) Changes\n",
    "  db.close()  # Close Database\n",
    "  print(\"Connection To Database Is Closed\")\n",
    "\n",
    "\n",
    "# My User ID\n",
    "uid = 1\n",
    "\n",
    "# Input Big Message\n",
    "input_message = \"\"\"\n",
    "What Do You Want To Do ?\n",
    "\"s\" => Show All Skills\n",
    "\"a\" => Add New Skill\n",
    "\"d\" => Delete A Skill\n",
    "\"u\" => Update Skill Progress\n",
    "\"q\" => Quit The App\n",
    "Choose Option:\n",
    "\"\"\"\n",
    "\n",
    "# Input Option Choose\n",
    "user_input = input(input_message).strip().lower()\n",
    "\n",
    "# Command List\n",
    "commands_list = [\"s\", \"a\", \"d\", \"u\", \"q\"]\n",
    "\n",
    "# Define The Methods\n",
    "def show_skills():\n",
    "\n",
    "  cr.execute(f\"select * from skills where user_id = '{uid}'\")\n",
    "\n",
    "  results = cr.fetchall()\n",
    "\n",
    "  print(f\"You Have {len(results)} Skills.\")\n",
    "\n",
    "  if len(results) > 0:\n",
    "\n",
    "    print(\"Showing Skills With Progress: \")\n",
    "\n",
    "  for row in results:\n",
    "\n",
    "    print(f\"Skill => {row[0]},\", end=\" \")\n",
    "\n",
    "    print(f\"Progress => {row[1]}%\")\n",
    "\n",
    "  commit_and_close()\n",
    "\n",
    "def add_skill():\n",
    "\n",
    "  sk = input(\"Write Skill Name: \").strip().capitalize()\n",
    "\n",
    "  cr.execute(f\"select name from skills where name = '{sk}' and user_id = '{uid}'\")\n",
    "\n",
    "  results = cr.fetchone()\n",
    "\n",
    "  if results == None:  # Theres No Skill With This Name In Database\n",
    "\n",
    "    prog = input(\"Write Skill Progress \").strip()\n",
    "\n",
    "    cr.execute(f\"insert into skills(name, progress, user_id) values('{sk}', '{prog}', '{uid}')\")\n",
    "\n",
    "  else:  # Theres A Skill With This Name in Database\n",
    "\n",
    "    print(\"You Cannot Add It\")\n",
    "\n",
    "  commit_and_close()\n",
    "\n",
    "def delete_skill():\n",
    "\n",
    "  sk = input(\"Write Skill Name: \").strip().capitalize()\n",
    "\n",
    "  cr.execute(f\"delete from skills where name = '{sk}' and user_id = '{uid}'\")\n",
    "\n",
    "  commit_and_close()\n",
    "\n",
    "def update_skill():\n",
    "\n",
    "  sk = input(\"Write Skill Name: \").strip().capitalize()\n",
    "\n",
    "  prog = input(\"Write The New Skill Progress \").strip()\n",
    "\n",
    "  cr.execute(f\"update skills set progress = '{prog}' where name = '{sk}' and user_id = '{uid}'\")\n",
    "\n",
    "  commit_and_close()\n",
    "\n",
    "# Check If Command Is Exists\n",
    "if user_input in commands_list:\n",
    "\n",
    "  # print(f\"Command Found {user_input}\")\n",
    "\n",
    "  if user_input == \"s\":\n",
    "\n",
    "    show_skills()\n",
    "\n",
    "  elif user_input == \"a\":\n",
    "\n",
    "    add_skill()\n",
    "\n",
    "  elif user_input == \"d\":\n",
    "\n",
    "    delete_skill()\n",
    "\n",
    "  elif user_input == \"u\":\n",
    "\n",
    "    update_skill()\n",
    "\n",
    "  else:\n",
    "\n",
    "    print(\"App Is Closed.\")\n",
    "\n",
    "    commit_and_close()\n",
    "\n",
    "else:\n",
    "\n",
    "  print(f\"Sorry This Command \\\"{user_input}\\\" Is Not Found\")"
   ]
  },
  {
   "cell_type": "markdown",
   "metadata": {},
   "source": [
    "- <span style=\"color:salmon\">  SQLite Very Important Information </span>"
   ]
  },
  {
   "cell_type": "code",
   "execution_count": 13,
   "metadata": {},
   "outputs": [
    {
     "name": "stdout",
     "output_type": "stream",
     "text": [
      "Skill Name => Pascal, Skill Progress => 65, User ID => 4\n"
     ]
    }
   ],
   "source": [
    "# Import SQLite Module\n",
    "import sqlite3\n",
    "\n",
    "# Create Database And Connect\n",
    "db = sqlite3.connect(\"app.db\")\n",
    "\n",
    "# Setting Up The Cursor\n",
    "cr = db.cursor()\n",
    "\n",
    "my_tuple = ('Pascal', '65', 4)\n",
    "\n",
    "# Inserting Data\n",
    "cr.execute(\"insert into skills values(?, ?, ?)\", my_tuple)\n",
    "\n",
    "# Fetch Data From Database\n",
    "cr.execute(\"select * from skills order by name limit 3 offset 2\")\n",
    "# cr.execute(\"select * from skills where user_id > 1\")\n",
    "cr.execute(\"select * from skills where user_id not in(1, 2, 3)\")\n",
    "\n",
    "# Assign Data To Variable\n",
    "results = cr.fetchall()\n",
    "\n",
    "# Loop On Results\n",
    "for row in results:\n",
    "\n",
    "  print(f\"Skill Name => {row[0]},\", end=\" \")\n",
    "  print(f\"Skill Progress => {row[1]},\", end=\" \")\n",
    "  print(f\"User ID => {row[2]}\")\n",
    "\n",
    "# Save (Commit) Changes\n",
    "db.commit()\n",
    "\n",
    "# Close Database\n",
    "db.close()"
   ]
  },
  {
   "cell_type": "markdown",
   "metadata": {},
   "source": [
    " # <span style=\"color:skyblue\">[40]  Advanced Lessons </span>"
   ]
  },
  {
   "cell_type": "markdown",
   "metadata": {},
   "source": [
    " <span style=\"color:salmon\">  \n",
    "\n",
    "- __name__ And “__main__ \n",
    " -------------------------------------------------\n",
    "- if __name__ == \"__main__\":\n",
    "- - __name__ => Built In Variable\n",
    "- - \"__main__\" => Value Of The __name__ Variable\n",
    "- Executions Methods\n",
    "- - Directly => Execute the Python File Using the Command Line.\n",
    "- - From Import => Import The Code From File To Another File\n",
    " -------------------------------------------------------------\n",
    "- In Some Cases You Want To Know If You Are Using A Module Method As Import\n",
    "- Or You Use The Original Python File\n",
    " -------------------------------------------------------------------------\n",
    "- In Direct Mode Python Assign A Value \"__main__\"\n",
    "- To The Built In Variable __name__ in The Background\n",
    " ---------------------------------------------------\n",
    "</span>"
   ]
  },
  {
   "cell_type": "code",
   "execution_count": 14,
   "metadata": {},
   "outputs": [
    {
     "name": "stdout",
     "output_type": "stream",
     "text": [
      "__main__\n"
     ]
    }
   ],
   "source": [
    "print(__name__)"
   ]
  },
  {
   "cell_type": "markdown",
   "metadata": {},
   "source": [
    " <span style=\"color:salmon\"> \n",
    "\n",
    "- Timing Your Code With Timeit \n",
    " ------------------------------------------------------\n",
    "- - timeit: - Get Execution Time Of Code By Running 1M Time And Give You Minimal Time\n",
    "- -         - It Used For Performance By Testing All Functionality\n",
    "- - timeit(stmt, setup, timer, number)\n",
    "- - timeit(pass, pass, default, 1.000.000) Default Values\n",
    " -------------------------------------------------------\n",
    "- - stmt: Code You Want To Measure The Execution Time\n",
    "- - setup: Setup Done Before The Code Execution (Import Module Or Anything)\n",
    "- - timer: The Timer Value\n",
    "- - number: How Many Execution That Will Run\n",
    " -------------------------------------------------------\n",
    "</span>"
   ]
  },
  {
   "cell_type": "code",
   "execution_count": 23,
   "metadata": {},
   "outputs": [
    {
     "name": "stdout",
     "output_type": "stream",
     "text": [
      "['Timer', '__all__', '__builtins__', '__cached__', '__doc__', '__file__', '__loader__', '__name__', '__package__', '__spec__', '_globals', 'default_number', 'default_repeat', 'default_timer', 'dummy_src_name', 'gc', 'itertools', 'main', 'reindent', 'repeat', 'sys', 'template', 'time', 'timeit']\n"
     ]
    },
    {
     "name": "stdout",
     "output_type": "stream",
     "text": [
      "0.4677009000442922\n",
      "ElzeroElzeroElzeroElzeroElzeroElzeroElzeroElzeroElzeroElzeroElzeroElzeroElzeroElzeroElzeroElzeroElzeroElzeroElzeroElzeroElzeroElzeroElzeroElzeroElzeroElzeroElzeroElzeroElzeroElzeroElzeroElzeroElzeroElzeroElzeroElzeroElzeroElzeroElzeroElzeroElzeroElzeroElzeroElzeroElzeroElzeroElzeroElzeroElzeroElzeroElzeroElzeroElzeroElzeroElzeroElzeroElzeroElzeroElzeroElzeroElzeroElzeroElzeroElzeroElzeroElzeroElzeroElzeroElzeroElzeroElzeroElzeroElzeroElzeroElzeroElzeroElzeroElzeroElzeroElzeroElzeroElzeroElzeroElzeroElzeroElzeroElzeroElzeroElzeroElzeroElzeroElzeroElzeroElzeroElzeroElzeroElzeroElzeroElzeroElzeroElzeroElzeroElzeroElzeroElzeroElzeroElzeroElzeroElzeroElzeroElzeroElzeroElzeroElzeroElzeroElzeroElzeroElzeroElzeroElzeroElzeroElzeroElzeroElzeroElzeroElzeroElzeroElzeroElzeroElzeroElzeroElzeroElzeroElzeroElzeroElzeroElzeroElzeroElzeroElzeroElzeroElzeroElzeroElzeroElzeroElzeroElzeroElzeroElzeroElzeroElzeroElzeroElzeroElzeroElzeroElzeroElzeroElzeroElzeroElzeroElzeroElzeroElzeroElzeroElzeroElzeroElzeroElzeroElzeroElzeroElzeroElzeroElzeroElzeroElzeroElzeroElzeroElzeroElzeroElzeroElzeroElzeroElzeroElzeroElzeroElzeroElzeroElzeroElzeroElzeroElzeroElzeroElzeroElzeroElzeroElzeroElzeroElzeroElzeroElzeroElzeroElzeroElzeroElzeroElzeroElzeroElzeroElzeroElzeroElzeroElzeroElzeroElzeroElzeroElzeroElzeroElzeroElzeroElzeroElzeroElzeroElzeroElzeroElzeroElzeroElzeroElzeroElzeroElzeroElzeroElzeroElzeroElzeroElzeroElzeroElzeroElzeroElzeroElzeroElzeroElzeroElzeroElzeroElzeroElzeroElzeroElzeroElzeroElzeroElzeroElzeroElzeroElzeroElzeroElzeroElzeroElzeroElzeroElzeroElzeroElzeroElzeroElzeroElzeroElzeroElzeroElzeroElzeroElzeroElzeroElzeroElzeroElzeroElzeroElzeroElzeroElzeroElzeroElzeroElzeroElzeroElzeroElzeroElzeroElzeroElzeroElzeroElzeroElzeroElzeroElzeroElzeroElzeroElzeroElzeroElzeroElzeroElzeroElzeroElzeroElzeroElzeroElzeroElzeroElzeroElzeroElzeroElzeroElzeroElzeroElzeroElzeroElzeroElzeroElzeroElzeroElzeroElzeroElzeroElzeroElzeroElzeroElzeroElzeroElzeroElzeroElzeroElzeroElzeroElzeroElzeroElzeroElzeroElzeroElzeroElzeroElzeroElzeroElzeroElzeroElzeroElzeroElzeroElzeroElzeroElzeroElzeroElzeroElzeroElzeroElzeroElzeroElzeroElzeroElzeroElzeroElzeroElzeroElzeroElzeroElzeroElzeroElzeroElzeroElzeroElzeroElzeroElzeroElzeroElzeroElzeroElzeroElzeroElzeroElzeroElzeroElzeroElzeroElzeroElzeroElzeroElzeroElzeroElzeroElzeroElzeroElzeroElzeroElzeroElzeroElzeroElzeroElzeroElzeroElzeroElzeroElzeroElzeroElzeroElzeroElzeroElzeroElzeroElzeroElzeroElzeroElzeroElzeroElzeroElzeroElzeroElzeroElzeroElzeroElzeroElzeroElzeroElzeroElzeroElzeroElzeroElzeroElzeroElzeroElzeroElzeroElzeroElzeroElzeroElzeroElzeroElzeroElzeroElzeroElzeroElzeroElzeroElzeroElzeroElzeroElzeroElzeroElzeroElzeroElzeroElzeroElzeroElzeroElzeroElzeroElzeroElzeroElzeroElzeroElzeroElzeroElzeroElzeroElzeroElzeroElzeroElzeroElzeroElzeroElzeroElzeroElzeroElzeroElzeroElzeroElzeroElzeroElzeroElzeroElzeroElzeroElzeroElzeroElzeroElzeroElzeroElzeroElzeroElzeroElzeroElzeroElzeroElzeroElzeroElzeroElzeroElzeroElzeroElzeroElzeroElzeroElzeroElzeroElzeroElzeroElzeroElzeroElzeroElzeroElzeroElzeroElzeroElzeroElzeroElzeroElzeroElzeroElzeroElzeroElzeroElzeroElzeroElzeroElzeroElzeroElzeroElzeroElzeroElzeroElzeroElzeroElzeroElzeroElzeroElzeroElzeroElzeroElzeroElzeroElzeroElzeroElzeroElzeroElzeroElzeroElzeroElzeroElzeroElzeroElzeroElzeroElzeroElzeroElzeroElzeroElzeroElzeroElzeroElzeroElzeroElzeroElzeroElzeroElzeroElzeroElzeroElzeroElzeroElzeroElzeroElzeroElzeroElzeroElzeroElzeroElzeroElzeroElzeroElzeroElzeroElzeroElzeroElzeroElzeroElzeroElzeroElzeroElzeroElzeroElzeroElzeroElzeroElzeroElzeroElzeroElzeroElzeroElzeroElzeroElzeroElzeroElzeroElzeroElzeroElzeroElzeroElzeroElzeroElzeroElzeroElzeroElzeroElzeroElzeroElzeroElzeroElzeroElzeroElzeroElzeroElzeroElzeroElzeroElzeroElzeroElzeroElzeroElzeroElzeroElzeroElzeroElzeroElzeroElzeroElzeroElzeroElzeroElzeroElzeroElzeroElzeroElzeroElzeroElzeroElzeroElzeroElzeroElzeroElzeroElzeroElzeroElzeroElzeroElzeroElzeroElzeroElzeroElzeroElzeroElzeroElzeroElzeroElzeroElzeroElzeroElzeroElzeroElzeroElzeroElzeroElzeroElzeroElzeroElzeroElzeroElzeroElzeroElzeroElzeroElzeroElzeroElzeroElzeroElzeroElzeroElzeroElzeroElzeroElzeroElzeroElzeroElzeroElzeroElzeroElzeroElzeroElzeroElzeroElzeroElzeroElzeroElzeroElzeroElzeroElzeroElzeroElzeroElzeroElzeroElzeroElzeroElzeroElzeroElzeroElzeroElzeroElzeroElzeroElzeroElzeroElzeroElzeroElzeroElzeroElzeroElzeroElzeroElzeroElzeroElzeroElzeroElzeroElzeroElzeroElzeroElzeroElzeroElzeroElzeroElzeroElzeroElzeroElzeroElzeroElzeroElzeroElzeroElzeroElzeroElzeroElzeroElzeroElzeroElzeroElzeroElzeroElzeroElzeroElzeroElzeroElzeroElzeroElzeroElzeroElzeroElzeroElzeroElzeroElzeroElzeroElzeroElzeroElzeroElzeroElzeroElzeroElzeroElzeroElzeroElzeroElzeroElzeroElzeroElzeroElzeroElzeroElzeroElzeroElzeroElzeroElzeroElzeroElzeroElzeroElzeroElzeroElzeroElzeroElzeroElzeroElzeroElzeroElzeroElzeroElzeroElzeroElzeroElzeroElzeroElzeroElzeroElzeroElzeroElzeroElzeroElzeroElzeroElzeroElzeroElzeroElzeroElzeroElzeroElzeroElzeroElzeroElzeroElzeroElzeroElzeroElzeroElzeroElzeroElzeroElzeroElzeroElzeroElzeroElzeroElzeroElzeroElzeroElzeroElzeroElzeroElzeroElzeroElzeroElzeroElzeroElzeroElzeroElzeroElzeroElzeroElzeroElzeroElzeroElzeroElzeroElzeroElzeroElzeroElzeroElzeroElzeroElzeroElzeroElzeroElzeroElzeroElzeroElzeroElzeroElzeroElzeroElzeroElzeroElzeroElzeroElzeroElzeroElzeroElzeroElzeroElzeroElzeroElzeroElzeroElzeroElzeroElzeroElzeroElzeroElzeroElzeroElzeroElzeroElzeroElzeroElzeroElzeroElzeroElzeroElzeroElzeroElzeroElzeroElzeroElzeroElzeroElzeroElzeroElzeroElzeroElzeroElzeroElzeroElzeroElzeroElzeroElzeroElzeroElzeroElzeroElzeroElzeroElzeroElzeroElzeroElzeroElzeroElzeroElzeroElzeroElzeroElzeroElzeroElzeroElzeroElzeroElzeroElzeroElzeroElzeroElzeroElzeroElzeroElzeroElzeroElzeroElzeroElzeroElzeroElzeroElzeroElzeroElzeroElzeroElzeroElzeroElzeroElzeroElzeroElzeroElzeroElzeroElzeroElzeroElzeroElzeroElzeroElzeroElzeroElzeroElzeroElzeroElzeroElzeroElzeroElzeroElzeroElzeroElzeroElzeroElzeroElzeroElzeroElzeroElzeroElzeroElzeroElzeroElzeroElzeroElzeroElzeroElzeroElzeroElzeroElzeroElzeroElzeroElzeroElzero\n",
      "0.4793718997389078\n",
      "0.8269038000144064\n",
      "[0.7943182000890374, 0.7774471999146044, 0.7641078000888228, 0.7657918999902904]\n"
     ]
    }
   ],
   "source": [
    "import timeit\n",
    "\n",
    "print(dir(timeit))\n",
    "\n",
    "print(timeit.timeit(\"'Elzero' * 1000\"))\n",
    "\n",
    "name = \"Elzero\"\n",
    "\n",
    "print(name * 1000)\n",
    "\n",
    "print(timeit.timeit(\"name = 'Elzero'; name * 1000\"))\n",
    "\n",
    "# print(random.randint(0, 50))\n",
    "\n",
    "print(timeit.timeit(stmt=\"random.randint(0, 50)\", setup=\"import random\"))\n",
    "\n",
    "print(timeit.repeat(stmt=\"random.randint(0, 50)\", setup=\"import random\", repeat=4))"
   ]
  },
  {
   "cell_type": "markdown",
   "metadata": {},
   "source": [
    "<span style=\"color:salmon\">  \n",
    "\n",
    "- Add Logging To Your Code \n",
    "--------------------------------------------------\n",
    "- - Print Out To Console Or File\n",
    "- - Print Logs Of What Happens\n",
    " ------------------------------\n",
    "- - DEBUG\n",
    "- - INFO\n",
    "- - WARNING\n",
    "- - ERROR\n",
    "- - CRITICAL\n",
    " ----------\n",
    "- name => Logging Module Give It To The Default Logger.\n",
    " -----------------------------------------------------\n",
    "- Basic Config\n",
    "- - level => Level of Severity\n",
    "- - filename => File Name and Extension\n",
    "- - mode => Mode Of The File a => Append\n",
    "- - format => Format For The Log Message\n",
    " ------------------------\n",
    "- getLogger => Return a Logger With the Specified Name\n",
    "</span>"
   ]
  },
  {
   "cell_type": "code",
   "execution_count": 20,
   "metadata": {},
   "outputs": [],
   "source": [
    "import logging\n",
    "\n",
    "# print(dir(logging))\n",
    "\n",
    "logging.basicConfig(filename=\"my_app.log\",\n",
    "                    filemode=\"a\",\n",
    "                    format=\"(%(asctime)s) | %(name)s | %(levelname)s => '%(message)s'\",\n",
    "                    datefmt=\"%d - %B - %Y, %H:%M:%S\")\n",
    "\n",
    "my_logger = logging.getLogger(\"Elzero\")\n",
    "\n",
    "my_logger.warning(\"This Is Warning Message\")"
   ]
  },
  {
   "cell_type": "markdown",
   "metadata": {},
   "source": [
    "<span style=\"color:salmon\"> \n",
    "\n",
    "- Unit Testing With Unittest\n",
    " ----------------------------------------------------\n",
    "- Test Runner\n",
    "- - The Module That Run The Unit Testing (unittest, pytest)\n",
    " ---------------------------------------------------------\n",
    "- Test Case\n",
    "- - Smallest Unit Of Testing\n",
    "- - It Use Asserts Methods To Check For Actions And Responses\n",
    "- Test Suite\n",
    "- - Collection Of Multiple Tests Or Test Cases\n",
    "- Test Report\n",
    "- - A Full Report Contains The Failure Or Succeed\n",
    " -------------------------------------------------------\n",
    "- unittest\n",
    "- - Add Tests Into Classes As Methods\n",
    "- - Use a Series of Special Assertion Methods\n",
    "- https://docs.python.org/3/library/unittest.html\n",
    " -----------------------------------------------\n",
    " </span>"
   ]
  },
  {
   "cell_type": "code",
   "execution_count": 35,
   "metadata": {},
   "outputs": [
    {
     "name": "stdout",
     "output_type": "stream",
     "text": [
      "All Tests Passed\n"
     ]
    }
   ],
   "source": [
    "import unittest\n",
    "\n",
    "assert 3 * 8 == 24, \"Should Be 24\"\n",
    "\n",
    "def test_case_one():\n",
    "\n",
    "  assert 5 * 10 == 50, \"Should Be 50\"\n",
    "\n",
    "def test_case_two():\n",
    "\n",
    "  assert 5 * 50 == 250, \"Should Be 250\"\n",
    "\n",
    "if __name__ == \"__main__\":\n",
    "\n",
    "  test_case_one()\n",
    "  test_case_two()\n",
    "\n",
    "  print(\"All Tests Passed\")\n",
    "\n",
    "\n",
    "#class TestCase(unittest.TestCase):\n",
    "\n",
    "#  def test_one(self):\n",
    "\n",
    "#    self.assertTrue(100 > 99, \"Should Be True\")\n",
    "\n",
    "#  def test_two(self):\n",
    "\n",
    "#    self.assertEqual(40 + 60, 100, \"Should Be 100\")\n",
    "\n",
    "#  def test_three(self):\n",
    "\n",
    "#    self.assertGreater(100, 10, \"Should Be True\")\n",
    "\n",
    "#if __name__ == \"__main__\":\n",
    "\n",
    "#  unittest.main()"
   ]
  },
  {
   "cell_type": "markdown",
   "metadata": {},
   "source": [
    "- <span style=\"color:salmon\">  Generate Random Serial Numbers </span>"
   ]
  },
  {
   "cell_type": "code",
   "execution_count": 39,
   "metadata": {},
   "outputs": [
    {
     "name": "stdout",
     "output_type": "stream",
     "text": [
      "0123456789\n",
      "abcdefghijklmnopqrstuvwxyzABCDEFGHIJKLMNOPQRSTUVWXYZ\n",
      "abcdefghijklmnopqrstuvwxyz\n",
      "ABCDEFGHIJKLMNOPQRSTUVWXYZ\n",
      "==================================================\n",
      "NKvMo8tMnp\n"
     ]
    }
   ],
   "source": [
    "import string\n",
    "import random\n",
    "\n",
    "print(string.digits)\n",
    "print(string.ascii_letters)\n",
    "print(string.ascii_lowercase)\n",
    "print(string.ascii_uppercase)\n",
    "\n",
    "print(\"=\" * 50)\n",
    "\n",
    "def make_serial(count):\n",
    "\n",
    "  all_chars = string.ascii_letters + string.digits\n",
    "  # print(all_chars)\n",
    "\n",
    "  chars_count = len(all_chars)\n",
    "  # print(chars_count)\n",
    "\n",
    "  serial_list = []\n",
    "\n",
    "  while count > 0:\n",
    "\n",
    "    random_number = random.randint(0, chars_count - 1)\n",
    "\n",
    "    random_character = all_chars[random_number]\n",
    "\n",
    "    serial_list.append(random_character)\n",
    "\n",
    "    count -= 1  # count = count - 1\n",
    "\n",
    "  print(\"\".join(serial_list))\n",
    "\n",
    "make_serial(10)\n"
   ]
  },
  {
   "cell_type": "markdown",
   "metadata": {},
   "source": [
    " # <span style=\"color:skyblue\">[41]  Flask  </span>"
   ]
  },
  {
   "cell_type": "markdown",
   "metadata": {},
   "source": [
    " <span style=\"color:salmon\">  \n",
    "\n",
    "- Flask Is Micro Framework Built With Python\n",
    " --------------------------------------------\n",
    "- - HTML\n",
    "- - CSS\n",
    "- - JavaScript\n",
    " --------------------------------------------\n",
    "</span>"
   ]
  },
  {
   "cell_type": "markdown",
   "metadata": {},
   "source": [
    "- <span style=\"color:salmon\">  skills_app link => http://127.0.0.1:5000/skills </span>"
   ]
  },
  {
   "cell_type": "code",
   "execution_count": 1,
   "metadata": {},
   "outputs": [
    {
     "data": {
      "text/plain": [
       "'\\nfrom flask import Flask\\n\\nskills_app = Flask(__name__)\\n\\n@skills_app.route(\"/\")\\ndef homepage():\\n  return \"Hello From Flask Framework\"\\n\\n@skills_app.route(\"/about\")\\ndef about():\\n  return \"About Page From Flask Framework\"\\n\\nif __name__ == \"__main__\":\\n  skills_app.run(debug=True, port=9000)\\n\\n'"
      ]
     },
     "execution_count": 1,
     "metadata": {},
     "output_type": "execute_result"
    }
   ],
   "source": [
    "\"\"\"\n",
    "from flask import Flask\n",
    "\n",
    "skills_app = Flask(__name__)\n",
    "\n",
    "@skills_app.route(\"/\")\n",
    "def homepage():\n",
    "  return \"Hello From Flask Framework\"\n",
    "\n",
    "@skills_app.route(\"/about\")\n",
    "def about():\n",
    "  return \"About Page From Flask Framework\"\n",
    "\n",
    "if __name__ == \"__main__\":\n",
    "  skills_app.run(debug=True, port=9000)\n",
    "\n",
    "\"\"\"  "
   ]
  },
  {
   "cell_type": "markdown",
   "metadata": {},
   "source": [
    "- <span style=\"color:salmon\">  Create HTML Files</span>"
   ]
  },
  {
   "cell_type": "code",
   "execution_count": 3,
   "metadata": {},
   "outputs": [
    {
     "data": {
      "text/plain": [
       "'\"\\n<!DOCTYPE html>\\n  <html lang=\"en\">\\n  <head>\\n    <meta charset=\"UTF-8\">\\n    <title>{{ pagetitle }}</title>\\n  </head>\\n  <body>\\n    Hello From About Page\\n  </body>\\n</html>\\n\\n'"
      ]
     },
     "execution_count": 3,
     "metadata": {},
     "output_type": "execute_result"
    }
   ],
   "source": [
    "\"\"\"\n",
    "\n",
    " from flask import Flask, render_template\n",
    "\n",
    "skills_app = Flask(__name__)\n",
    "\n",
    "@skills_app.route(\"/\")\n",
    "def homepage():\n",
    "  return render_template(\"homepage.html\", pagetitle=\"Homepage\")\n",
    "\n",
    "@skills_app.route(\"/about\")\n",
    "def about():\n",
    "  return render_template(\"about.html\", pagetitle=\"About Us\")\n",
    "\n",
    "if __name__ == \"__main__\":\n",
    "  skills_app.run(debug=True, port=9000)\n",
    "\n",
    "\"\"\"\n",
    "\n",
    "# homepage.html\n",
    "\n",
    "\"\"\"\n",
    "<!DOCTYPE html>\n",
    "  <html lang=\"en\">\n",
    "  <head>\n",
    "    <meta charset=\"UTF-8\">\n",
    "    <title>{{ pagetitle }}</title>\n",
    "  </head>\n",
    "  <body>\n",
    "    Hello From Home Page\n",
    "  </body>\n",
    "</html>\n",
    "\n",
    "\"\"\"\n",
    "\n",
    "# about.html\n",
    "\"\"\"\"\n",
    "<!DOCTYPE html>\n",
    "  <html lang=\"en\">\n",
    "  <head>\n",
    "    <meta charset=\"UTF-8\">\n",
    "    <title>{{ pagetitle }}</title>\n",
    "  </head>\n",
    "  <body>\n",
    "    Hello From About Page\n",
    "  </body>\n",
    "</html>\n",
    "\n",
    "\"\"\""
   ]
  },
  {
   "cell_type": "markdown",
   "metadata": {},
   "source": [
    "- <span style=\"color:salmon\"> Create & Extends Html Templates   </span>"
   ]
  },
  {
   "cell_type": "code",
   "execution_count": 4,
   "metadata": {},
   "outputs": [
    {
     "data": {
      "text/plain": [
       "\"\\n\\n{% extends 'base.html' %}\\n{% block body %}\\nHello From About Html File\\n{% endblock %}\\n\\n\""
      ]
     },
     "execution_count": 4,
     "metadata": {},
     "output_type": "execute_result"
    }
   ],
   "source": [
    "\"\"\"\n",
    "\n",
    "from flask import Flask, render_template\n",
    "\n",
    "skills_app = Flask(__name__)\n",
    "\n",
    "@skills_app.route(\"/\")\n",
    "def homepage():\n",
    "  return render_template(\"homepage.html\", pagetitle=\"Homepage\", cssfile=\"home\")\n",
    "\n",
    "@skills_app.route(\"/about\")\n",
    "def about():\n",
    "  return render_template(\"about.html\", pagetitle=\"About Us\")\n",
    "\n",
    "if __name__ == \"__main__\":\n",
    "  skills_app.run(debug=True, port=9000)\n",
    "\n",
    "\"\"\"\n",
    "\n",
    "# base.html\n",
    "\n",
    "\"\"\"\n",
    "\n",
    "<!DOCTYPE html>\n",
    "<html lang=\"en\">\n",
    "  <head>\n",
    "    <meta charset=\"UTF-8\" />\n",
    "    <title>{{ pagetitle }}</title>\n",
    "    <link rel=\"stylesheet\" href=\"css/main.css\" />\n",
    "    <link rel=\"stylesheet\" href=\"css/master.css\" />\n",
    "  </head>\n",
    "  <body>\n",
    "    {% block body %}\n",
    "    {% endblock %}\n",
    "  </body>\n",
    "</html>\n",
    "\n",
    "\"\"\"\n",
    "\n",
    "# homepage.html\n",
    "\n",
    "\"\"\"\n",
    "\n",
    "{% extends 'base.html' %}\n",
    "{% block body %}\n",
    "Hello From Homepage Html File\n",
    "{% endblock %}\n",
    "\n",
    "\"\"\"\n",
    "\n",
    "# about.html\n",
    "\n",
    "\"\"\"\n",
    "\n",
    "{% extends 'base.html' %}\n",
    "{% block body %}\n",
    "Hello From About Html File\n",
    "{% endblock %}\n",
    "\n",
    "\"\"\""
   ]
  },
  {
   "cell_type": "markdown",
   "metadata": {},
   "source": [
    "- <span style=\"color:salmon\">  Jinja Template Engine </span>"
   ]
  },
  {
   "cell_type": "code",
   "execution_count": 5,
   "metadata": {},
   "outputs": [
    {
     "data": {
      "text/plain": [
       "'\\n\\n<!DOCTYPE html>\\n<html lang=\"en\">\\n  <head>\\n    <meta charset=\"UTF-8\" />\\n    <title>{{ title }}</title>\\n    <link rel=\"stylesheet\" href=\"{{ url_for(\\'static\\', filename=\\'css/main.css\\') }}\" />\\n    <link rel=\"stylesheet\" href=\"{{ url_for(\\'static\\', filename=\\'css/master.css\\') }}\" />\\n  </head>\\n  <body>\\n    {% block body %}\\n    {% endblock %}\\n  </body>\\n</html>\\n\\n'"
      ]
     },
     "execution_count": 5,
     "metadata": {},
     "output_type": "execute_result"
    }
   ],
   "source": [
    "\"\"\"\n",
    "\n",
    "from flask import Flask, render_template\n",
    "\n",
    "skills_app = Flask(__name__)\n",
    "\n",
    "@skills_app.route(\"/\")\n",
    "def homepage():\n",
    "  return render_template(\"homepage.html\", title=\"Homepage\")\n",
    "\n",
    "@skills_app.route(\"/about\")\n",
    "def about():\n",
    "  return render_template(\"about.html\", title=\"About Us\")\n",
    "\n",
    "if __name__ == \"__main__\":\n",
    "  skills_app.run(debug=True, port=9000)\n",
    "\n",
    "\"\"\"\n",
    "\n",
    "# base.html\n",
    "\n",
    "\"\"\"\n",
    "\n",
    "<!DOCTYPE html>\n",
    "<html lang=\"en\">\n",
    "  <head>\n",
    "    <meta charset=\"UTF-8\" />\n",
    "    <title>{{ title }}</title>\n",
    "    <link rel=\"stylesheet\" href=\"{{ url_for('static', filename='css/main.css') }}\" />\n",
    "    <link rel=\"stylesheet\" href=\"{{ url_for('static', filename='css/master.css') }}\" />\n",
    "  </head>\n",
    "  <body>\n",
    "    {% block body %}\n",
    "    {% endblock %}\n",
    "  </body>\n",
    "</html>\n",
    "\n",
    "\"\"\""
   ]
  },
  {
   "cell_type": "markdown",
   "metadata": {},
   "source": [
    "- <span style=\"color:salmon\">  Advanced Css Task Using Jinja </span>"
   ]
  },
  {
   "cell_type": "code",
   "execution_count": 6,
   "metadata": {},
   "outputs": [
    {
     "data": {
      "text/plain": [
       "'\\n<!DOCTYPE html>\\n<html lang=\"en\">\\n  <head>\\n    <meta charset=\"UTF-8\" />\\n    <title>{{ title }}</title>\\n    <link rel=\"stylesheet\" href=\"{{ url_for(\\'static\\', filename=\\'css/main.css\\') }}\" />\\n    <link rel=\"stylesheet\" href=\"{{ url_for(\\'static\\', filename=\\'css/master.css\\') }}\" />\\n    {% if custom_css %}\\n    <link rel=\"stylesheet\" href=\"{{ url_for(\\'static\\', filename=\\'css/\\' + custom_css + \\'.css\\') }}\" />\\n    {% endif %}\\n  </head>\\n  <body>\\n    {% block body %}\\n    {% endblock %}\\n  </body>\\n</html>\\n\\n'"
      ]
     },
     "execution_count": 6,
     "metadata": {},
     "output_type": "execute_result"
    }
   ],
   "source": [
    "\"\"\"\n",
    "\n",
    "from flask import Flask, render_template\n",
    "\n",
    "skills_app = Flask(__name__)\n",
    "\n",
    "@skills_app.route(\"/\")\n",
    "def homepage():\n",
    "  return render_template(\"homepage.html\",\n",
    "                          title=\"Homepage\",\n",
    "                          custom_css=\"home\")\n",
    "@skills_app.route(\"/add\")\n",
    "def add():\n",
    "  return render_template(\"add.html\",\n",
    "                          title=\"Add Skill\",\n",
    "                          custom_css=\"add\")\n",
    "\n",
    "@skills_app.route(\"/about\")\n",
    "def about():\n",
    "  return render_template(\"about.html\", title=\"About Us\")\n",
    "\n",
    "if __name__ == \"__main__\":\n",
    "  skills_app.run(debug=True, port=9000)\n",
    "\n",
    "  \"\"\"\n",
    "\n",
    "# base.html\n",
    "\n",
    "\"\"\"\n",
    "<!DOCTYPE html>\n",
    "<html lang=\"en\">\n",
    "  <head>\n",
    "    <meta charset=\"UTF-8\" />\n",
    "    <title>{{ title }}</title>\n",
    "    <link rel=\"stylesheet\" href=\"{{ url_for('static', filename='css/main.css') }}\" />\n",
    "    <link rel=\"stylesheet\" href=\"{{ url_for('static', filename='css/master.css') }}\" />\n",
    "    {% if custom_css %}\n",
    "    <link rel=\"stylesheet\" href=\"{{ url_for('static', filename='css/' + custom_css + '.css') }}\" />\n",
    "    {% endif %}\n",
    "  </head>\n",
    "  <body>\n",
    "    {% block body %}\n",
    "    {% endblock %}\n",
    "  </body>\n",
    "</html>\n",
    "\n",
    "\"\"\""
   ]
  },
  {
   "cell_type": "markdown",
   "metadata": {},
   "source": [
    "- <span style=\"color:salmon\">  Skills Page Using List Data </span>"
   ]
  },
  {
   "cell_type": "code",
   "execution_count": 7,
   "metadata": {},
   "outputs": [
    {
     "data": {
      "text/plain": [
       "'\\n{% extends \\'base.html\\' %}\\n{% block body %}\\n<h1 class=\"page-head\">{{ page_head }}</h1>\\n<p class=\"page-description\">{{ description }}</p>\\n\\n{% for skill in skills %}\\n<div>\\n  {{ skill[0] }} | {{ skill[1] }}\\n</div>\\n{% endfor %}\\n\\n{% endblock %}\\n\\n'"
      ]
     },
     "execution_count": 7,
     "metadata": {},
     "output_type": "execute_result"
    }
   ],
   "source": [
    "\"\"\"\n",
    "from flask import Flask, render_template\n",
    "\n",
    "skills_app = Flask(__name__)\n",
    "\n",
    "my_skills = [(\"Html\", 80), (\"CSS\", 75), (\"Python\", 95)]\n",
    "\n",
    "@skills_app.route(\"/\")\n",
    "def homepage():\n",
    "  return render_template(\"homepage.html\",\n",
    "                          title=\"Homepage\",\n",
    "                          custom_css=\"home\")\n",
    "\n",
    "@skills_app.route(\"/add\")\n",
    "def add():\n",
    "  return render_template(\"add.html\",\n",
    "                          title=\"Add Skill\",\n",
    "                          custom_css=\"add\")\n",
    "\n",
    "@skills_app.route(\"/about\")\n",
    "def about():\n",
    "  return render_template(\"about.html\", title=\"About Us\")\n",
    "\n",
    "@skills_app.route(\"/skills\")\n",
    "def skills():\n",
    "  return render_template(\"skills.html\",\n",
    "                          title=\"My Skills\",\n",
    "                          page_head=\"My Skills\",\n",
    "                          description=\"This Is My Skills Page\",\n",
    "                          skills=my_skills)\n",
    "\n",
    "if __name__ == \"__main__\":\n",
    "  skills_app.run(debug=True, port=9000)\n",
    "\n",
    "  \"\"\"\n",
    "\n",
    "# skills.html\n",
    "\n",
    "\"\"\"\n",
    "{% extends 'base.html' %}\n",
    "{% block body %}\n",
    "<h1 class=\"page-head\">{{ page_head }}</h1>\n",
    "<p class=\"page-description\">{{ description }}</p>\n",
    "\n",
    "{% for skill in skills %}\n",
    "<div>\n",
    "  {{ skill[0] }} | {{ skill[1] }}\n",
    "</div>\n",
    "{% endfor %}\n",
    "\n",
    "{% endblock %}\n",
    "\n",
    "\"\"\""
   ]
  },
  {
   "cell_type": "markdown",
   "metadata": {},
   "source": [
    "- <span style=\"color:salmon\">  Customizing App With Css </span>"
   ]
  },
  {
   "cell_type": "code",
   "execution_count": 8,
   "metadata": {},
   "outputs": [
    {
     "data": {
      "text/plain": [
       "'\\n\\n.skill-box {\\n  background-color: #FFF;\\n  padding: 20px;\\n  margin: 20px auto;\\n  border: 1px solid #CCC;\\n  width: 450px;\\n}\\n.skill-box .skill-name {\\n  text-align: center;\\n  margin-bottom: 15px;\\n  font-size: 20px;\\n  font-weight: bold;\\n}\\n.skill-box .skill-progress {\\n  background-color: #F7F7F7;\\n  padding: 10px;\\n  position: relative;\\n}\\n.skill-box .skill-progress span {\\n  position: absolute;\\n  left: 0;\\n  top: 0;\\n  width: 0;\\n  height: 100%;\\n  background-color: #009688\\n}\\n\\n'"
      ]
     },
     "execution_count": 8,
     "metadata": {},
     "output_type": "execute_result"
    }
   ],
   "source": [
    "\"\"\"\n",
    "from flask import Flask, render_template\n",
    "\n",
    "skills_app = Flask(__name__)\n",
    "\n",
    "my_skills = [(\"Html\", 80), (\"CSS\", 75), (\"Python\", 95), (\"MySQL\", 45)]\n",
    "\n",
    "@skills_app.route(\"/\")\n",
    "def homepage():\n",
    "  return render_template(\"homepage.html\",\n",
    "                          title=\"Homepage\",\n",
    "                          custom_css=\"home\")\n",
    "\n",
    "@skills_app.route(\"/add\")\n",
    "def add():\n",
    "  return render_template(\"add.html\",\n",
    "                          title=\"Add Skill\",\n",
    "                          custom_css=\"add\")\n",
    "\n",
    "@skills_app.route(\"/about\")\n",
    "def about():\n",
    "  return render_template(\"about.html\", title=\"About Us\")\n",
    "\n",
    "@skills_app.route(\"/skills\")\n",
    "def skills():\n",
    "  return render_template(\"skills.html\",\n",
    "                          title=\"My Skills\",\n",
    "                          page_head=\"My Skills\",\n",
    "                          description=\"This Is My Skills Page\",\n",
    "                          skills=my_skills,\n",
    "                          custom_css=\"skills\")\n",
    "\n",
    "if __name__ == \"__main__\":\n",
    "  skills_app.run(debug=True, port=9000)\n",
    "\n",
    "  \"\"\"\n",
    "\n",
    "# skills.html\n",
    "\n",
    "\"\"\"\n",
    "{% extends 'base.html' %}\n",
    "{% block body %}\n",
    "<h1 class=\"page-head\">{{ page_head }}</h1>\n",
    "<p class=\"page-description\">{{ description }}</p>\n",
    "\n",
    "{% for skill in skills %}\n",
    "<div class=\"skill-box\">\n",
    "  <div class=\"skill-name\">{{ skill[0] }}</div>\n",
    "  <div class=\"skill-progress\">\n",
    "    <span style=\"width: {{ skill[1] }}%\"></span>\n",
    "  </div>\n",
    "</div>\n",
    "{% endfor %}\n",
    "\n",
    "{% endblock %}\n",
    "\n",
    "\"\"\"\n",
    "\n",
    "# main.css\n",
    "\n",
    "\"\"\"\n",
    "\n",
    "* {\n",
    "  box-sizing: border-box\n",
    "}\n",
    "body {\n",
    "  background-color: #EEE;\n",
    "  font-family: Arial, Tahoma;\n",
    "}\n",
    ".page-head,\n",
    ".page-description {\n",
    "  text-align: center;\n",
    "}\n",
    ".page-head {\n",
    "  font-size: 40px;\n",
    "  margin: 20px 0 0;\n",
    "}\n",
    ".page-description {\n",
    "  font-size: 22px;\n",
    "  margin: 10px 0 40px;\n",
    "}\n",
    "\n",
    "\"\"\"\n",
    "\n",
    "# skills.css\n",
    "\"\"\"\n",
    "\n",
    ".skill-box {\n",
    "  background-color: #FFF;\n",
    "  padding: 20px;\n",
    "  margin: 20px auto;\n",
    "  border: 1px solid #CCC;\n",
    "  width: 450px;\n",
    "}\n",
    ".skill-box .skill-name {\n",
    "  text-align: center;\n",
    "  margin-bottom: 15px;\n",
    "  font-size: 20px;\n",
    "  font-weight: bold;\n",
    "}\n",
    ".skill-box .skill-progress {\n",
    "  background-color: #F7F7F7;\n",
    "  padding: 10px;\n",
    "  position: relative;\n",
    "}\n",
    ".skill-box .skill-progress span {\n",
    "  position: absolute;\n",
    "  left: 0;\n",
    "  top: 0;\n",
    "  width: 0;\n",
    "  height: 100%;\n",
    "  background-color: #009688\n",
    "}\n",
    "\n",
    "\"\"\""
   ]
  },
  {
   "cell_type": "markdown",
   "metadata": {},
   "source": [
    "- <span style=\"color:salmon\">  Adding The JS Files </span>"
   ]
  },
  {
   "cell_type": "code",
   "execution_count": 9,
   "metadata": {},
   "outputs": [
    {
     "data": {
      "text/plain": [
       "'\\n{% extends \\'base.html\\' %}\\n{% block body %}\\n<h1 class=\"page-head\">{{ page_head }}</h1>\\n<p class=\"page-description\">{{ description }}</p>\\n\\n{% for skill in skills %}\\n<div class=\"skill-box\">\\n  <div class=\"skill-name\">{{ skill[0] }}</div>\\n  <div class=\"skill-progress\">\\n    <span data-width=\"{{ skill[1] }}%\"></span>\\n  </div>\\n</div>\\n{% endfor %}\\n\\n{% endblock %}\\n\\n'"
      ]
     },
     "execution_count": 9,
     "metadata": {},
     "output_type": "execute_result"
    }
   ],
   "source": [
    "\"\"\"\n",
    "\n",
    "from flask import Flask, render_template\n",
    "\n",
    "skills_app = Flask(__name__)\n",
    "\n",
    "my_skills = [(\"Html\", 80), (\"CSS\", 75), (\"Python\", 95), (\"MySQL\", 45), (\"Go\", 35)]\n",
    "\n",
    "@skills_app.route(\"/\")\n",
    "def homepage():\n",
    "  return render_template(\"homepage.html\",\n",
    "                          title=\"Homepage\",\n",
    "                          custom_css=\"home\")\n",
    "\n",
    "@skills_app.route(\"/add\")\n",
    "def add():\n",
    "  return render_template(\"add.html\",\n",
    "                          title=\"Add Skill\",\n",
    "                          custom_css=\"add\")\n",
    "\n",
    "@skills_app.route(\"/about\")\n",
    "def about():\n",
    "  return render_template(\"about.html\", title=\"About Us\")\n",
    "\n",
    "@skills_app.route(\"/skills\")\n",
    "def skills():\n",
    "  return render_template(\"skills.html\",\n",
    "                          title=\"My Skills\",\n",
    "                          page_head=\"My Skills\",\n",
    "                          description=\"This Is My Skills Page\",\n",
    "                          skills=my_skills,\n",
    "                          custom_css=\"skills\")\n",
    "\n",
    "if __name__ == \"__main__\":\n",
    "  skills_app.run(debug=True, port=9000)\n",
    "\n",
    "  \"\"\"\n",
    "\n",
    "# base.html\n",
    "\n",
    "\"\"\"\n",
    "\n",
    "<!DOCTYPE html>\n",
    "<html lang=\"en\">\n",
    "  <head>\n",
    "    <meta charset=\"UTF-8\" />\n",
    "    <title>{{ title }}</title>\n",
    "    <link rel=\"stylesheet\" href=\"{{ url_for('static', filename='css/main.css') }}\" />\n",
    "    <link rel=\"stylesheet\" href=\"{{ url_for('static', filename='css/master.css') }}\" />\n",
    "    {% if custom_css %}\n",
    "    <link rel=\"stylesheet\" href=\"{{ url_for('static', filename='css/' + custom_css + '.css') }}\" />\n",
    "    {% endif %}\n",
    "    <link rel=\"icon\" href=\"any_icon.png\">\n",
    "  </head>\n",
    "  <body>\n",
    "    {% block body %}\n",
    "    {% endblock %}\n",
    "    <script src=\"{{ url_for('static', filename='js/jquery-3.4.1.min.js') }}\"></script>\n",
    "    <script src=\"{{ url_for('static', filename='js/main.js') }}\"></script>\n",
    "  </body>\n",
    "</html>\n",
    "\n",
    "\"\"\"\n",
    "\n",
    "# skills.html\n",
    "\n",
    "\"\"\"\n",
    "{% extends 'base.html' %}\n",
    "{% block body %}\n",
    "<h1 class=\"page-head\">{{ page_head }}</h1>\n",
    "<p class=\"page-description\">{{ description }}</p>\n",
    "\n",
    "{% for skill in skills %}\n",
    "<div class=\"skill-box\">\n",
    "  <div class=\"skill-name\">{{ skill[0] }}</div>\n",
    "  <div class=\"skill-progress\">\n",
    "    <span data-width=\"{{ skill[1] }}%\"></span>\n",
    "  </div>\n",
    "</div>\n",
    "{% endfor %}\n",
    "\n",
    "{% endblock %}\n",
    "\n",
    "\"\"\""
   ]
  },
  {
   "cell_type": "markdown",
   "metadata": {},
   "source": [
    " <span style=\"color:salmon\">  \n",
    "\n",
    "- -- Web Scraping => Control Browser With Selenium --\n",
    " ---------------------------------------------------\n",
    "- - Control Browser With Selenium For Automated Testing\n",
    "- - Download File From The Internet\n",
    "- - Subtitle Download And Add On Your Movies [ Many Modules ]\n",
    "- - Get Quotes From Websites\n",
    "- - Get Gold and Currencies Rate\n",
    "- - Get News From Websites\n",
    " - --------------------------------------------\n",
    " </span>"
   ]
  },
  {
   "cell_type": "code",
   "execution_count": 11,
   "metadata": {},
   "outputs": [
    {
     "data": {
      "text/plain": [
       "'\\n\\nfrom selenium import webdriver\\nfrom webdriver_manager.chrome import ChromeDriverManager\\n\\nbrowser = webdriver.Chrome(ChromeDriverManager().install())\\n\\nbrowser.get(\"https://elzero.org\")\\n\\nbrowser.find_element_by_css_selector(\".search-field\").send_keys(\"Front-End Developer\")\\n\\nbrowser.find_element_by_css_selector(\".search-submit\").click()\\n\\nbrowser.find_element_by_css_selector(\".all-search-posts .search-post:first-of-type h3 a\").click()\\n\\nbrowser.implicitly_wait(5)\\n\\nviews_count = browser.find_element_by_css_selector(\".z-article-info .z-info:last-of-type span:last-child\")\\n\\nbrowser.implicitly_wait(5)\\n\\nprint(views_count.get_attribute(\\'innerHTML\\'))\\n\\nbrowser.quit()\\n\\n'"
      ]
     },
     "execution_count": 11,
     "metadata": {},
     "output_type": "execute_result"
    }
   ],
   "source": [
    "\"\"\"\n",
    "\n",
    "from selenium import webdriver\n",
    "from webdriver_manager.chrome import ChromeDriverManager\n",
    "\n",
    "browser = webdriver.Chrome(ChromeDriverManager().install())\n",
    "\n",
    "browser.get(\"https://elzero.org\")\n",
    "\n",
    "browser.find_element_by_css_selector(\".search-field\").send_keys(\"Front-End Developer\")\n",
    "\n",
    "browser.find_element_by_css_selector(\".search-submit\").click()\n",
    "\n",
    "browser.find_element_by_css_selector(\".all-search-posts .search-post:first-of-type h3 a\").click()\n",
    "\n",
    "browser.implicitly_wait(5)\n",
    "\n",
    "views_count = browser.find_element_by_css_selector(\".z-article-info .z-info:last-of-type span:last-child\")\n",
    "\n",
    "browser.implicitly_wait(5)\n",
    "\n",
    "print(views_count.get_attribute('innerHTML'))\n",
    "\n",
    "browser.quit()\n",
    "\n",
    "\"\"\""
   ]
  },
  {
   "cell_type": "markdown",
   "metadata": {},
   "source": [
    " # <span style=\"color:skyblue\">[42]   NumPy  </span>"
   ]
  },
  {
   "cell_type": "markdown",
   "metadata": {},
   "source": [
    " <span style=\"color:salmon\">  \n",
    "\n",
    " --------------------\n",
    "- -- Numpy => Intro --\n",
    " --------------------\n",
    "- - NumPy Is A Python Third-Party Module To Deal With Arrays & Matrices\n",
    "- - NumPy Stand For Numerical Python\n",
    "- - NumPy Is Open Source\n",
    "- - NumPy Support Dealing With Large Multidimensional Arrays & Matrices\n",
    "- - NumPy Has Many Mathematical Functions To Deal With This Elements\n",
    "- ------------------------------------------------------------\n",
    "- * Why We Use NumPy Array\n",
    "- - Consume Less Memory\n",
    "- - Very Fast Compared To Python List\n",
    "- - Easy To Use\n",
    "- - Support Element Wise Operation\n",
    "- - Elements Are Stored Contiguous\n",
    "- -------------------------------------------\n",
    "- * Python Lists\n",
    "- ---- Homogeneous => Can Contains The Same Type of Objects\n",
    "- ---- Heterogeneous => Can Contains Different Types of Objects.\n",
    " --------------------------------------------------------------\n",
    "- - The Items in The Array Have to Be Of The Same Type\n",
    "- - You Can Be Sure Whats The Storage Size Needed for The Array\n",
    "- - NumPy Arrays Are Indexed From 0\n",
    " --------------------------------------------------------------\n",
    "- - NumPy On Github => https://github.com/numpy/numpy\n",
    " ---------------------------------------------------\n",
    "\n",
    "\n",
    " </span>"
   ]
  },
  {
   "cell_type": "code",
   "execution_count": 12,
   "metadata": {},
   "outputs": [
    {
     "name": "stdout",
     "output_type": "stream",
     "text": [
      "1.24.3\n"
     ]
    }
   ],
   "source": [
    "import numpy as np\n",
    "\n",
    "print(np.__version__)"
   ]
  },
  {
   "cell_type": "markdown",
   "metadata": {},
   "source": [
    "- <span style=\"color:salmon\">  Create Arrays </span>"
   ]
  },
  {
   "cell_type": "code",
   "execution_count": 13,
   "metadata": {},
   "outputs": [
    {
     "name": "stdout",
     "output_type": "stream",
     "text": [
      "[1, 2, 3, 4, 5]\n",
      "[1 2 3 4 5]\n",
      "##################################################\n",
      "<class 'list'>\n",
      "<class 'numpy.ndarray'>\n",
      "##################################################\n",
      "1\n",
      "1\n",
      "##################################################\n",
      "8\n",
      "8\n",
      "8\n",
      "##################################################\n",
      "0\n",
      "1\n",
      "2\n",
      "3\n",
      "##################################################\n",
      "[[[1 2 3]]]\n",
      "3\n",
      "1\n"
     ]
    }
   ],
   "source": [
    "import numpy as np\n",
    "\n",
    "# print(dir(np))\n",
    "\n",
    "my_list = [1, 2, 3, 4, 5]\n",
    "my_array = np.array(my_list)\n",
    "\n",
    "print(my_list)\n",
    "print(my_array)\n",
    "\n",
    "print(\"#\" * 50)\n",
    "\n",
    "# Type\n",
    "\n",
    "print(type(my_list))\n",
    "print(type(my_array))\n",
    "\n",
    "print(\"#\" * 50)\n",
    "\n",
    "# Accessing Elements\n",
    "\n",
    "print(my_list[0])\n",
    "print(my_array[0])\n",
    "\n",
    "print(\"#\" * 50)\n",
    "\n",
    "a = np.array(10)\n",
    "b = np.array([10, 20])\n",
    "c = np.array( [ [1, 2], [3, 4] ] )\n",
    "d = np.array( [ [ [5, 6], [7, 9] ], [ [1, 3], [4, 8] ] ] )\n",
    "\n",
    "print(d[1][1][-1])\n",
    "print(d[1, 1, 1])\n",
    "print(d[1, 1, -1])\n",
    "\n",
    "print(\"#\" * 50)\n",
    "\n",
    "# Number Of Dimensions\n",
    "\n",
    "print(a.ndim)\n",
    "print(b.ndim)\n",
    "print(c.ndim)\n",
    "print(d.ndim)\n",
    "\n",
    "print(\"#\" * 50)\n",
    "\n",
    "# Custom Dimensions\n",
    "\n",
    "my_custom_array = np.array([1, 2, 3], ndmin=3)\n",
    "print(my_custom_array)\n",
    "print(my_custom_array.ndim)\n",
    "\n",
    "print(my_custom_array[0, 0, 0])"
   ]
  },
  {
   "cell_type": "markdown",
   "metadata": {},
   "source": [
    "- <span style=\"color:salmon\">  Compare Data Location And Type </span>"
   ]
  },
  {
   "cell_type": "code",
   "execution_count": 14,
   "metadata": {},
   "outputs": [
    {
     "name": "stdout",
     "output_type": "stream",
     "text": [
      "1\n",
      "2\n",
      "1\n",
      "2\n",
      "##################################################\n",
      "140717253497640\n",
      "140717253497672\n",
      "3097754197936\n",
      "3097754197936\n",
      "##################################################\n",
      "[1, 2, 'A', 'B', True, 10.5]\n",
      "['1' '2' 'A' 'B' 'True' '10.5']\n",
      "##################################################\n",
      "1\n",
      "1\n",
      "<class 'int'>\n",
      "<class 'numpy.str_'>\n",
      "##################################################\n",
      "[1, 2, 'A', 'B', True, 10.5]\n",
      "['1' '2' 'A']\n",
      "##################################################\n",
      "1\n",
      "1\n",
      "<class 'int'>\n",
      "<class 'numpy.str_'>\n"
     ]
    }
   ],
   "source": [
    "import numpy as np\n",
    "\n",
    "my_list = [1, 2, 3, 4, 5]\n",
    "my_array = np.array([1, 2, 3, 4, 5])\n",
    "\n",
    "print(my_list[0])\n",
    "print(my_list[1])\n",
    "\n",
    "print(my_array[0])\n",
    "print(my_array[1])\n",
    "\n",
    "print(\"#\" * 50)\n",
    "\n",
    "print(id(my_list[0]))\n",
    "print(id(my_list[1]))\n",
    "\n",
    "print(id(my_array[0]))\n",
    "print(id(my_array[1]))\n",
    "\n",
    "print(\"#\" * 50)\n",
    "\n",
    "my_list_of_data = [1, 2, \"A\", \"B\", True, 10.50]\n",
    "my_array_of_data = np.array([1, 2, \"A\", \"B\", True, 10.50])\n",
    "\n",
    "print(my_list_of_data)\n",
    "print(my_array_of_data)\n",
    "\n",
    "print(\"#\" * 50)\n",
    "\n",
    "print(my_list_of_data[0])\n",
    "print(my_array_of_data[0])\n",
    "\n",
    "print(type(my_list_of_data[0]))\n",
    "print(type(my_array_of_data[0]))\n",
    "\n",
    "print(\"#\" * 50)\n",
    "\n",
    "my_list_of_data_two = [1, 2, \"A\", \"B\", True, 10.50]\n",
    "my_array_of_data_two = np.array([1, 2, \"A\"])\n",
    "\n",
    "print(my_list_of_data_two)\n",
    "print(my_array_of_data_two)\n",
    "\n",
    "print(\"#\" * 50)\n",
    "\n",
    "print(my_list_of_data_two[0])\n",
    "print(my_array_of_data_two[0])\n",
    "\n",
    "print(type(my_list_of_data_two[0]))\n",
    "print(type(my_array_of_data_two[0]))"
   ]
  },
  {
   "cell_type": "markdown",
   "metadata": {},
   "source": [
    "<span style=\"color:salmon\"> \n",
    "\n",
    "- Compare Performance And Memory Use --\n",
    " -------------------------------------------------\n",
    "- - Performance\n",
    "- - Memory Use\n",
    " ------------------------------------------------- \n",
    " </span>"
   ]
  },
  {
   "cell_type": "code",
   "execution_count": 24,
   "metadata": {},
   "outputs": [
    {
     "name": "stdout",
     "output_type": "stream",
     "text": [
      "List Time: 0.015963315963745117\n",
      "Array Time: 0.0\n",
      "[0, 2, 4, 6, 8, 10, 12, 14, 16, 18, 20, 22, 24, 26, 28, 30, 32, 34, 36, 38, 40, 42, 44, 46, 48, 50, 52, 54, 56, 58, 60, 62, 64, 66, 68, 70, 72, 74, 76, 78, 80, 82, 84, 86, 88, 90, 92, 94, 96, 98, 100, 102, 104, 106, 108, 110, 112, 114, 116, 118, 120, 122, 124, 126, 128, 130, 132, 134, 136, 138, 140, 142, 144, 146, 148, 150, 152, 154, 156, 158, 160, 162, 164, 166, 168, 170, 172, 174, 176, 178, 180, 182, 184, 186, 188, 190, 192, 194, 196, 198, 200, 202, 204, 206, 208, 210, 212, 214, 216, 218, 220, 222, 224, 226, 228, 230, 232, 234, 236, 238, 240, 242, 244, 246, 248, 250, 252, 254, 256, 258, 260, 262, 264, 266, 268, 270, 272, 274, 276, 278, 280, 282, 284, 286, 288, 290, 292, 294, 296, 298, 300, 302, 304, 306, 308, 310, 312, 314, 316, 318, 320, 322, 324, 326, 328, 330, 332, 334, 336, 338, 340, 342, 344, 346, 348, 350, 352, 354, 356, 358, 360, 362, 364, 366, 368, 370, 372, 374, 376, 378, 380, 382, 384, 386, 388, 390, 392, 394, 396, 398, 400, 402, 404, 406, 408, 410, 412, 414, 416, 418, 420, 422, 424, 426, 428, 430, 432, 434, 436, 438, 440, 442, 444, 446, 448, 450, 452, 454, 456, 458, 460, 462, 464, 466, 468, 470, 472, 474, 476, 478, 480, 482, 484, 486, 488, 490, 492, 494, 496, 498, 500, 502, 504, 506, 508, 510, 512, 514, 516, 518, 520, 522, 524, 526, 528, 530, 532, 534, 536, 538, 540, 542, 544, 546, 548, 550, 552, 554, 556, 558, 560, 562, 564, 566, 568, 570, 572, 574, 576, 578, 580, 582, 584, 586, 588, 590, 592, 594, 596, 598, 600, 602, 604, 606, 608, 610, 612, 614, 616, 618, 620, 622, 624, 626, 628, 630, 632, 634, 636, 638, 640, 642, 644, 646, 648, 650, 652, 654, 656, 658, 660, 662, 664, 666, 668, 670, 672, 674, 676, 678, 680, 682, 684, 686, 688, 690, 692, 694, 696, 698, 700, 702, 704, 706, 708, 710, 712, 714, 716, 718, 720, 722, 724, 726, 728, 730, 732, 734, 736, 738, 740, 742, 744, 746, 748, 750, 752, 754, 756, 758, 760, 762, 764, 766, 768, 770, 772, 774, 776, 778, 780, 782, 784, 786, 788, 790, 792, 794, 796, 798, 800, 802, 804, 806, 808, 810, 812, 814, 816, 818, 820, 822, 824, 826, 828, 830, 832, 834, 836, 838, 840, 842, 844, 846, 848, 850, 852, 854, 856, 858, 860, 862, 864, 866, 868, 870, 872, 874, 876, 878, 880, 882, 884, 886, 888, 890, 892, 894, 896, 898, 900, 902, 904, 906, 908, 910, 912, 914, 916, 918, 920, 922, 924, 926, 928, 930, 932, 934, 936, 938, 940, 942, 944, 946, 948, 950, 952, 954, 956, 958, 960, 962, 964, 966, 968, 970, 972, 974, 976, 978, 980, 982, 984, 986, 988, 990, 992, 994, 996, 998, 1000, 1002, 1004, 1006, 1008, 1010, 1012, 1014, 1016, 1018, 1020, 1022, 1024, 1026, 1028, 1030, 1032, 1034, 1036, 1038, 1040, 1042, 1044, 1046, 1048, 1050, 1052, 1054, 1056, 1058, 1060, 1062, 1064, 1066, 1068, 1070, 1072, 1074, 1076, 1078, 1080, 1082, 1084, 1086, 1088, 1090, 1092, 1094, 1096, 1098, 1100, 1102, 1104, 1106, 1108, 1110, 1112, 1114, 1116, 1118, 1120, 1122, 1124, 1126, 1128, 1130, 1132, 1134, 1136, 1138, 1140, 1142, 1144, 1146, 1148, 1150, 1152, 1154, 1156, 1158, 1160, 1162, 1164, 1166, 1168, 1170, 1172, 1174, 1176, 1178, 1180, 1182, 1184, 1186, 1188, 1190, 1192, 1194, 1196, 1198, 1200, 1202, 1204, 1206, 1208, 1210, 1212, 1214, 1216, 1218, 1220, 1222, 1224, 1226, 1228, 1230, 1232, 1234, 1236, 1238, 1240, 1242, 1244, 1246, 1248, 1250, 1252, 1254, 1256, 1258, 1260, 1262, 1264, 1266, 1268, 1270, 1272, 1274, 1276, 1278, 1280, 1282, 1284, 1286, 1288, 1290, 1292, 1294, 1296, 1298, 1300, 1302, 1304, 1306, 1308, 1310, 1312, 1314, 1316, 1318, 1320, 1322, 1324, 1326, 1328, 1330, 1332, 1334, 1336, 1338, 1340, 1342, 1344, 1346, 1348, 1350, 1352, 1354, 1356, 1358, 1360, 1362, 1364, 1366, 1368, 1370, 1372, 1374, 1376, 1378, 1380, 1382, 1384, 1386, 1388, 1390, 1392, 1394, 1396, 1398, 1400, 1402, 1404, 1406, 1408, 1410, 1412, 1414, 1416, 1418, 1420, 1422, 1424, 1426, 1428, 1430, 1432, 1434, 1436, 1438, 1440, 1442, 1444, 1446, 1448, 1450, 1452, 1454, 1456, 1458, 1460, 1462, 1464, 1466, 1468, 1470, 1472, 1474, 1476, 1478, 1480, 1482, 1484, 1486, 1488, 1490, 1492, 1494, 1496, 1498, 1500, 1502, 1504, 1506, 1508, 1510, 1512, 1514, 1516, 1518, 1520, 1522, 1524, 1526, 1528, 1530, 1532, 1534, 1536, 1538, 1540, 1542, 1544, 1546, 1548, 1550, 1552, 1554, 1556, 1558, 1560, 1562, 1564, 1566, 1568, 1570, 1572, 1574, 1576, 1578, 1580, 1582, 1584, 1586, 1588, 1590, 1592, 1594, 1596, 1598, 1600, 1602, 1604, 1606, 1608, 1610, 1612, 1614, 1616, 1618, 1620, 1622, 1624, 1626, 1628, 1630, 1632, 1634, 1636, 1638, 1640, 1642, 1644, 1646, 1648, 1650, 1652, 1654, 1656, 1658, 1660, 1662, 1664, 1666, 1668, 1670, 1672, 1674, 1676, 1678, 1680, 1682, 1684, 1686, 1688, 1690, 1692, 1694, 1696, 1698, 1700, 1702, 1704, 1706, 1708, 1710, 1712, 1714, 1716, 1718, 1720, 1722, 1724, 1726, 1728, 1730, 1732, 1734, 1736, 1738, 1740, 1742, 1744, 1746, 1748, 1750, 1752, 1754, 1756, 1758, 1760, 1762, 1764, 1766, 1768, 1770, 1772, 1774, 1776, 1778, 1780, 1782, 1784, 1786, 1788, 1790, 1792, 1794, 1796, 1798, 1800, 1802, 1804, 1806, 1808, 1810, 1812, 1814, 1816, 1818, 1820, 1822, 1824, 1826, 1828, 1830, 1832, 1834, 1836, 1838, 1840, 1842, 1844, 1846, 1848, 1850, 1852, 1854, 1856, 1858, 1860, 1862, 1864, 1866, 1868, 1870, 1872, 1874, 1876, 1878, 1880, 1882, 1884, 1886, 1888, 1890, 1892, 1894, 1896, 1898, 1900, 1902, 1904, 1906, 1908, 1910, 1912, 1914, 1916, 1918, 1920, 1922, 1924, 1926, 1928, 1930, 1932, 1934, 1936, 1938, 1940, 1942, 1944, 1946, 1948, 1950, 1952, 1954, 1956, 1958, 1960, 1962, 1964, 1966, 1968, 1970, 1972, 1974, 1976, 1978, 1980, 1982, 1984, 1986, 1988, 1990, 1992, 1994, 1996, 1998, 2000, 2002, 2004, 2006, 2008, 2010, 2012, 2014, 2016, 2018, 2020, 2022, 2024, 2026, 2028, 2030, 2032, 2034, 2036, 2038, 2040, 2042, 2044, 2046, 2048, 2050, 2052, 2054, 2056, 2058, 2060, 2062, 2064, 2066, 2068, 2070, 2072, 2074, 2076, 2078, 2080, 2082, 2084, 2086, 2088, 2090, 2092, 2094, 2096, 2098, 2100, 2102, 2104, 2106, 2108, 2110, 2112, 2114, 2116, 2118, 2120, 2122, 2124, 2126, 2128, 2130, 2132, 2134, 2136, 2138, 2140, 2142, 2144, 2146, 2148, 2150, 2152, 2154, 2156, 2158, 2160, 2162, 2164, 2166, 2168, 2170, 2172, 2174, 2176, 2178, 2180, 2182, 2184, 2186, 2188, 2190, 2192, 2194, 2196, 2198, 2200, 2202, 2204, 2206, 2208, 2210, 2212, 2214, 2216, 2218, 2220, 2222, 2224, 2226, 2228, 2230, 2232, 2234, 2236, 2238, 2240, 2242, 2244, 2246, 2248, 2250, 2252, 2254, 2256, 2258, 2260, 2262, 2264, 2266, 2268, 2270, 2272, 2274, 2276, 2278, 2280, 2282, 2284, 2286, 2288, 2290, 2292, 2294, 2296, 2298, 2300, 2302, 2304, 2306, 2308, 2310, 2312, 2314, 2316, 2318, 2320, 2322, 2324, 2326, 2328, 2330, 2332, 2334, 2336, 2338, 2340, 2342, 2344, 2346, 2348, 2350, 2352, 2354, 2356, 2358, 2360, 2362, 2364, 2366, 2368, 2370, 2372, 2374, 2376, 2378, 2380, 2382, 2384, 2386, 2388, 2390, 2392, 2394, 2396, 2398, 2400, 2402, 2404, 2406, 2408, 2410, 2412, 2414, 2416, 2418, 2420, 2422, 2424, 2426, 2428, 2430, 2432, 2434, 2436, 2438, 2440, 2442, 2444, 2446, 2448, 2450, 2452, 2454, 2456, 2458, 2460, 2462, 2464, 2466, 2468, 2470, 2472, 2474, 2476, 2478, 2480, 2482, 2484, 2486, 2488, 2490, 2492, 2494, 2496, 2498, 2500, 2502, 2504, 2506, 2508, 2510, 2512, 2514, 2516, 2518, 2520, 2522, 2524, 2526, 2528, 2530, 2532, 2534, 2536, 2538, 2540, 2542, 2544, 2546, 2548, 2550, 2552, 2554, 2556, 2558, 2560, 2562, 2564, 2566, 2568, 2570, 2572, 2574, 2576, 2578, 2580, 2582, 2584, 2586, 2588, 2590, 2592, 2594, 2596, 2598, 2600, 2602, 2604, 2606, 2608, 2610, 2612, 2614, 2616, 2618, 2620, 2622, 2624, 2626, 2628, 2630, 2632, 2634, 2636, 2638, 2640, 2642, 2644, 2646, 2648, 2650, 2652, 2654, 2656, 2658, 2660, 2662, 2664, 2666, 2668, 2670, 2672, 2674, 2676, 2678, 2680, 2682, 2684, 2686, 2688, 2690, 2692, 2694, 2696, 2698, 2700, 2702, 2704, 2706, 2708, 2710, 2712, 2714, 2716, 2718, 2720, 2722, 2724, 2726, 2728, 2730, 2732, 2734, 2736, 2738, 2740, 2742, 2744, 2746, 2748, 2750, 2752, 2754, 2756, 2758, 2760, 2762, 2764, 2766, 2768, 2770, 2772, 2774, 2776, 2778, 2780, 2782, 2784, 2786, 2788, 2790, 2792, 2794, 2796, 2798, 2800, 2802, 2804, 2806, 2808, 2810, 2812, 2814, 2816, 2818, 2820, 2822, 2824, 2826, 2828, 2830, 2832, 2834, 2836, 2838, 2840, 2842, 2844, 2846, 2848, 2850, 2852, 2854, 2856, 2858, 2860, 2862, 2864, 2866, 2868, 2870, 2872, 2874, 2876, 2878, 2880, 2882, 2884, 2886, 2888, 2890, 2892, 2894, 2896, 2898, 2900, 2902, 2904, 2906, 2908, 2910, 2912, 2914, 2916, 2918, 2920, 2922, 2924, 2926, 2928, 2930, 2932, 2934, 2936, 2938, 2940, 2942, 2944, 2946, 2948, 2950, 2952, 2954, 2956, 2958, 2960, 2962, 2964, 2966, 2968, 2970, 2972, 2974, 2976, 2978, 2980, 2982, 2984, 2986, 2988, 2990, 2992, 2994, 2996, 2998]\n",
      "[   0    2    4 ... 2994 2996 2998]\n",
      "[ 0  1  2  3  4  5  6  7  8  9 10 11 12 13 14 15 16 17 18 19 20 21 22 23\n",
      " 24 25 26 27 28 29 30 31 32 33 34 35 36 37 38 39 40 41 42 43 44 45 46 47\n",
      " 48 49 50 51 52 53 54 55 56 57 58 59 60 61 62 63 64 65 66 67 68 69 70 71\n",
      " 72 73 74 75 76 77 78 79 80 81 82 83 84 85 86 87 88 89 90 91 92 93 94 95\n",
      " 96 97 98 99]\n",
      "4\n",
      "100\n",
      "All Bytes: 400\n",
      "##################################################\n",
      "28\n",
      "100\n",
      "All Bytes: 2800\n"
     ]
    }
   ],
   "source": [
    "import numpy as np\n",
    "import time\n",
    "import sys\n",
    "\n",
    "elements = 1500\n",
    "\n",
    "my_list1 = range(elements)\n",
    "my_list2 = range(elements)\n",
    "\n",
    "my_array1 = np.arange(elements)\n",
    "my_array2 = np.arange(elements)\n",
    "\n",
    "list_start = time.time()\n",
    "list_result = [(n1 + n2) for n1, n2 in zip(my_list1, my_list2)]\n",
    "print(f\"List Time: {time.time() - list_start}\")\n",
    "\n",
    "array_start = time.time()\n",
    "array_result = my_array1 + my_array2\n",
    "print(f\"Array Time: {time.time() - array_start}\")\n",
    "\n",
    "# for n1, n2 in zip(my_list1, my_list2):\n",
    "\n",
    "# \tprint(n1 + n2)\n",
    "\n",
    "print(list_result)\n",
    "print(array_result)\n",
    "\n",
    "my_array = np.arange(100)\n",
    "\n",
    "print(my_array)\n",
    "print(my_array.itemsize)\n",
    "print(my_array.size)\n",
    "print(f\"All Bytes: {my_array.itemsize * my_array.size}\")\n",
    "\n",
    "print(\"#\" * 50)\n",
    "\n",
    "my_list = range(100)\n",
    "print(sys.getsizeof(1))\n",
    "print(len(my_list))\n",
    "print(f\"All Bytes: {sys.getsizeof(1) * len(my_list)}\")"
   ]
  },
  {
   "cell_type": "markdown",
   "metadata": {},
   "source": [
    "- <span style=\"color:salmon\">  Array Slicing </span>"
   ]
  },
  {
   "cell_type": "code",
   "execution_count": 16,
   "metadata": {},
   "outputs": [
    {
     "name": "stdout",
     "output_type": "stream",
     "text": [
      "1\n",
      "B\n",
      "['B' 'C' 'D']\n",
      "['A' 'B' 'C' 'D']\n",
      "['C' 'D' 'E' 'F']\n",
      "##################################################\n",
      "2\n",
      "['C' 'D' 'Y']\n",
      "##################################################\n",
      "[['E' 'F']\n",
      " ['M' 'N']]\n",
      "[['E']\n",
      " ['M']]\n"
     ]
    }
   ],
   "source": [
    "import numpy as np\n",
    "\n",
    "# Slicing => [Start:End:Steps] Not Including End\n",
    "\n",
    "a = np.array([\"A\", \"B\", \"C\", \"D\", \"E\", \"F\"])\n",
    "\n",
    "print(a.ndim)\n",
    "print(a[1])\n",
    "print(a[1:4])\n",
    "print(a[:4])\n",
    "print(a[2:])\n",
    "\n",
    "print(\"#\" * 50)\n",
    "\n",
    "b = np.array([[\"A\", \"B\", \"X\"], [\"C\", \"D\", \"Y\"], [\"E\", \"F\", \"Z\"], [\"M\", \"N\", \"O\"]])\n",
    "\n",
    "print(b.ndim)\n",
    "print(b[1])\n",
    "\n",
    "print(\"#\" * 50)\n",
    "\n",
    "print(b[2:, :2])\n",
    "print(b[2:, :2:2])"
   ]
  },
  {
   "cell_type": "markdown",
   "metadata": {},
   "source": [
    " <span style=\"color:salmon\">  \n",
    "\n",
    "- -- Numpy => Data Types And Control Array --\n",
    " -------------------------------------------\n",
    "- https://numpy.org/devdocs/user/basics.types.html\n",
    "- https://docs.scipy.org/doc/numpy/reference/arrays.dtypes.html#specifying-and-constructing-data-types\n",
    "- -------------------------------------------\n",
    "- '?' boolean\n",
    "- 'b' (signed) byte\n",
    "- 'B' unsigned byte\n",
    "- 'i' (signed) integer\n",
    "- 'u' unsigned integer\n",
    "- 'f' floating-point\n",
    "- 'c' complex-floating point\n",
    "- 'm' timedelta\n",
    "- 'M' datetime\n",
    "- 'O' (Python) objects\n",
    "- 'S', 'a' zero-terminated bytes (not recommended)\n",
    "- 'U' Unicode string\n",
    "- 'V' raw data (void)\n",
    " ------------------------------------------------\n",
    "\n",
    " </span>"
   ]
  },
  {
   "cell_type": "code",
   "execution_count": 17,
   "metadata": {},
   "outputs": [
    {
     "name": "stdout",
     "output_type": "stream",
     "text": [
      "int32\n",
      "float64\n",
      "<U12\n",
      "##################################################\n",
      "float64\n",
      "int32\n",
      "##################################################\n",
      "int32\n",
      "[0 1 2 3 0 4]\n",
      "##################################################\n",
      "float64\n",
      "[0. 1. 2. 3. 0. 4.]\n",
      "##################################################\n",
      "bool\n",
      "[False  True  True  True False  True]\n",
      "##################################################\n",
      "float32\n",
      "4\n",
      "float64\n",
      "8\n"
     ]
    }
   ],
   "source": [
    "import numpy as np\n",
    "\n",
    "# Show Array Data Type\n",
    "\n",
    "my_array1 = np.array([1, 2, 3])\n",
    "my_array2 = np.array([1.5, 20.15, 3.601])\n",
    "my_array3 = np.array([\"Osama_Elzero\", \"B\", \"Ahmed\"])\n",
    "\n",
    "print(my_array1.dtype)\n",
    "print(my_array2.dtype)\n",
    "print(my_array3.dtype)\n",
    "\n",
    "print(\"#\" * 50)\n",
    "\n",
    "# Create Array With Specific Data Type\n",
    "\n",
    "my_array4 = np.array([1, 2, 3], dtype=float) # float Or 'float' Or 'f'\n",
    "my_array5 = np.array([1.5, 20.15, 3.601], dtype=int) # int Or 'int' Or 'i'\n",
    "# my_array6 = np.array([\"Osama_Elzero\", \"B\", \"Ahmed\"], dtype=int) # Value Error\n",
    "\n",
    "print(my_array4.dtype)\n",
    "print(my_array5.dtype)\n",
    "# print(my_array6.dtype)\n",
    "\n",
    "print(\"#\" * 50)\n",
    "\n",
    "# Change Data Type Of Existing Array\n",
    "\n",
    "my_array7 = np.array([0, 1, 2, 3, 0, 4])\n",
    "print(my_array7.dtype)\n",
    "print(my_array7)\n",
    "\n",
    "print(\"#\" * 50)\n",
    "\n",
    "my_array7 = my_array7.astype('float')\n",
    "print(my_array7.dtype)\n",
    "print(my_array7)\n",
    "\n",
    "print(\"#\" * 50)\n",
    "\n",
    "my_array7 = my_array7.astype('bool')\n",
    "print(my_array7.dtype)\n",
    "print(my_array7)\n",
    "\n",
    "print(\"#\" * 50)\n",
    "\n",
    "# Test Capacity\n",
    "\n",
    "my_array8 = np.array([100, 200, 300, 400], dtype='f')\n",
    "print(my_array8.dtype)\n",
    "print(my_array8[0].itemsize) # 4 Bytes\n",
    "\n",
    "my_array8 = my_array8.astype('float') # Change To Float64\n",
    "print(my_array8.dtype)\n",
    "print(my_array8[0].itemsize) # 8 Bytes"
   ]
  },
  {
   "cell_type": "markdown",
   "metadata": {},
   "source": [
    " <span style=\"color:salmon\"> \n",
    "\n",
    "- -- Numpy => Arithmetic & Useful Operations --\n",
    " ---------------------------------------------\n",
    "- - Addition\n",
    "- - Subtraction\n",
    "- - Multiplication\n",
    "- - Dividation\n",
    "- ----------------\n",
    "- - min\n",
    "- - max\n",
    "- - sum\n",
    "- - ravel => Returns Flattened Array 1 Dimension With Same Type\n",
    " ----------------------------------------------\n",
    "\n",
    "</span>"
   ]
  },
  {
   "cell_type": "code",
   "execution_count": 18,
   "metadata": {},
   "outputs": [
    {
     "name": "stdout",
     "output_type": "stream",
     "text": [
      "[15 22 34]\n",
      "[ 5 18 26]\n",
      "[ 50  40 120]\n",
      "[ 2.  10.   7.5]\n",
      "##################################################\n",
      "[[ 3 11]\n",
      " [15 14]]\n",
      "[[-1 -3]\n",
      " [-5  4]]\n",
      "[[ 2 28]\n",
      " [50 45]]\n",
      "[[0.5        0.57142857]\n",
      " [0.5        1.8       ]]\n",
      "##################################################\n",
      "10\n",
      "30\n",
      "60\n",
      "##################################################\n",
      "3\n",
      "9\n",
      "22\n",
      "##################################################\n",
      "[6 4 3 9]\n",
      "3\n",
      "[1 2 3 4 5 6 7 8]\n",
      "1\n"
     ]
    }
   ],
   "source": [
    "import numpy as np\n",
    "\n",
    "# Arithmetic Operations\n",
    "\n",
    "my_array1 = np.array([10, 20, 30])\n",
    "my_array2 = np.array([5, 2, 4])\n",
    "\n",
    "print(my_array1 + my_array2) # result [15, 22, 34]\n",
    "print(my_array1 - my_array2) # result [5, 18, 26]\n",
    "print(my_array1 * my_array2) # result [50, 40, 120]\n",
    "print(my_array1 / my_array2) # result [2, 10, 7.5]\n",
    "\n",
    "print('#' * 50)\n",
    "\n",
    "my_array3 = np.array([[1, 4], [5, 9]])\n",
    "my_array4 = np.array([[2, 7], [10, 5]])\n",
    "\n",
    "print(my_array3 + my_array4) # result [ [3, 11], [15, 14] ]\n",
    "print(my_array3 - my_array4) # result [ [-1, -3], [-5, 4] ]\n",
    "print(my_array3 * my_array4) # result [ [2, 28], [50, 45] ]\n",
    "print(my_array3 / my_array4) # result [ [0.5, 0.57142857], [0.5, 1.8] ]\n",
    "\n",
    "print('#' * 50)\n",
    "\n",
    "# Min, Max, Sum\n",
    "\n",
    "my_array5 = np.array([10, 20, 30])\n",
    "print(my_array5.min())\n",
    "print(my_array5.max())\n",
    "print(my_array5.sum())\n",
    "\n",
    "print('#' * 50)\n",
    "\n",
    "my_array6 = np.array([[6, 4], [3, 9]])\n",
    "print(my_array6.min())\n",
    "print(my_array6.max())\n",
    "print(my_array6.sum())\n",
    "\n",
    "print('#' * 50)\n",
    "\n",
    "# Ravel\n",
    "\n",
    "my_array7 = np.array([[6, 4], [3, 9]])\n",
    "print(my_array7.ravel())\n",
    "\n",
    "my_array8 = np.array([[[1, 2], [3, 4]], [[5, 6], [7, 8]]])\n",
    "print(my_array8.ndim)\n",
    "print(my_array8.ravel())\n",
    "x = my_array8.ravel()\n",
    "print(x.ndim)"
   ]
  },
  {
   "cell_type": "markdown",
   "metadata": {},
   "source": [
    "<span style=\"color:salmon\"> \n",
    "\n",
    "- -- Numpy => Array Shape & ReShape --\n",
    " ------------------------------------\n",
    "- Shape Returns A Tuple Contains The Number Of Elements in Each Dimension\n",
    "- ----------------------------------------------\n",
    " </span>"
   ]
  },
  {
   "cell_type": "code",
   "execution_count": 19,
   "metadata": {},
   "outputs": [
    {
     "name": "stdout",
     "output_type": "stream",
     "text": [
      "1\n",
      "(4,)\n",
      "##################################################\n",
      "2\n",
      "(3, 4)\n",
      "##################################################\n",
      "3\n",
      "(2, 2, 3)\n",
      "##################################################\n",
      "1\n",
      "(12,)\n",
      "2\n",
      "(3, 4)\n",
      "[[ 1  2  3  4]\n",
      " [ 5  6  7  8]\n",
      " [ 9 10 11 12]]\n",
      "##################################################\n",
      "2\n",
      "(2, 10)\n",
      "##################################################\n",
      "3\n",
      "(2, 5, 2)\n",
      "[[[ 1  2]\n",
      "  [ 3  4]\n",
      "  [ 5  6]\n",
      "  [ 7  8]\n",
      "  [ 9 10]]\n",
      "\n",
      " [[ 1  2]\n",
      "  [ 3  4]\n",
      "  [ 5  6]\n",
      "  [ 7  8]\n",
      "  [ 9 10]]]\n"
     ]
    }
   ],
   "source": [
    "import numpy as np\n",
    "\n",
    "my_array1 = np.array([1, 2, 3, 4])\n",
    "print(my_array1.ndim)\n",
    "print(my_array1.shape)\n",
    "\n",
    "print(\"#\" * 50)\n",
    "\n",
    "my_array2 = np.array([[1, 2, 3, 4], [1, 2, 3, 4], [1, 2, 3, 4]])\n",
    "print(my_array2.ndim)\n",
    "print(my_array2.shape)\n",
    "\n",
    "print(\"#\" * 50)\n",
    "\n",
    "my_array3 = np.array([[[1, 2, 3], [1, 2, 3]], [[1, 2, 3], [1, 2, 3]]])\n",
    "print(my_array3.ndim)\n",
    "print(my_array3.shape)\n",
    "\n",
    "print(\"#\" * 50)\n",
    "\n",
    "my_array4 = np.array([1, 2, 3, 4, 5, 6, 7, 8, 9, 10, 11, 12])\n",
    "print(my_array4.ndim)\n",
    "print(my_array4.shape)\n",
    "\n",
    "reshaped_array4 = my_array4.reshape(3, 4)\n",
    "print(reshaped_array4.ndim)\n",
    "print(reshaped_array4.shape)\n",
    "print(reshaped_array4)\n",
    "\n",
    "print(\"#\" * 50)\n",
    "\n",
    "my_array5 = np.array([[1, 2, 3, 4, 5, 6, 7, 8, 9, 10], [1, 2, 3, 4, 5, 6, 7, 8, 9, 10]])\n",
    "print(my_array5.ndim)\n",
    "print(my_array5.shape)\n",
    "\n",
    "print(\"#\" * 50)\n",
    "\n",
    "# reshaped_array5 = my_array5.reshape(-1)\n",
    "# reshaped_array5 = my_array5.reshape(4, 5)\n",
    "reshaped_array5 = my_array5.reshape(2, 5, 2)\n",
    "print(reshaped_array5.ndim)\n",
    "print(reshaped_array5.shape)\n",
    "print(reshaped_array5)"
   ]
  }
 ],
 "metadata": {
  "kernelspec": {
   "display_name": "base",
   "language": "python",
   "name": "python3"
  },
  "language_info": {
   "codemirror_mode": {
    "name": "ipython",
    "version": 3
   },
   "file_extension": ".py",
   "mimetype": "text/x-python",
   "name": "python",
   "nbconvert_exporter": "python",
   "pygments_lexer": "ipython3",
   "version": "3.11.4"
  },
  "orig_nbformat": 4
 },
 "nbformat": 4,
 "nbformat_minor": 2
}
